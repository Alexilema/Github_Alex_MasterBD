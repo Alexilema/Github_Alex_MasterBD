{
 "cells": [
  {
   "cell_type": "markdown",
   "id": "3224e384",
   "metadata": {},
   "source": [
    "Explorando sesgo-varianza a través de validación cruzada repetida y boxplot"
   ]
  },
  {
   "cell_type": "code",
   "execution_count": 16,
   "id": "6f4db465",
   "metadata": {},
   "outputs": [],
   "source": [
    "# analysis\n",
    "import pandas as pd\n",
    "import numpy as np\n",
    "import matplotlib.pyplot as plt\n",
    "import seaborn as sns\n",
    "import warnings\n",
    "\n",
    "sns.set_style('darkgrid')\n",
    "np.set_printoptions(precision=3)\n",
    "warnings.filterwarnings(\"ignore\")\n",
    "\n",
    "# missings (imputer)\n",
    "# from sklearn.impute import SimpleImputer, KNNImputer\n",
    "\n",
    "# interacciones\n",
    "from sklearn.preprocessing import PolynomialFeatures\n",
    "\n",
    "# transformaciones\n",
    "from sklearn.compose import ColumnTransformer\n",
    "# - variab numéricas\n",
    "from sklearn.preprocessing import RobustScaler # MinMaxScaler, StandardScaler, Normalizer, Binarizer \n",
    "# from sklearn.preprocessing import PowerTransformer, BoxCox\n",
    "# - variab categ\n",
    "from sklearn.preprocessing import OneHotEncoder # LabelEncoder, OrdinalEncoder\n",
    "\n",
    "#  --  --  --  --  --  --  --  --  --  --  --  --  --  --  --  --  --  --  --  --\n",
    "# SELECCIÓN DE VARIABLES:\n",
    "# PCA\n",
    "# from sklearn.decomposition import PCA\n",
    "\n",
    "# a) filters\n",
    "from sklearn.feature_selection import f_classif # chi2\n",
    "\n",
    "# b) wrappers\n",
    "from sklearn.feature_selection import SelectKBest, SelectFromModel\n",
    "from sklearn.feature_selection import RFE, RFECV\n",
    "\n",
    "# mlxtend forward & backward\n",
    "from mlxtend.feature_selection import SequentialFeatureSelector as sfs\n",
    "from mlxtend.plotting import plot_sequential_feature_selection as plot_sfs\n",
    "\n",
    "# (estimators for importance score)\n",
    "from sklearn.linear_model import LogisticRegression\n",
    "#  --  --  --  --  --  --  --  --  --  --  --  --  --  --  --  --  --  --  --  --\n",
    "\n",
    "# algoritmos\n",
    "from sklearn.linear_model import LogisticRegression\n",
    "from sklearn.tree import DecisionTreeClassifier\n",
    "from sklearn.neighbors import KNeighborsClassifier\n",
    "from sklearn.discriminant_analysis import LinearDiscriminantAnalysis\n",
    "from sklearn.naive_bayes import GaussianNB\n",
    "from sklearn.svm import SVC\n",
    "from sklearn.neural_network import MLPClassifier # red neuronal\n",
    "\n",
    "# bagging\n",
    "from sklearn.ensemble import BaggingClassifier, RandomForestClassifier\n",
    "from sklearn.ensemble import VotingClassifier, ExtraTreesClassifier\n",
    "\n",
    "# boosting\n",
    "from sklearn.ensemble import GradientBoostingClassifier\n",
    "from sklearn.ensemble import AdaBoostClassifier\n",
    "# import xgboost as xgb\n",
    "\n",
    "# model selection\n",
    "# from sklearn.model_selection import train_test_split\n",
    "from imblearn.over_sampling import SMOTE, SMOTENC\n",
    "from sklearn.pipeline import Pipeline # make_pipeline\n",
    "from sklearn.model_selection import GridSearchCV # RandomizedSearchCV\n",
    "from sklearn.model_selection import KFold, ShuffleSplit, LeaveOneOut, StratifiedKFold, RepeatedStratifiedKFold\n",
    "from sklearn.model_selection import cross_val_score, cross_val_predict, ParameterGrid\n",
    "\n",
    "# técnicas de evaluación\n",
    "from sklearn.metrics import confusion_matrix, ConfusionMatrixDisplay\n",
    "from sklearn.metrics import classification_report\n",
    "from sklearn.metrics import make_scorer, accuracy_score, f1_score, precision_score, recall_score\n",
    "from sklearn.metrics import auc, roc_curve, roc_auc_score, RocCurveDisplay"
   ]
  },
  {
   "cell_type": "code",
   "execution_count": 17,
   "id": "306bcd59",
   "metadata": {},
   "outputs": [],
   "source": [
    "# semilla de aleatorización\n",
    "\n",
    "seed = 99"
   ]
  },
  {
   "cell_type": "markdown",
   "id": "a136b0e4",
   "metadata": {},
   "source": [
    "Recuerda: en este notebook, los datos cargados son diferentes, \"datos_fs\""
   ]
  },
  {
   "cell_type": "code",
   "execution_count": 18,
   "id": "a94796b8",
   "metadata": {},
   "outputs": [
    {
     "name": "stdout",
     "output_type": "stream",
     "text": [
      "Número de filas: 4687, Númerode columnas:8\n"
     ]
    },
    {
     "data": {
      "text/html": [
       "<div>\n",
       "<style scoped>\n",
       "    .dataframe tbody tr th:only-of-type {\n",
       "        vertical-align: middle;\n",
       "    }\n",
       "\n",
       "    .dataframe tbody tr th {\n",
       "        vertical-align: top;\n",
       "    }\n",
       "\n",
       "    .dataframe thead th {\n",
       "        text-align: right;\n",
       "    }\n",
       "</style>\n",
       "<table border=\"1\" class=\"dataframe\">\n",
       "  <thead>\n",
       "    <tr style=\"text-align: right;\">\n",
       "      <th></th>\n",
       "      <th>scaler__Est Dia in M(max) scaler__Minimum Orbit Intersection_log</th>\n",
       "      <th>encoder__Orbit Uncertainity (categ)_1-2</th>\n",
       "      <th>scaler__Est Dia in M(max)_raiz2</th>\n",
       "      <th>scaler__Perihelion Distance scaler__Mean Motion_cuarta</th>\n",
       "      <th>scaler__Est Dia in M(max) scaler__Est Dia in M(max)_raiz2</th>\n",
       "      <th>scaler__Minimum Orbit Intersection</th>\n",
       "      <th>Dataset</th>\n",
       "      <th>Hazardous</th>\n",
       "    </tr>\n",
       "  </thead>\n",
       "  <tbody>\n",
       "    <tr>\n",
       "      <th>0</th>\n",
       "      <td>0.140380</td>\n",
       "      <td>0.0</td>\n",
       "      <td>0.805003</td>\n",
       "      <td>0.029672</td>\n",
       "      <td>0.875189</td>\n",
       "      <td>0.137601</td>\n",
       "      <td>train</td>\n",
       "      <td>0</td>\n",
       "    </tr>\n",
       "    <tr>\n",
       "      <th>1</th>\n",
       "      <td>-0.009837</td>\n",
       "      <td>0.0</td>\n",
       "      <td>-0.194176</td>\n",
       "      <td>-0.052661</td>\n",
       "      <td>0.033127</td>\n",
       "      <td>0.056834</td>\n",
       "      <td>train</td>\n",
       "      <td>0</td>\n",
       "    </tr>\n",
       "    <tr>\n",
       "      <th>2</th>\n",
       "      <td>0.021498</td>\n",
       "      <td>0.0</td>\n",
       "      <td>0.099947</td>\n",
       "      <td>0.002052</td>\n",
       "      <td>0.010164</td>\n",
       "      <td>0.247025</td>\n",
       "      <td>train</td>\n",
       "      <td>0</td>\n",
       "    </tr>\n",
       "    <tr>\n",
       "      <th>3</th>\n",
       "      <td>0.258344</td>\n",
       "      <td>1.0</td>\n",
       "      <td>0.393730</td>\n",
       "      <td>-1.099622</td>\n",
       "      <td>0.179251</td>\n",
       "      <td>1.016807</td>\n",
       "      <td>train</td>\n",
       "      <td>0</td>\n",
       "    </tr>\n",
       "    <tr>\n",
       "      <th>4</th>\n",
       "      <td>0.710773</td>\n",
       "      <td>1.0</td>\n",
       "      <td>1.029155</td>\n",
       "      <td>0.094209</td>\n",
       "      <td>1.542575</td>\n",
       "      <td>0.756381</td>\n",
       "      <td>train</td>\n",
       "      <td>0</td>\n",
       "    </tr>\n",
       "  </tbody>\n",
       "</table>\n",
       "</div>"
      ],
      "text/plain": [
       "   scaler__Est Dia in M(max) scaler__Minimum Orbit Intersection_log  \\\n",
       "0                                           0.140380                  \n",
       "1                                          -0.009837                  \n",
       "2                                           0.021498                  \n",
       "3                                           0.258344                  \n",
       "4                                           0.710773                  \n",
       "\n",
       "   encoder__Orbit Uncertainity (categ)_1-2  scaler__Est Dia in M(max)_raiz2  \\\n",
       "0                                      0.0                         0.805003   \n",
       "1                                      0.0                        -0.194176   \n",
       "2                                      0.0                         0.099947   \n",
       "3                                      1.0                         0.393730   \n",
       "4                                      1.0                         1.029155   \n",
       "\n",
       "   scaler__Perihelion Distance scaler__Mean Motion_cuarta  \\\n",
       "0                                           0.029672        \n",
       "1                                          -0.052661        \n",
       "2                                           0.002052        \n",
       "3                                          -1.099622        \n",
       "4                                           0.094209        \n",
       "\n",
       "   scaler__Est Dia in M(max) scaler__Est Dia in M(max)_raiz2  \\\n",
       "0                                           0.875189           \n",
       "1                                           0.033127           \n",
       "2                                           0.010164           \n",
       "3                                           0.179251           \n",
       "4                                           1.542575           \n",
       "\n",
       "   scaler__Minimum Orbit Intersection Dataset  Hazardous  \n",
       "0                            0.137601   train          0  \n",
       "1                            0.056834   train          0  \n",
       "2                            0.247025   train          0  \n",
       "3                            1.016807   train          0  \n",
       "4                            0.756381   train          0  "
      ]
     },
     "execution_count": 18,
     "metadata": {},
     "output_type": "execute_result"
    }
   ],
   "source": [
    "# Cargar los datos\n",
    "data = pd.read_csv('Datasets/datos_fs.csv')\n",
    "\n",
    "print(f'Número de filas: {data.shape[0]}, Númerode columnas:{data.shape[1]}')\n",
    "data.head()"
   ]
  },
  {
   "cell_type": "code",
   "execution_count": 19,
   "id": "22866a66",
   "metadata": {},
   "outputs": [],
   "source": [
    "# Separar en train y test\n",
    "X_train = data[data['Dataset'] == 'train'].drop(['Dataset'], axis=1)\n",
    "X_test = data[data['Dataset'] == 'test'].drop(['Dataset'], axis=1)\n",
    "\n",
    "y_train = X_train.pop('Hazardous')\n",
    "y_test = X_test.pop('Hazardous')"
   ]
  },
  {
   "cell_type": "markdown",
   "id": "e84dc10a",
   "metadata": {},
   "source": [
    "### Comentarios:\n",
    "\n",
    "* MLPClassifier no tiene el parám 'class_weights'. Probaremos a obtener el mejor modelo tanto con los train_data desbalanceados como balanceados con smote\n",
    "\n",
    "* Solo buscaremos redes de 1 capa oculta. Para nuestro problema, es más que suficiente\n",
    "* \n"
   ]
  },
  {
   "cell_type": "code",
   "execution_count": 20,
   "id": "588983e8",
   "metadata": {},
   "outputs": [],
   "source": [
    "# SMOTE (remuestro de datos de entrenamiento desbalanceados)\n",
    "# (en este notebook, SMOTE en lugar de SMOTENC)\n",
    "\n",
    "smote = SMOTE(random_state=seed)\n",
    "\n",
    "X_train_resampled, y_train_resampled = smote.fit_resample(X_train, y_train)"
   ]
  },
  {
   "cell_type": "markdown",
   "id": "c2548859",
   "metadata": {},
   "source": [
    "Nota:\n",
    "\n",
    "\"data_fs.csv\" ya inlcuye:\n",
    "- transformacines\n",
    "- escalado\n",
    "- codificación\n",
    "- interacciones\n",
    "\n",
    "(En este notebook, no necesitamos col_transformer ni pipeline, solo queda el tuneado de paráms)"
   ]
  },
  {
   "cell_type": "code",
   "execution_count": 21,
   "id": "fb0d29f2",
   "metadata": {},
   "outputs": [
    {
     "name": "stdout",
     "output_type": "stream",
     "text": [
      "\n",
      "Tiempo de ejecución: 589.6943216323853 segundos\n"
     ]
    },
    {
     "data": {
      "text/html": [
       "<style>#sk-container-id-3 {color: black;background-color: white;}#sk-container-id-3 pre{padding: 0;}#sk-container-id-3 div.sk-toggleable {background-color: white;}#sk-container-id-3 label.sk-toggleable__label {cursor: pointer;display: block;width: 100%;margin-bottom: 0;padding: 0.3em;box-sizing: border-box;text-align: center;}#sk-container-id-3 label.sk-toggleable__label-arrow:before {content: \"▸\";float: left;margin-right: 0.25em;color: #696969;}#sk-container-id-3 label.sk-toggleable__label-arrow:hover:before {color: black;}#sk-container-id-3 div.sk-estimator:hover label.sk-toggleable__label-arrow:before {color: black;}#sk-container-id-3 div.sk-toggleable__content {max-height: 0;max-width: 0;overflow: hidden;text-align: left;background-color: #f0f8ff;}#sk-container-id-3 div.sk-toggleable__content pre {margin: 0.2em;color: black;border-radius: 0.25em;background-color: #f0f8ff;}#sk-container-id-3 input.sk-toggleable__control:checked~div.sk-toggleable__content {max-height: 200px;max-width: 100%;overflow: auto;}#sk-container-id-3 input.sk-toggleable__control:checked~label.sk-toggleable__label-arrow:before {content: \"▾\";}#sk-container-id-3 div.sk-estimator input.sk-toggleable__control:checked~label.sk-toggleable__label {background-color: #d4ebff;}#sk-container-id-3 div.sk-label input.sk-toggleable__control:checked~label.sk-toggleable__label {background-color: #d4ebff;}#sk-container-id-3 input.sk-hidden--visually {border: 0;clip: rect(1px 1px 1px 1px);clip: rect(1px, 1px, 1px, 1px);height: 1px;margin: -1px;overflow: hidden;padding: 0;position: absolute;width: 1px;}#sk-container-id-3 div.sk-estimator {font-family: monospace;background-color: #f0f8ff;border: 1px dotted black;border-radius: 0.25em;box-sizing: border-box;margin-bottom: 0.5em;}#sk-container-id-3 div.sk-estimator:hover {background-color: #d4ebff;}#sk-container-id-3 div.sk-parallel-item::after {content: \"\";width: 100%;border-bottom: 1px solid gray;flex-grow: 1;}#sk-container-id-3 div.sk-label:hover label.sk-toggleable__label {background-color: #d4ebff;}#sk-container-id-3 div.sk-serial::before {content: \"\";position: absolute;border-left: 1px solid gray;box-sizing: border-box;top: 0;bottom: 0;left: 50%;z-index: 0;}#sk-container-id-3 div.sk-serial {display: flex;flex-direction: column;align-items: center;background-color: white;padding-right: 0.2em;padding-left: 0.2em;position: relative;}#sk-container-id-3 div.sk-item {position: relative;z-index: 1;}#sk-container-id-3 div.sk-parallel {display: flex;align-items: stretch;justify-content: center;background-color: white;position: relative;}#sk-container-id-3 div.sk-item::before, #sk-container-id-3 div.sk-parallel-item::before {content: \"\";position: absolute;border-left: 1px solid gray;box-sizing: border-box;top: 0;bottom: 0;left: 50%;z-index: -1;}#sk-container-id-3 div.sk-parallel-item {display: flex;flex-direction: column;z-index: 1;position: relative;background-color: white;}#sk-container-id-3 div.sk-parallel-item:first-child::after {align-self: flex-end;width: 50%;}#sk-container-id-3 div.sk-parallel-item:last-child::after {align-self: flex-start;width: 50%;}#sk-container-id-3 div.sk-parallel-item:only-child::after {width: 0;}#sk-container-id-3 div.sk-dashed-wrapped {border: 1px dashed gray;margin: 0 0.4em 0.5em 0.4em;box-sizing: border-box;padding-bottom: 0.4em;background-color: white;}#sk-container-id-3 div.sk-label label {font-family: monospace;font-weight: bold;display: inline-block;line-height: 1.2em;}#sk-container-id-3 div.sk-label-container {text-align: center;}#sk-container-id-3 div.sk-container {/* jupyter's `normalize.less` sets `[hidden] { display: none; }` but bootstrap.min.css set `[hidden] { display: none !important; }` so we also need the `!important` here to be able to override the default hidden behavior on the sphinx rendered scikit-learn.org. See: https://github.com/scikit-learn/scikit-learn/issues/21755 */display: inline-block !important;position: relative;}#sk-container-id-3 div.sk-text-repr-fallback {display: none;}</style><div id=\"sk-container-id-3\" class=\"sk-top-container\"><div class=\"sk-text-repr-fallback\"><pre>MLPClassifier(activation=&#x27;tanh&#x27;, hidden_layer_sizes=6, random_state=99,\n",
       "              solver=&#x27;lbfgs&#x27;)</pre><b>In a Jupyter environment, please rerun this cell to show the HTML representation or trust the notebook. <br />On GitHub, the HTML representation is unable to render, please try loading this page with nbviewer.org.</b></div><div class=\"sk-container\" hidden><div class=\"sk-item\"><div class=\"sk-estimator sk-toggleable\"><input class=\"sk-toggleable__control sk-hidden--visually\" id=\"sk-estimator-id-5\" type=\"checkbox\" checked><label for=\"sk-estimator-id-5\" class=\"sk-toggleable__label sk-toggleable__label-arrow\">MLPClassifier</label><div class=\"sk-toggleable__content\"><pre>MLPClassifier(activation=&#x27;tanh&#x27;, hidden_layer_sizes=6, random_state=99,\n",
       "              solver=&#x27;lbfgs&#x27;)</pre></div></div></div></div></div>"
      ],
      "text/plain": [
       "MLPClassifier(activation='tanh', hidden_layer_sizes=6, random_state=99,\n",
       "              solver='lbfgs')"
      ]
     },
     "execution_count": 21,
     "metadata": {},
     "output_type": "execute_result"
    }
   ],
   "source": [
    "# Red neuronal\n",
    "# 1º etapa\n",
    "\n",
    "import time\n",
    "start_time = time.time()\n",
    "\n",
    "# Algoritmo a probar (multilayer perceptron)\n",
    "model = MLPClassifier(solver='lbfgs', # lbfgs, sgd, adam (stochastic grad desc)\n",
    "                      random_state=seed)\n",
    "\n",
    "# MLPClassifier solo permite una única función de activación para todas las capas ocultas.\n",
    "# Además, la de la capa de salida es o softmax en multiclase, o sigmoid en binaria\n",
    "\n",
    "# Otros args por dfto:\n",
    "# - learning_rate='constant'\n",
    "# - learning_rate_init=0.001\n",
    "# - batch_size\n",
    "# - early_stopping=False (validation_fraction=0.1, solo si early_stopping=True)\n",
    "# - n_iter_no_change=10\n",
    "\n",
    "parametros = {\n",
    "    \"activation\": ['relu','logistic','tanh'],\n",
    "    \"hidden_layer_sizes\": [3,6,9], # 1 capa, n-neuronas\n",
    "    \"alpha\": [0.0001, 0.001, 0.01], # L2 regularization term streght\n",
    "    \"max_iter\": [100, 200]\n",
    "}\n",
    "\n",
    "# Repeated cross_val (stratified)\n",
    "# cv_technique = StratifiedKFold(n_splits=10, shuffle=True, random_state=seed)\n",
    "cv_technique = RepeatedStratifiedKFold(n_splits=10, n_repeats=5, random_state=seed)\n",
    "\n",
    "# GridSearchCV para encontrar los mejores hiperparámetros\n",
    "gsearch = GridSearchCV(estimator=model, cv=cv_technique, param_grid=parametros, scoring='f1')\n",
    "\n",
    "# Entrenar\n",
    "grid_model = gsearch.fit(X_train_resampled, y_train_resampled)\n",
    "\n",
    "end_time = time.time()\n",
    "print()\n",
    "print(\"Tiempo de ejecución:\", end_time - start_time, \"segundos\")\n",
    "\n",
    "# resultado\n",
    "best_model = grid_model.best_estimator_\n",
    "best_model"
   ]
  },
  {
   "cell_type": "code",
   "execution_count": 22,
   "id": "6c1829b2",
   "metadata": {},
   "outputs": [
    {
     "data": {
      "image/png": "[encoded data removed]",
      "text/plain": [
       "<Figure size 864x432 with 1 Axes>"
      ]
     },
     "metadata": {},
     "output_type": "display_data"
    },
    {
     "name": "stdout",
     "output_type": "stream",
     "text": [
      "\n",
      "Tiempo de ejecución: 209.85386109352112 segundos\n"
     ]
    }
   ],
   "source": [
    "# 2ª etapa\n",
    "\n",
    "import time\n",
    "start_time = time.time()\n",
    "\n",
    "pipe_fs = Pipeline([\n",
    "#         ('smote_nc', smote_nc), # quitarlo si class_weight='balanced'\n",
    "        ('feature_selection', SelectKBest(score_func=f_classif)), # k = número de variabs a seleccionar\n",
    "        ('algorithm', best_model)        \n",
    "])\n",
    "\n",
    "parametros_scores = {\n",
    "    \"feature_selection__k\": [3,4,5,6],\n",
    "    \"algorithm__hidden_layer_sizes\": [3,4,5,6,7], # 1 capa, n-neuronas\n",
    "}\n",
    "# \"hidden_layer_sizes\" también admite varias capas. Por ej:\n",
    "# [(4,4,2)] es 3 capas con 4, 4 y 2 neuronas respectivamente\n",
    "\n",
    "# Cambiamos el formato de la malla de parámetros para poder usarlos en el bucle for\n",
    "grid_params = list(ParameterGrid(parametros_scores)) # lista de diccionarios\n",
    "\n",
    "cv_scores = []\n",
    "for params in grid_params:\n",
    "    # Configura los parámetros del pipeline\n",
    "    pipe_fs.set_params(**params)\n",
    "    \n",
    "        ## set_params permite cambiar los paráms del pipe después de haber sido creado\n",
    "        ## ** es desempaquetado de diccionarios\n",
    "        # Es como si estuvieras pasando cada par de clave-valor del diccionario params\n",
    "        # como un argumento con nombre a la función set_params.\n",
    "    \n",
    "    # Calcula las puntuaciones de validación cruzada y las añade a la lista de puntuaciones\n",
    "    scores = cross_val_score(pipe_fs,\n",
    "                             X_train_resampled, y_train_resampled, # ojo si SMOTE\n",
    "                             cv=cv_technique, scoring='f1')\n",
    "    cv_scores.append(scores)\n",
    "\n",
    "# boxplot\n",
    "plt.figure(figsize=(12, 6))\n",
    "plt.boxplot(cv_scores)\n",
    "plt.title('Red Neuronal', fontsize=14)\n",
    "plt.xlabel('Modelos', fontsize=14)\n",
    "plt.ylabel('CV Score (f1)', fontsize=14)\n",
    "plt.yticks(fontsize=12)\n",
    "plt.xticks(range(2, len(cv_scores)+1), fontsize=12) # no consigo poner el xtick = 0\n",
    "\n",
    "    # xtick_locs = range(1, len(cv_scores) + 1)\n",
    "    # xtick_labels = [str(val) for val in parametros_scores[\"hidden_layer_sizes\"]]\n",
    "    # plt.xticks(xtick_locs, xtick_labels, fontsize=14)\n",
    "plt.show()\n",
    "\n",
    "end_time = time.time()\n",
    "print()\n",
    "print(\"Tiempo de ejecución:\", end_time - start_time, \"segundos\")"
   ]
  },
  {
   "cell_type": "code",
   "execution_count": 31,
   "id": "f7baeea6",
   "metadata": {},
   "outputs": [
    {
     "name": "stdout",
     "output_type": "stream",
     "text": [
      "{'algorithm__hidden_layer_sizes': 3, 'feature_selection__k': 3}\n",
      "{'algorithm__hidden_layer_sizes': 3, 'feature_selection__k': 4}\n",
      "{'algorithm__hidden_layer_sizes': 3, 'feature_selection__k': 5}\n",
      "{'algorithm__hidden_layer_sizes': 3, 'feature_selection__k': 6}\n",
      "{'algorithm__hidden_layer_sizes': 4, 'feature_selection__k': 3}\n",
      "{'algorithm__hidden_layer_sizes': 4, 'feature_selection__k': 4}\n",
      "{'algorithm__hidden_layer_sizes': 4, 'feature_selection__k': 5}\n"
     ]
    }
   ],
   "source": [
    "# Comparar mejores\n",
    "print(grid_params[0])\n",
    "print(grid_params[1])\n",
    "print(grid_params[2])\n",
    "print(grid_params[3])\n",
    "print(grid_params[4])\n",
    "print(grid_params[5])\n",
    "print(grid_params[6])"
   ]
  },
  {
   "cell_type": "code",
   "execution_count": 37,
   "id": "6fbb71ff",
   "metadata": {},
   "outputs": [
    {
     "name": "stdout",
     "output_type": "stream",
     "text": [
      "{'algorithm__hidden_layer_sizes': 3, 'feature_selection__k': 3}\n"
     ]
    },
    {
     "data": {
      "text/html": [
       "<style>#sk-container-id-6 {color: black;background-color: white;}#sk-container-id-6 pre{padding: 0;}#sk-container-id-6 div.sk-toggleable {background-color: white;}#sk-container-id-6 label.sk-toggleable__label {cursor: pointer;display: block;width: 100%;margin-bottom: 0;padding: 0.3em;box-sizing: border-box;text-align: center;}#sk-container-id-6 label.sk-toggleable__label-arrow:before {content: \"▸\";float: left;margin-right: 0.25em;color: #696969;}#sk-container-id-6 label.sk-toggleable__label-arrow:hover:before {color: black;}#sk-container-id-6 div.sk-estimator:hover label.sk-toggleable__label-arrow:before {color: black;}#sk-container-id-6 div.sk-toggleable__content {max-height: 0;max-width: 0;overflow: hidden;text-align: left;background-color: #f0f8ff;}#sk-container-id-6 div.sk-toggleable__content pre {margin: 0.2em;color: black;border-radius: 0.25em;background-color: #f0f8ff;}#sk-container-id-6 input.sk-toggleable__control:checked~div.sk-toggleable__content {max-height: 200px;max-width: 100%;overflow: auto;}#sk-container-id-6 input.sk-toggleable__control:checked~label.sk-toggleable__label-arrow:before {content: \"▾\";}#sk-container-id-6 div.sk-estimator input.sk-toggleable__control:checked~label.sk-toggleable__label {background-color: #d4ebff;}#sk-container-id-6 div.sk-label input.sk-toggleable__control:checked~label.sk-toggleable__label {background-color: #d4ebff;}#sk-container-id-6 input.sk-hidden--visually {border: 0;clip: rect(1px 1px 1px 1px);clip: rect(1px, 1px, 1px, 1px);height: 1px;margin: -1px;overflow: hidden;padding: 0;position: absolute;width: 1px;}#sk-container-id-6 div.sk-estimator {font-family: monospace;background-color: #f0f8ff;border: 1px dotted black;border-radius: 0.25em;box-sizing: border-box;margin-bottom: 0.5em;}#sk-container-id-6 div.sk-estimator:hover {background-color: #d4ebff;}#sk-container-id-6 div.sk-parallel-item::after {content: \"\";width: 100%;border-bottom: 1px solid gray;flex-grow: 1;}#sk-container-id-6 div.sk-label:hover label.sk-toggleable__label {background-color: #d4ebff;}#sk-container-id-6 div.sk-serial::before {content: \"\";position: absolute;border-left: 1px solid gray;box-sizing: border-box;top: 0;bottom: 0;left: 50%;z-index: 0;}#sk-container-id-6 div.sk-serial {display: flex;flex-direction: column;align-items: center;background-color: white;padding-right: 0.2em;padding-left: 0.2em;position: relative;}#sk-container-id-6 div.sk-item {position: relative;z-index: 1;}#sk-container-id-6 div.sk-parallel {display: flex;align-items: stretch;justify-content: center;background-color: white;position: relative;}#sk-container-id-6 div.sk-item::before, #sk-container-id-6 div.sk-parallel-item::before {content: \"\";position: absolute;border-left: 1px solid gray;box-sizing: border-box;top: 0;bottom: 0;left: 50%;z-index: -1;}#sk-container-id-6 div.sk-parallel-item {display: flex;flex-direction: column;z-index: 1;position: relative;background-color: white;}#sk-container-id-6 div.sk-parallel-item:first-child::after {align-self: flex-end;width: 50%;}#sk-container-id-6 div.sk-parallel-item:last-child::after {align-self: flex-start;width: 50%;}#sk-container-id-6 div.sk-parallel-item:only-child::after {width: 0;}#sk-container-id-6 div.sk-dashed-wrapped {border: 1px dashed gray;margin: 0 0.4em 0.5em 0.4em;box-sizing: border-box;padding-bottom: 0.4em;background-color: white;}#sk-container-id-6 div.sk-label label {font-family: monospace;font-weight: bold;display: inline-block;line-height: 1.2em;}#sk-container-id-6 div.sk-label-container {text-align: center;}#sk-container-id-6 div.sk-container {/* jupyter's `normalize.less` sets `[hidden] { display: none; }` but bootstrap.min.css set `[hidden] { display: none !important; }` so we also need the `!important` here to be able to override the default hidden behavior on the sphinx rendered scikit-learn.org. See: https://github.com/scikit-learn/scikit-learn/issues/21755 */display: inline-block !important;position: relative;}#sk-container-id-6 div.sk-text-repr-fallback {display: none;}</style><div id=\"sk-container-id-6\" class=\"sk-top-container\"><div class=\"sk-text-repr-fallback\"><pre>Pipeline(steps=[(&#x27;feature_selection&#x27;, SelectKBest(k=3)),\n",
       "                (&#x27;algorithm&#x27;,\n",
       "                 MLPClassifier(activation=&#x27;tanh&#x27;, hidden_layer_sizes=3,\n",
       "                               random_state=99, solver=&#x27;lbfgs&#x27;))])</pre><b>In a Jupyter environment, please rerun this cell to show the HTML representation or trust the notebook. <br />On GitHub, the HTML representation is unable to render, please try loading this page with nbviewer.org.</b></div><div class=\"sk-container\" hidden><div class=\"sk-item sk-dashed-wrapped\"><div class=\"sk-label-container\"><div class=\"sk-label sk-toggleable\"><input class=\"sk-toggleable__control sk-hidden--visually\" id=\"sk-estimator-id-12\" type=\"checkbox\" ><label for=\"sk-estimator-id-12\" class=\"sk-toggleable__label sk-toggleable__label-arrow\">Pipeline</label><div class=\"sk-toggleable__content\"><pre>Pipeline(steps=[(&#x27;feature_selection&#x27;, SelectKBest(k=3)),\n",
       "                (&#x27;algorithm&#x27;,\n",
       "                 MLPClassifier(activation=&#x27;tanh&#x27;, hidden_layer_sizes=3,\n",
       "                               random_state=99, solver=&#x27;lbfgs&#x27;))])</pre></div></div></div><div class=\"sk-serial\"><div class=\"sk-item\"><div class=\"sk-estimator sk-toggleable\"><input class=\"sk-toggleable__control sk-hidden--visually\" id=\"sk-estimator-id-13\" type=\"checkbox\" ><label for=\"sk-estimator-id-13\" class=\"sk-toggleable__label sk-toggleable__label-arrow\">SelectKBest</label><div class=\"sk-toggleable__content\"><pre>SelectKBest(k=3)</pre></div></div></div><div class=\"sk-item\"><div class=\"sk-estimator sk-toggleable\"><input class=\"sk-toggleable__control sk-hidden--visually\" id=\"sk-estimator-id-14\" type=\"checkbox\" ><label for=\"sk-estimator-id-14\" class=\"sk-toggleable__label sk-toggleable__label-arrow\">MLPClassifier</label><div class=\"sk-toggleable__content\"><pre>MLPClassifier(activation=&#x27;tanh&#x27;, hidden_layer_sizes=3, random_state=99,\n",
       "              solver=&#x27;lbfgs&#x27;)</pre></div></div></div></div></div></div></div>"
      ],
      "text/plain": [
       "Pipeline(steps=[('feature_selection', SelectKBest(k=3)),\n",
       "                ('algorithm',\n",
       "                 MLPClassifier(activation='tanh', hidden_layer_sizes=3,\n",
       "                               random_state=99, solver='lbfgs'))])"
      ]
     },
     "execution_count": 37,
     "metadata": {},
     "output_type": "execute_result"
    }
   ],
   "source": [
    "# El mejor modelo es:\n",
    "modelo_optimo = 0 # indicar modelo óptimo\n",
    "\n",
    "print(grid_params[modelo_optimo])\n",
    "\n",
    "# Configura el pipeline con los parámetros deseados\n",
    "selected_params = grid_params[modelo_optimo]\n",
    "pipe_fs.set_params(**selected_params)\n",
    "\n",
    "# Ajusta el modelo\n",
    "selected_model = pipe_fs.fit(X_train, y_train)\n",
    "selected_model"
   ]
  },
  {
   "cell_type": "code",
   "execution_count": 38,
   "id": "ee7b56cc",
   "metadata": {},
   "outputs": [
    {
     "data": {
      "text/plain": [
       "{'activation': 'tanh',\n",
       " 'alpha': 0.0001,\n",
       " 'batch_size': 'auto',\n",
       " 'beta_1': 0.9,\n",
       " 'beta_2': 0.999,\n",
       " 'early_stopping': False,\n",
       " 'epsilon': 1e-08,\n",
       " 'hidden_layer_sizes': 3,\n",
       " 'learning_rate': 'constant',\n",
       " 'learning_rate_init': 0.001,\n",
       " 'max_fun': 15000,\n",
       " 'max_iter': 200,\n",
       " 'momentum': 0.9,\n",
       " 'n_iter_no_change': 10,\n",
       " 'nesterovs_momentum': True,\n",
       " 'power_t': 0.5,\n",
       " 'random_state': 99,\n",
       " 'shuffle': True,\n",
       " 'solver': 'lbfgs',\n",
       " 'tol': 0.0001,\n",
       " 'validation_fraction': 0.1,\n",
       " 'verbose': False,\n",
       " 'warm_start': False}"
      ]
     },
     "execution_count": 38,
     "metadata": {},
     "output_type": "execute_result"
    }
   ],
   "source": [
    "selected_model.named_steps['algorithm'].get_params()"
   ]
  },
  {
   "cell_type": "code",
   "execution_count": 39,
   "id": "9aa73b46",
   "metadata": {},
   "outputs": [
    {
     "name": "stdout",
     "output_type": "stream",
     "text": [
      "Las 3 variabs seleccionadas son:\n"
     ]
    },
    {
     "data": {
      "text/plain": [
       "['scaler__Est Dia in M(max) scaler__Minimum Orbit Intersection_log',\n",
       " 'scaler__Est Dia in M(max)_raiz2',\n",
       " 'scaler__Minimum Orbit Intersection']"
      ]
     },
     "execution_count": 39,
     "metadata": {},
     "output_type": "execute_result"
    }
   ],
   "source": [
    "# Variables seleccionadas:\n",
    "\n",
    "select_names = selected_model.named_steps['feature_selection'].get_feature_names_out()\n",
    "\n",
    "print(f\"Las {len(select_names)} variabs seleccionadas son:\")\n",
    "[i for i in select_names]"
   ]
  },
  {
   "cell_type": "code",
   "execution_count": 40,
   "id": "1b94d6cc",
   "metadata": {},
   "outputs": [
    {
     "name": "stdout",
     "output_type": "stream",
     "text": [
      "El valor de f1 score es: \n",
      " 0.99\n",
      "Otros estadísticos del test: \n",
      "               precision    recall  f1-score   support\n",
      "\n",
      "           0       1.00      1.00      1.00       787\n",
      "           1       1.00      0.98      0.99       151\n",
      "\n",
      "    accuracy                           1.00       938\n",
      "   macro avg       1.00      0.99      0.99       938\n",
      "weighted avg       1.00      1.00      1.00       938\n",
      "\n"
     ]
    },
    {
     "data": {
      "image/png": "[encoded data removed]",
      "text/plain": [
       "<Figure size 288x288 with 1 Axes>"
      ]
     },
     "metadata": {},
     "output_type": "display_data"
    }
   ],
   "source": [
    "# Evalúa el mejor modelo en tus datos de prueba\n",
    "y_pred = selected_model.predict(X_test)\n",
    "\n",
    "# Calcular la precisión de las predicciones en el conjunto de prueba\n",
    "print(f\"El valor de f1 score es: \\n {f1_score(y_test, y_pred).round(3)}\")\n",
    "print(f\"Otros estadísticos del test: \\n {classification_report(y_test, y_pred)}\")\n",
    "\n",
    "# Matriz de confusión\n",
    "cm = confusion_matrix(y_test, y_pred)\n",
    "disp = ConfusionMatrixDisplay(confusion_matrix=cm)\n",
    "\n",
    "fig, ax = plt.subplots(figsize=(4, 4))\n",
    "disp.plot(ax=ax, cmap='viridis', values_format='d', colorbar=False)\n",
    "ax.grid(False) # Deshabilitar el grid de fondo\n",
    "\n",
    "# plt.title('Matriz de confusión', fontsize=18) # Cambiar tamaño del título\n",
    "ax.spines[['bottom','top','left','right']].set_color('black')\n",
    "plt.title('Red Neuronal', fontsize=16)\n",
    "plt.xlabel('Predicciones', fontsize=16)\n",
    "plt.ylabel('Valores Reales', fontsize=16)\n",
    "plt.xticks(fontsize=15)\n",
    "plt.yticks(fontsize=15)\n",
    "for text in ax.texts:\n",
    "    text.set_fontsize(15)\n",
    "plt.show()"
   ]
  },
  {
   "cell_type": "markdown",
   "id": "3a518b2f",
   "metadata": {},
   "source": [
    "### Importancia de las variabs - Olden Garson"
   ]
  },
  {
   "cell_type": "code",
   "execution_count": 28,
   "id": "6565678d",
   "metadata": {},
   "outputs": [
    {
     "data": {
      "text/html": [
       "\n",
       "    <style>\n",
       "    table.eli5-weights tr:hover {\n",
       "        filter: brightness(85%);\n",
       "    }\n",
       "</style>\n",
       "\n",
       "\n",
       "\n",
       "    \n",
       "\n",
       "    \n",
       "\n",
       "    \n",
       "\n",
       "    \n",
       "\n",
       "    \n",
       "\n",
       "    \n",
       "\n",
       "\n",
       "    \n",
       "\n",
       "    \n",
       "\n",
       "    \n",
       "\n",
       "    \n",
       "\n",
       "    \n",
       "\n",
       "    \n",
       "\n",
       "\n",
       "    \n",
       "\n",
       "    \n",
       "\n",
       "    \n",
       "\n",
       "    \n",
       "\n",
       "    \n",
       "        <table class=\"eli5-weights eli5-feature-importances\" style=\"border-collapse: collapse; border: none; margin-top: 0em; table-layout: auto;\">\n",
       "    <thead>\n",
       "    <tr style=\"border: none;\">\n",
       "        <th style=\"padding: 0 1em 0 0.5em; text-align: right; border: none;\">Weight</th>\n",
       "        <th style=\"padding: 0 0.5em 0 0.5em; text-align: left; border: none;\">Feature</th>\n",
       "    </tr>\n",
       "    </thead>\n",
       "    <tbody>\n",
       "    \n",
       "        <tr style=\"background-color: hsl(120, 100.00%, 80.00%); border: none;\">\n",
       "            <td style=\"padding: 0 1em 0 0.5em; text-align: right; border: none;\">\n",
       "                0.2524\n",
       "                \n",
       "                    &plusmn; 0.0053\n",
       "                \n",
       "            </td>\n",
       "            <td style=\"padding: 0 0.5em 0 0.5em; text-align: left; border: none;\">\n",
       "                scaler__Est Dia in M(max)_raiz2\n",
       "            </td>\n",
       "        </tr>\n",
       "    \n",
       "        <tr style=\"background-color: hsl(120, 100.00%, 81.85%); border: none;\">\n",
       "            <td style=\"padding: 0 1em 0 0.5em; text-align: right; border: none;\">\n",
       "                0.2198\n",
       "                \n",
       "                    &plusmn; 0.0104\n",
       "                \n",
       "            </td>\n",
       "            <td style=\"padding: 0 0.5em 0 0.5em; text-align: left; border: none;\">\n",
       "                scaler__Minimum Orbit Intersection\n",
       "            </td>\n",
       "        </tr>\n",
       "    \n",
       "        <tr style=\"background-color: hsl(120, 100.00%, 96.34%); border: none;\">\n",
       "            <td style=\"padding: 0 1em 0 0.5em; text-align: right; border: none;\">\n",
       "                0.0223\n",
       "                \n",
       "                    &plusmn; 0.0043\n",
       "                \n",
       "            </td>\n",
       "            <td style=\"padding: 0 0.5em 0 0.5em; text-align: left; border: none;\">\n",
       "                scaler__Est Dia in M(max) scaler__Minimum Orbit Intersection_log\n",
       "            </td>\n",
       "        </tr>\n",
       "    \n",
       "        <tr style=\"background-color: hsl(0, 100.00%, 100.00%); border: none;\">\n",
       "            <td style=\"padding: 0 1em 0 0.5em; text-align: right; border: none;\">\n",
       "                0\n",
       "                \n",
       "                    &plusmn; 0.0000\n",
       "                \n",
       "            </td>\n",
       "            <td style=\"padding: 0 0.5em 0 0.5em; text-align: left; border: none;\">\n",
       "                scaler__Est Dia in M(max) scaler__Est Dia in M(max)_raiz2\n",
       "            </td>\n",
       "        </tr>\n",
       "    \n",
       "        <tr style=\"background-color: hsl(0, 100.00%, 100.00%); border: none;\">\n",
       "            <td style=\"padding: 0 1em 0 0.5em; text-align: right; border: none;\">\n",
       "                0\n",
       "                \n",
       "                    &plusmn; 0.0000\n",
       "                \n",
       "            </td>\n",
       "            <td style=\"padding: 0 0.5em 0 0.5em; text-align: left; border: none;\">\n",
       "                scaler__Perihelion Distance scaler__Mean Motion_cuarta\n",
       "            </td>\n",
       "        </tr>\n",
       "    \n",
       "        <tr style=\"background-color: hsl(0, 100.00%, 100.00%); border: none;\">\n",
       "            <td style=\"padding: 0 1em 0 0.5em; text-align: right; border: none;\">\n",
       "                0\n",
       "                \n",
       "                    &plusmn; 0.0000\n",
       "                \n",
       "            </td>\n",
       "            <td style=\"padding: 0 0.5em 0 0.5em; text-align: left; border: none;\">\n",
       "                encoder__Orbit Uncertainity (categ)_1-2\n",
       "            </td>\n",
       "        </tr>\n",
       "    \n",
       "    \n",
       "    </tbody>\n",
       "</table>\n",
       "    \n",
       "\n",
       "    \n",
       "\n",
       "\n",
       "    \n",
       "\n",
       "    \n",
       "\n",
       "    \n",
       "\n",
       "    \n",
       "\n",
       "    \n",
       "\n",
       "    \n",
       "\n",
       "\n",
       "\n"
      ],
      "text/plain": [
       "<IPython.core.display.HTML object>"
      ]
     },
     "execution_count": 28,
     "metadata": {},
     "output_type": "execute_result"
    }
   ],
   "source": [
    "import eli5\n",
    "from eli5.sklearn import PermutationImportance\n",
    "\n",
    "net = selected_model\n",
    "\n",
    "# Calcular la importancia de las variables utilizando el método Olden-Garson\n",
    "perm = PermutationImportance(net, random_state=seed).fit(X_train, y_train)\n",
    "feature_names = list(X_train.columns)\n",
    "\n",
    "# Mostrar los resultados\n",
    "eli5.show_weights(perm, feature_names=feature_names)"
   ]
  },
  {
   "cell_type": "code",
   "execution_count": 29,
   "id": "09f27371",
   "metadata": {},
   "outputs": [
    {
     "data": {
      "image/png": "[encoded data removed]",
      "text/plain": [
       "<Figure size 720x360 with 1 Axes>"
      ]
     },
     "metadata": {},
     "output_type": "display_data"
    }
   ],
   "source": [
    "importances = perm.feature_importances_\n",
    "std = perm.feature_importances_std_\n",
    "\n",
    "# Crear un dataframe con la información\n",
    "df_importances = pd.DataFrame({'Variable': feature_names, 'Importancia': importances})\n",
    "\n",
    "# Ordenar las variables por su importancia\n",
    "df_importances = df_importances.sort_values('Importancia', ascending=False)\n",
    "\n",
    "# (recortar el nombre de las variabs, sino es muy largo)\n",
    "df_importances['Variable'] = df_importances['Variable'].replace(['scaler__', 'encoder__'], '', regex=True)\n",
    "\n",
    "# Gráfico de barras\n",
    "plt.figure(figsize=(10,5))\n",
    "# Como son demasiadas variabs, mostramos solo las n mejores:\n",
    "n = 10\n",
    "plt.bar(df_importances['Variable'][0:n], df_importances['Importancia'][0:n])\n",
    "plt.xticks(rotation=90, fontsize=12)\n",
    "plt.yticks(fontsize=14) \n",
    "plt.title('Importancia de las variables (Red Neuronal Olden-Garson)', fontsize=14) \n",
    "plt.xlabel('Variables', fontsize=14)\n",
    "plt.ylabel('Importancia', fontsize=14)\n",
    "plt.show()\n"
   ]
  },
  {
   "cell_type": "code",
   "execution_count": 41,
   "id": "7e81474d",
   "metadata": {},
   "outputs": [],
   "source": [
    "import pickle\n",
    "\n",
    "# Guarda los datos de puntuaciones\n",
    "with open('cv_scores_model7.pkl', 'wb') as f:\n",
    "    pickle.dump(cv_scores[modelo_optimo], f)"
   ]
  }
 ],
 "metadata": {
  "kernelspec": {
   "display_name": "Python 3 (ipykernel)",
   "language": "python",
   "name": "python3"
  },
  "language_info": {
   "codemirror_mode": {
    "name": "ipython",
    "version": 3
   },
   "file_extension": ".py",
   "mimetype": "text/x-python",
   "name": "python",
   "nbconvert_exporter": "python",
   "pygments_lexer": "ipython3",
   "version": "3.9.7"
  }
 },
 "nbformat": 4,
 "nbformat_minor": 5
}
