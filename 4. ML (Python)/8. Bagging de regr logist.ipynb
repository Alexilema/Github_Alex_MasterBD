{
 "cells": [
  {
   "cell_type": "code",
   "execution_count": 8,
   "id": "eb25138f",
   "metadata": {},
   "outputs": [],
   "source": [
    "# analysis\n",
    "import pandas as pd\n",
    "import numpy as np\n",
    "import matplotlib.pyplot as plt\n",
    "import seaborn as sns\n",
    "import warnings\n",
    "\n",
    "sns.set_style('darkgrid')\n",
    "np.set_printoptions(precision=3)\n",
    "warnings.filterwarnings(\"ignore\")\n",
    "\n",
    "# missings (imputer)\n",
    "# from sklearn.impute import SimpleImputer, KNNImputer\n",
    "\n",
    "# interacciones\n",
    "from sklearn.preprocessing import PolynomialFeatures\n",
    "\n",
    "# transformaciones\n",
    "from sklearn.compose import ColumnTransformer\n",
    "# - variab numéricas\n",
    "from sklearn.preprocessing import RobustScaler # MinMaxScaler, StandardScaler, Normalizer, Binarizer \n",
    "# from sklearn.preprocessing import PowerTransformer, BoxCox\n",
    "# - variab categ\n",
    "from sklearn.preprocessing import OneHotEncoder # LabelEncoder, OrdinalEncoder\n",
    "\n",
    "# feature selection\n",
    "from sklearn.feature_selection import f_classif # chi2\n",
    "from sklearn.feature_selection import SelectKBest, SelectFromModel\n",
    "from sklearn.feature_selection import RFE, RFECV\n",
    "# from sklearn.decomposition import PCA\n",
    "\n",
    "# algoritmos\n",
    "from sklearn.linear_model import LogisticRegression\n",
    "from sklearn.tree import DecisionTreeClassifier\n",
    "from sklearn.neighbors import KNeighborsClassifier\n",
    "from sklearn.discriminant_analysis import LinearDiscriminantAnalysis\n",
    "from sklearn.naive_bayes import GaussianNB\n",
    "from sklearn.svm import SVC\n",
    "from sklearn.neural_network import MLPClassifier # red neuronal\n",
    "\n",
    "# bagging\n",
    "from sklearn.ensemble import BaggingClassifier, RandomForestClassifier\n",
    "from sklearn.ensemble import VotingClassifier, ExtraTreesClassifier\n",
    "\n",
    "# boosting\n",
    "from sklearn.ensemble import GradientBoostingClassifier\n",
    "from sklearn.ensemble import AdaBoostClassifier\n",
    "# import xgboost as xgb\n",
    "\n",
    "# model selection\n",
    "from sklearn.model_selection import train_test_split\n",
    "from imblearn.over_sampling import SMOTE, SMOTENC\n",
    "from sklearn.pipeline import Pipeline #make_pipeline\n",
    "from sklearn.model_selection import GridSearchCV # RandomizedSearchCV\n",
    "from sklearn.model_selection import KFold, ShuffleSplit, LeaveOneOut, StratifiedKFold, RepeatedStratifiedKFold\n",
    "from sklearn.model_selection import cross_val_score, cross_val_predict, ParameterGrid\n",
    "\n",
    "# Técnicas de evaluación\n",
    "from sklearn.metrics import confusion_matrix, ConfusionMatrixDisplay\n",
    "from sklearn.metrics import classification_report\n",
    "from sklearn.metrics import make_scorer, accuracy_score, f1_score, precision_score, recall_score\n",
    "from sklearn.metrics import auc, roc_curve, roc_auc_score, RocCurveDisplay"
   ]
  },
  {
   "cell_type": "code",
   "execution_count": 9,
   "id": "ad85eb14",
   "metadata": {},
   "outputs": [],
   "source": [
    "# semilla de aleatorización\n",
    "\n",
    "seed = 99"
   ]
  },
  {
   "cell_type": "code",
   "execution_count": 10,
   "id": "368eeece",
   "metadata": {},
   "outputs": [
    {
     "name": "stdout",
     "output_type": "stream",
     "text": [
      "Número de filas: 4687, Númerode columnas:24\n"
     ]
    }
   ],
   "source": [
    "data = pd.read_csv('Datasets/datos_procesados.csv')\n",
    "\n",
    "print(f'Número de filas: {data.shape[0]}, Númerode columnas:{data.shape[1]}')"
   ]
  },
  {
   "cell_type": "code",
   "execution_count": 11,
   "id": "5520309d",
   "metadata": {},
   "outputs": [],
   "source": [
    "# Separar en train y test\n",
    "X_train = data[data['Dataset'] == 'train'].drop(['Dataset'], axis=1)\n",
    "X_test = data[data['Dataset'] == 'test'].drop(['Dataset'], axis=1)\n",
    "\n",
    "# variable objetivo (.pop elimina la col de X, que también es un paso necesario)\n",
    "y_train = X_train.pop('Hazardous')\n",
    "y_test = X_test.pop('Hazardous')"
   ]
  },
  {
   "cell_type": "code",
   "execution_count": 12,
   "id": "01a03f1e",
   "metadata": {},
   "outputs": [],
   "source": [
    "# SMOTE (remuestro de datos de entrenamiento desbalanceados)\n",
    "\n",
    "# Probaremos a obtener el mejor modelo tanto con los train_data desbalanceados como balanceados con smote\n",
    "\n",
    "categ_index = X_train.columns.get_loc('Orbit Uncertainity (categ)')\n",
    "\n",
    "smote_nc = SMOTENC(categorical_features=[categ_index], # hay que indicarle cuál es la variab categ en el dataset que se va a transformar\n",
    "             random_state=seed)\n",
    "\n",
    "X_train_resampled, y_train_resampled = smote_nc.fit_resample(X_train, y_train)"
   ]
  },
  {
   "cell_type": "markdown",
   "id": "d3b69399",
   "metadata": {},
   "source": [
    "## 2.a Bagging"
   ]
  },
  {
   "cell_type": "markdown",
   "id": "d692a008",
   "metadata": {},
   "source": [
    "* **Bagging** es crear varios modelos, todos del mismo algoritmo, entrenados con distintas muestras (bootstrapping), y sus resultados se promedian.\n",
    "\n",
    "* **Random Forest** es un caso de bagging con árboles, donde cada árbol se construye utilizando una muestra bootstrapeada y una selección aleatoria de variabs en cada división del árbol."
   ]
  },
  {
   "cell_type": "code",
   "execution_count": 13,
   "id": "3de323b4",
   "metadata": {},
   "outputs": [
    {
     "name": "stdout",
     "output_type": "stream",
     "text": [
      "\n",
      "Tiempo de ejecución: 0.0010023117065429688 segundos\n"
     ]
    }
   ],
   "source": [
    "# 1ª etapa (with all features)\n",
    "\n",
    "import time\n",
    "start_time = time.time()\n",
    "\n",
    "# Algoritmo a probar\n",
    "model = BaggingClassifier(estimator=LogisticRegression(\n",
    "                                        max_iter=100,\n",
    "                                        penalty='l1',\n",
    "                                        C= 0.1,\n",
    "                                        solver='liblinear',\n",
    "                                        class_weight='balanced',\n",
    "                                        random_state=seed), random_state=seed)\n",
    "\n",
    "# Definir variabs numéricas y categóricas\n",
    "scaler_features = X_train.select_dtypes(include=[np.number]).columns.tolist()\n",
    "categ_features = [feature for feature in X_train.columns if feature not in scaler_features]\n",
    "\n",
    "# Column transformer\n",
    "col_transformer = ColumnTransformer(\n",
    "    [\n",
    "    ('encoder', OneHotEncoder(drop=[\"3-9\"]), ['Orbit Uncertainity (categ)']), # @@ necesario??\n",
    "    ('scaler', RobustScaler(), scaler_features)\n",
    "    ], remainder='passthrough')\n",
    "\n",
    "##### no hace falta ejecutar esta parte, no hay paráms que buscar, podemos hacer solo la 2ª etapa\n",
    "\n",
    "# # Definir instancia SMOTENC\n",
    "# categ_index = X_train.columns.get_loc('Orbit Uncertainity (categ)')\n",
    "# smote_nc = SMOTENC(categorical_features=[categ_index], # hay que indicarle cuál es la variab categ en el dataset que se va a transformar\n",
    "#              random_state=seed)\n",
    "\n",
    "# # Pipeline 1\n",
    "# pipe = Pipeline([\n",
    "# #         ('smote_nc', smote_nc), # quitarlo si class_weight='balanced'\n",
    "#         ('column_transform', col_transformer),\n",
    "#         ('polynomial', PolynomialFeatures(degree=2, interaction_only=True, include_bias=False)), # añadir interacciones\n",
    "#         ('algorithm', model)        \n",
    "# ])\n",
    "\n",
    "# # Tuneado del modelo (malla de paráms)\n",
    "#     # Podríamos buscar los mejores paráms teniendo en cuenta también los paráms de cada árbol.\n",
    "#     # Pero la ejecución tarda mucho, y en el apartado 2 ya vimos cuál era el mejor árbol para\n",
    "#     # nuestro dataset, así que nos basamos en ese árbol (lo definimos arriba)\n",
    "# parametros = {\n",
    "#     \"algorithm__n_estimators\": [20,30,40], # número de regr logists en el Bagging\n",
    "#     \"algorithm__max_samples\": [0.5, 0.75, 1] # si 1, hace reemplazamiento (para que sea bootstrapping)\n",
    "# #     \"algorithm__max_features\": [1] # dejamos que use todas, no queremos ahora RandomForest\n",
    "# }\n",
    "\n",
    "# Repeated cross_val (stratified)\n",
    "# cv_technique = StratifiedKFold(n_splits=10, shuffle=True, random_state=seed)\n",
    "cv_technique = RepeatedStratifiedKFold(n_splits=10, n_repeats=5, random_state=seed)\n",
    "\n",
    "# # combinamos todo\n",
    "# gsearch = GridSearchCV(estimator=pipe, cv=cv_technique, param_grid=parametros, scoring='f1')\n",
    "\n",
    "# # buscamos el mejor modelo\n",
    "# # opción a) sin resample y con class_weight='balanced':\n",
    "# grid_model = gsearch.fit(X_train, y_train)\n",
    "\n",
    "# # opción b) con resample (SMOTE)\n",
    "# # grid_model = gsearch.fit(X_train_resampled, y_train_resampled)\n",
    "\n",
    "# print(\"Best CV score:\", grid_model.best_score_)\n",
    "\n",
    "end_time = time.time()\n",
    "print()\n",
    "print(\"Tiempo de ejecución:\", end_time - start_time, \"segundos\")"
   ]
  },
  {
   "cell_type": "code",
   "execution_count": 14,
   "id": "8b0e2e07",
   "metadata": {},
   "outputs": [
    {
     "data": {
      "image/png": "[encoded data removed]",
      "text/plain": [
       "<Figure size 864x432 with 1 Axes>"
      ]
     },
     "metadata": {},
     "output_type": "display_data"
    },
    {
     "name": "stdout",
     "output_type": "stream",
     "text": [
      "\n",
      "Tiempo de ejecución: 162.63491582870483 segundos\n"
     ]
    }
   ],
   "source": [
    "# 2ª etapa: boxplot para elegir el resto de paráms\n",
    "\n",
    "# no podemos poner muchos paráms, o no veremos nada en los boxplots\n",
    "# por eso aquí hay traer ya algunos paráms elegido\n",
    "\n",
    "\n",
    "import time\n",
    "start_time = time.time()\n",
    "\n",
    "pipe_fs = Pipeline([\n",
    "        ('column_transform', col_transformer),\n",
    "        ('polynomial', PolynomialFeatures(degree=2, interaction_only=True, include_bias=False)), # añadir interacciones\n",
    "        ('feature_selection', SelectKBest(score_func=f_classif)), # k = número de variabs a seleccionar\n",
    "#         ('algorithm', grid_model.best_estimator_.named_steps['algorithm']) \n",
    "        ('algorithm', model) \n",
    "]) # importante: meter el mejor algorithm obtenido antes\n",
    "\n",
    "parametros_fs = {\n",
    "    \"feature_selection__k\": [3,4,5,6],\n",
    "    \"algorithm__n_estimators\": [10,20,30], # número de árboles en el Bagging\n",
    "    \"algorithm__max_samples\": [0.5, 0.75, 1.0] # OJO: si pones 1 (int) coge solo 1 muestra. 1.0 es el 100% de las muestras\n",
    "}\n",
    "\n",
    "# Cambiar el formato de la malla de parámetros para poder usarlos en el bucle for\n",
    "grid_params = list(ParameterGrid(parametros_fs)) # lista de diccionarios\n",
    "\n",
    "cv_scores = []\n",
    "for params in grid_params:\n",
    "    # Configurar los parámetros del pipeline\n",
    "    pipe_fs.set_params(**params)\n",
    "    \n",
    "    # Calcular los scores\n",
    "    scores = cross_val_score(pipe_fs,\n",
    "                             X_train, y_train, # X_train_resampled, y_train_resampled\n",
    "                             cv=cv_technique, scoring='f1')\n",
    "    cv_scores.append(scores)\n",
    "\n",
    "# boxplot\n",
    "plt.figure(figsize=(12, 6))\n",
    "plt.boxplot(cv_scores)\n",
    "plt.title('Bagging de Árboles', fontsize=14)\n",
    "plt.xlabel('Modelos probados (índice)', fontsize=14)\n",
    "plt.ylabel('CV Score (f1)', fontsize=14)\n",
    "plt.xticks(range(2, len(cv_scores)+1), fontsize=12) # no consigo poner el xtick = 0\n",
    "plt.show()\n",
    "\n",
    "end_time = time.time()\n",
    "print()\n",
    "print(\"Tiempo de ejecución:\", end_time - start_time, \"segundos\")"
   ]
  },
  {
   "cell_type": "code",
   "execution_count": 15,
   "id": "012ee540",
   "metadata": {},
   "outputs": [
    {
     "name": "stdout",
     "output_type": "stream",
     "text": [
      "{'algorithm__max_samples': 0.75, 'algorithm__n_estimators': 10, 'feature_selection__k': 5}\n",
      "\n",
      "{'algorithm__max_samples': 0.75, 'algorithm__n_estimators': 10, 'feature_selection__k': 6}\n",
      "\n",
      "{'algorithm__max_samples': 0.75, 'algorithm__n_estimators': 20, 'feature_selection__k': 5}\n",
      "\n",
      "{'algorithm__max_samples': 0.75, 'algorithm__n_estimators': 20, 'feature_selection__k': 6}\n",
      "\n",
      "{'algorithm__max_samples': 0.75, 'algorithm__n_estimators': 30, 'feature_selection__k': 5}\n",
      "\n",
      "{'algorithm__max_samples': 0.75, 'algorithm__n_estimators': 30, 'feature_selection__k': 6}\n",
      "\n",
      "{'algorithm__max_samples': 1.0, 'algorithm__n_estimators': 10, 'feature_selection__k': 5}\n",
      "\n",
      "{'algorithm__max_samples': 1.0, 'algorithm__n_estimators': 10, 'feature_selection__k': 6}\n"
     ]
    }
   ],
   "source": [
    "# Comparar mejores\n",
    "print(grid_params[14])\n",
    "print(grid_params[15])\n",
    "print(grid_params[18])\n",
    "print(grid_params[19])\n",
    "print(grid_params[22])\n",
    "print(grid_params[23])\n",
    "print(grid_params[26])\n",
    "print(grid_params[27])\n",
    "\n",
    "## A iguales resultados, escogemos menor n_estimator y el menor max_samples"
   ]
  },
  {
   "cell_type": "code",
   "execution_count": 34,
   "id": "f2939df5",
   "metadata": {},
   "outputs": [
    {
     "data": {
      "text/html": [
       "<style>#sk-container-id-5 {color: black;background-color: white;}#sk-container-id-5 pre{padding: 0;}#sk-container-id-5 div.sk-toggleable {background-color: white;}#sk-container-id-5 label.sk-toggleable__label {cursor: pointer;display: block;width: 100%;margin-bottom: 0;padding: 0.3em;box-sizing: border-box;text-align: center;}#sk-container-id-5 label.sk-toggleable__label-arrow:before {content: \"▸\";float: left;margin-right: 0.25em;color: #696969;}#sk-container-id-5 label.sk-toggleable__label-arrow:hover:before {color: black;}#sk-container-id-5 div.sk-estimator:hover label.sk-toggleable__label-arrow:before {color: black;}#sk-container-id-5 div.sk-toggleable__content {max-height: 0;max-width: 0;overflow: hidden;text-align: left;background-color: #f0f8ff;}#sk-container-id-5 div.sk-toggleable__content pre {margin: 0.2em;color: black;border-radius: 0.25em;background-color: #f0f8ff;}#sk-container-id-5 input.sk-toggleable__control:checked~div.sk-toggleable__content {max-height: 200px;max-width: 100%;overflow: auto;}#sk-container-id-5 input.sk-toggleable__control:checked~label.sk-toggleable__label-arrow:before {content: \"▾\";}#sk-container-id-5 div.sk-estimator input.sk-toggleable__control:checked~label.sk-toggleable__label {background-color: #d4ebff;}#sk-container-id-5 div.sk-label input.sk-toggleable__control:checked~label.sk-toggleable__label {background-color: #d4ebff;}#sk-container-id-5 input.sk-hidden--visually {border: 0;clip: rect(1px 1px 1px 1px);clip: rect(1px, 1px, 1px, 1px);height: 1px;margin: -1px;overflow: hidden;padding: 0;position: absolute;width: 1px;}#sk-container-id-5 div.sk-estimator {font-family: monospace;background-color: #f0f8ff;border: 1px dotted black;border-radius: 0.25em;box-sizing: border-box;margin-bottom: 0.5em;}#sk-container-id-5 div.sk-estimator:hover {background-color: #d4ebff;}#sk-container-id-5 div.sk-parallel-item::after {content: \"\";width: 100%;border-bottom: 1px solid gray;flex-grow: 1;}#sk-container-id-5 div.sk-label:hover label.sk-toggleable__label {background-color: #d4ebff;}#sk-container-id-5 div.sk-serial::before {content: \"\";position: absolute;border-left: 1px solid gray;box-sizing: border-box;top: 0;bottom: 0;left: 50%;z-index: 0;}#sk-container-id-5 div.sk-serial {display: flex;flex-direction: column;align-items: center;background-color: white;padding-right: 0.2em;padding-left: 0.2em;position: relative;}#sk-container-id-5 div.sk-item {position: relative;z-index: 1;}#sk-container-id-5 div.sk-parallel {display: flex;align-items: stretch;justify-content: center;background-color: white;position: relative;}#sk-container-id-5 div.sk-item::before, #sk-container-id-5 div.sk-parallel-item::before {content: \"\";position: absolute;border-left: 1px solid gray;box-sizing: border-box;top: 0;bottom: 0;left: 50%;z-index: -1;}#sk-container-id-5 div.sk-parallel-item {display: flex;flex-direction: column;z-index: 1;position: relative;background-color: white;}#sk-container-id-5 div.sk-parallel-item:first-child::after {align-self: flex-end;width: 50%;}#sk-container-id-5 div.sk-parallel-item:last-child::after {align-self: flex-start;width: 50%;}#sk-container-id-5 div.sk-parallel-item:only-child::after {width: 0;}#sk-container-id-5 div.sk-dashed-wrapped {border: 1px dashed gray;margin: 0 0.4em 0.5em 0.4em;box-sizing: border-box;padding-bottom: 0.4em;background-color: white;}#sk-container-id-5 div.sk-label label {font-family: monospace;font-weight: bold;display: inline-block;line-height: 1.2em;}#sk-container-id-5 div.sk-label-container {text-align: center;}#sk-container-id-5 div.sk-container {/* jupyter's `normalize.less` sets `[hidden] { display: none; }` but bootstrap.min.css set `[hidden] { display: none !important; }` so we also need the `!important` here to be able to override the default hidden behavior on the sphinx rendered scikit-learn.org. See: https://github.com/scikit-learn/scikit-learn/issues/21755 */display: inline-block !important;position: relative;}#sk-container-id-5 div.sk-text-repr-fallback {display: none;}</style><div id=\"sk-container-id-5\" class=\"sk-top-container\"><div class=\"sk-text-repr-fallback\"><pre>Pipeline(steps=[(&#x27;column_transform&#x27;,\n",
       "                 ColumnTransformer(remainder=&#x27;passthrough&#x27;,\n",
       "                                   transformers=[(&#x27;encoder&#x27;,\n",
       "                                                  OneHotEncoder(drop=[&#x27;3-9&#x27;]),\n",
       "                                                  [&#x27;Orbit Uncertainity &#x27;\n",
       "                                                   &#x27;(categ)&#x27;]),\n",
       "                                                 (&#x27;scaler&#x27;, RobustScaler(),\n",
       "                                                  [&#x27;Est Dia in M(max)&#x27;,\n",
       "                                                   &#x27;Relative Velocity km per &#x27;\n",
       "                                                   &#x27;sec&#x27;,\n",
       "                                                   &#x27;Miss Dist.(Astronomical)&#x27;,\n",
       "                                                   &#x27;Minimum Orbit Intersection&#x27;,\n",
       "                                                   &#x27;Eccentricity&#x27;,\n",
       "                                                   &#x27;Semi Major Axis&#x27;,\n",
       "                                                   &#x27;Inclination&#x27;,\n",
       "                                                   &#x27;Asc Node Longitude...\n",
       "                                                   &#x27;Distance_squared&#x27;,\n",
       "                                                   &#x27;Mean Anomaly_raiz2&#x27;,\n",
       "                                                   &#x27;Mean Motion_cuarta&#x27;,\n",
       "                                                   &#x27;Perihelion &#x27;\n",
       "                                                   &#x27;Arg_squared&#x27;])])),\n",
       "                (&#x27;polynomial&#x27;,\n",
       "                 PolynomialFeatures(include_bias=False, interaction_only=True)),\n",
       "                (&#x27;feature_selection&#x27;, SelectKBest(k=5)),\n",
       "                (&#x27;algorithm&#x27;,\n",
       "                 BaggingClassifier(estimator=LogisticRegression(C=0.1,\n",
       "                                                                class_weight=&#x27;balanced&#x27;,\n",
       "                                                                penalty=&#x27;l1&#x27;,\n",
       "                                                                random_state=99,\n",
       "                                                                solver=&#x27;liblinear&#x27;),\n",
       "                                   random_state=99))])</pre><b>In a Jupyter environment, please rerun this cell to show the HTML representation or trust the notebook. <br />On GitHub, the HTML representation is unable to render, please try loading this page with nbviewer.org.</b></div><div class=\"sk-container\" hidden><div class=\"sk-item sk-dashed-wrapped\"><div class=\"sk-label-container\"><div class=\"sk-label sk-toggleable\"><input class=\"sk-toggleable__control sk-hidden--visually\" id=\"sk-estimator-id-53\" type=\"checkbox\" ><label for=\"sk-estimator-id-53\" class=\"sk-toggleable__label sk-toggleable__label-arrow\">Pipeline</label><div class=\"sk-toggleable__content\"><pre>Pipeline(steps=[(&#x27;column_transform&#x27;,\n",
       "                 ColumnTransformer(remainder=&#x27;passthrough&#x27;,\n",
       "                                   transformers=[(&#x27;encoder&#x27;,\n",
       "                                                  OneHotEncoder(drop=[&#x27;3-9&#x27;]),\n",
       "                                                  [&#x27;Orbit Uncertainity &#x27;\n",
       "                                                   &#x27;(categ)&#x27;]),\n",
       "                                                 (&#x27;scaler&#x27;, RobustScaler(),\n",
       "                                                  [&#x27;Est Dia in M(max)&#x27;,\n",
       "                                                   &#x27;Relative Velocity km per &#x27;\n",
       "                                                   &#x27;sec&#x27;,\n",
       "                                                   &#x27;Miss Dist.(Astronomical)&#x27;,\n",
       "                                                   &#x27;Minimum Orbit Intersection&#x27;,\n",
       "                                                   &#x27;Eccentricity&#x27;,\n",
       "                                                   &#x27;Semi Major Axis&#x27;,\n",
       "                                                   &#x27;Inclination&#x27;,\n",
       "                                                   &#x27;Asc Node Longitude...\n",
       "                                                   &#x27;Distance_squared&#x27;,\n",
       "                                                   &#x27;Mean Anomaly_raiz2&#x27;,\n",
       "                                                   &#x27;Mean Motion_cuarta&#x27;,\n",
       "                                                   &#x27;Perihelion &#x27;\n",
       "                                                   &#x27;Arg_squared&#x27;])])),\n",
       "                (&#x27;polynomial&#x27;,\n",
       "                 PolynomialFeatures(include_bias=False, interaction_only=True)),\n",
       "                (&#x27;feature_selection&#x27;, SelectKBest(k=5)),\n",
       "                (&#x27;algorithm&#x27;,\n",
       "                 BaggingClassifier(estimator=LogisticRegression(C=0.1,\n",
       "                                                                class_weight=&#x27;balanced&#x27;,\n",
       "                                                                penalty=&#x27;l1&#x27;,\n",
       "                                                                random_state=99,\n",
       "                                                                solver=&#x27;liblinear&#x27;),\n",
       "                                   random_state=99))])</pre></div></div></div><div class=\"sk-serial\"><div class=\"sk-item sk-dashed-wrapped\"><div class=\"sk-label-container\"><div class=\"sk-label sk-toggleable\"><input class=\"sk-toggleable__control sk-hidden--visually\" id=\"sk-estimator-id-54\" type=\"checkbox\" ><label for=\"sk-estimator-id-54\" class=\"sk-toggleable__label sk-toggleable__label-arrow\">column_transform: ColumnTransformer</label><div class=\"sk-toggleable__content\"><pre>ColumnTransformer(remainder=&#x27;passthrough&#x27;,\n",
       "                  transformers=[(&#x27;encoder&#x27;, OneHotEncoder(drop=[&#x27;3-9&#x27;]),\n",
       "                                 [&#x27;Orbit Uncertainity (categ)&#x27;]),\n",
       "                                (&#x27;scaler&#x27;, RobustScaler(),\n",
       "                                 [&#x27;Est Dia in M(max)&#x27;,\n",
       "                                  &#x27;Relative Velocity km per sec&#x27;,\n",
       "                                  &#x27;Miss Dist.(Astronomical)&#x27;,\n",
       "                                  &#x27;Minimum Orbit Intersection&#x27;, &#x27;Eccentricity&#x27;,\n",
       "                                  &#x27;Semi Major Axis&#x27;, &#x27;Inclination&#x27;,\n",
       "                                  &#x27;Asc Node Longitude&#x27;, &#x27;Perihelion Distance&#x27;,\n",
       "                                  &#x27;Mean Anomaly&#x27;, &#x27;Mean Motion&#x27;,\n",
       "                                  &#x27;Perihelion Arg&#x27;, &#x27;Est Dia in M(max)_raiz2&#x27;,\n",
       "                                  &#x27;Miss Dist.(Astronomical)_raiz2&#x27;,\n",
       "                                  &#x27;Minimum Orbit Intersection_log&#x27;,\n",
       "                                  &#x27;Semi Major Axis_log&#x27;, &#x27;Inclination_squared&#x27;,\n",
       "                                  &#x27;Perihelion Distance_squared&#x27;,\n",
       "                                  &#x27;Mean Anomaly_raiz2&#x27;, &#x27;Mean Motion_cuarta&#x27;,\n",
       "                                  &#x27;Perihelion Arg_squared&#x27;])])</pre></div></div></div><div class=\"sk-parallel\"><div class=\"sk-parallel-item\"><div class=\"sk-item\"><div class=\"sk-label-container\"><div class=\"sk-label sk-toggleable\"><input class=\"sk-toggleable__control sk-hidden--visually\" id=\"sk-estimator-id-55\" type=\"checkbox\" ><label for=\"sk-estimator-id-55\" class=\"sk-toggleable__label sk-toggleable__label-arrow\">encoder</label><div class=\"sk-toggleable__content\"><pre>[&#x27;Orbit Uncertainity (categ)&#x27;]</pre></div></div></div><div class=\"sk-serial\"><div class=\"sk-item\"><div class=\"sk-estimator sk-toggleable\"><input class=\"sk-toggleable__control sk-hidden--visually\" id=\"sk-estimator-id-56\" type=\"checkbox\" ><label for=\"sk-estimator-id-56\" class=\"sk-toggleable__label sk-toggleable__label-arrow\">OneHotEncoder</label><div class=\"sk-toggleable__content\"><pre>OneHotEncoder(drop=[&#x27;3-9&#x27;])</pre></div></div></div></div></div></div><div class=\"sk-parallel-item\"><div class=\"sk-item\"><div class=\"sk-label-container\"><div class=\"sk-label sk-toggleable\"><input class=\"sk-toggleable__control sk-hidden--visually\" id=\"sk-estimator-id-57\" type=\"checkbox\" ><label for=\"sk-estimator-id-57\" class=\"sk-toggleable__label sk-toggleable__label-arrow\">scaler</label><div class=\"sk-toggleable__content\"><pre>[&#x27;Est Dia in M(max)&#x27;, &#x27;Relative Velocity km per sec&#x27;, &#x27;Miss Dist.(Astronomical)&#x27;, &#x27;Minimum Orbit Intersection&#x27;, &#x27;Eccentricity&#x27;, &#x27;Semi Major Axis&#x27;, &#x27;Inclination&#x27;, &#x27;Asc Node Longitude&#x27;, &#x27;Perihelion Distance&#x27;, &#x27;Mean Anomaly&#x27;, &#x27;Mean Motion&#x27;, &#x27;Perihelion Arg&#x27;, &#x27;Est Dia in M(max)_raiz2&#x27;, &#x27;Miss Dist.(Astronomical)_raiz2&#x27;, &#x27;Minimum Orbit Intersection_log&#x27;, &#x27;Semi Major Axis_log&#x27;, &#x27;Inclination_squared&#x27;, &#x27;Perihelion Distance_squared&#x27;, &#x27;Mean Anomaly_raiz2&#x27;, &#x27;Mean Motion_cuarta&#x27;, &#x27;Perihelion Arg_squared&#x27;]</pre></div></div></div><div class=\"sk-serial\"><div class=\"sk-item\"><div class=\"sk-estimator sk-toggleable\"><input class=\"sk-toggleable__control sk-hidden--visually\" id=\"sk-estimator-id-58\" type=\"checkbox\" ><label for=\"sk-estimator-id-58\" class=\"sk-toggleable__label sk-toggleable__label-arrow\">RobustScaler</label><div class=\"sk-toggleable__content\"><pre>RobustScaler()</pre></div></div></div></div></div></div><div class=\"sk-parallel-item\"><div class=\"sk-item\"><div class=\"sk-label-container\"><div class=\"sk-label sk-toggleable\"><input class=\"sk-toggleable__control sk-hidden--visually\" id=\"sk-estimator-id-59\" type=\"checkbox\" ><label for=\"sk-estimator-id-59\" class=\"sk-toggleable__label sk-toggleable__label-arrow\">remainder</label><div class=\"sk-toggleable__content\"><pre>[]</pre></div></div></div><div class=\"sk-serial\"><div class=\"sk-item\"><div class=\"sk-estimator sk-toggleable\"><input class=\"sk-toggleable__control sk-hidden--visually\" id=\"sk-estimator-id-60\" type=\"checkbox\" ><label for=\"sk-estimator-id-60\" class=\"sk-toggleable__label sk-toggleable__label-arrow\">passthrough</label><div class=\"sk-toggleable__content\"><pre>passthrough</pre></div></div></div></div></div></div></div></div><div class=\"sk-item\"><div class=\"sk-estimator sk-toggleable\"><input class=\"sk-toggleable__control sk-hidden--visually\" id=\"sk-estimator-id-61\" type=\"checkbox\" ><label for=\"sk-estimator-id-61\" class=\"sk-toggleable__label sk-toggleable__label-arrow\">PolynomialFeatures</label><div class=\"sk-toggleable__content\"><pre>PolynomialFeatures(include_bias=False, interaction_only=True)</pre></div></div></div><div class=\"sk-item\"><div class=\"sk-estimator sk-toggleable\"><input class=\"sk-toggleable__control sk-hidden--visually\" id=\"sk-estimator-id-62\" type=\"checkbox\" ><label for=\"sk-estimator-id-62\" class=\"sk-toggleable__label sk-toggleable__label-arrow\">SelectKBest</label><div class=\"sk-toggleable__content\"><pre>SelectKBest(k=5)</pre></div></div></div><div class=\"sk-item sk-dashed-wrapped\"><div class=\"sk-label-container\"><div class=\"sk-label sk-toggleable\"><input class=\"sk-toggleable__control sk-hidden--visually\" id=\"sk-estimator-id-63\" type=\"checkbox\" ><label for=\"sk-estimator-id-63\" class=\"sk-toggleable__label sk-toggleable__label-arrow\">algorithm: BaggingClassifier</label><div class=\"sk-toggleable__content\"><pre>BaggingClassifier(estimator=LogisticRegression(C=0.1, class_weight=&#x27;balanced&#x27;,\n",
       "                                               penalty=&#x27;l1&#x27;, random_state=99,\n",
       "                                               solver=&#x27;liblinear&#x27;),\n",
       "                  random_state=99)</pre></div></div></div><div class=\"sk-parallel\"><div class=\"sk-parallel-item\"><div class=\"sk-item\"><div class=\"sk-label-container\"><div class=\"sk-label sk-toggleable\"><input class=\"sk-toggleable__control sk-hidden--visually\" id=\"sk-estimator-id-64\" type=\"checkbox\" ><label for=\"sk-estimator-id-64\" class=\"sk-toggleable__label sk-toggleable__label-arrow\">estimator: LogisticRegression</label><div class=\"sk-toggleable__content\"><pre>LogisticRegression(C=0.1, class_weight=&#x27;balanced&#x27;, penalty=&#x27;l1&#x27;,\n",
       "                   random_state=99, solver=&#x27;liblinear&#x27;)</pre></div></div></div><div class=\"sk-serial\"><div class=\"sk-item\"><div class=\"sk-estimator sk-toggleable\"><input class=\"sk-toggleable__control sk-hidden--visually\" id=\"sk-estimator-id-65\" type=\"checkbox\" ><label for=\"sk-estimator-id-65\" class=\"sk-toggleable__label sk-toggleable__label-arrow\">LogisticRegression</label><div class=\"sk-toggleable__content\"><pre>LogisticRegression(C=0.1, class_weight=&#x27;balanced&#x27;, penalty=&#x27;l1&#x27;,\n",
       "                   random_state=99, solver=&#x27;liblinear&#x27;)</pre></div></div></div></div></div></div></div></div></div></div></div></div>"
      ],
      "text/plain": [
       "Pipeline(steps=[('column_transform',\n",
       "                 ColumnTransformer(remainder='passthrough',\n",
       "                                   transformers=[('encoder',\n",
       "                                                  OneHotEncoder(drop=['3-9']),\n",
       "                                                  ['Orbit Uncertainity '\n",
       "                                                   '(categ)']),\n",
       "                                                 ('scaler', RobustScaler(),\n",
       "                                                  ['Est Dia in M(max)',\n",
       "                                                   'Relative Velocity km per '\n",
       "                                                   'sec',\n",
       "                                                   'Miss Dist.(Astronomical)',\n",
       "                                                   'Minimum Orbit Intersection',\n",
       "                                                   'Eccentricity',\n",
       "                                                   'Semi Major Axis',\n",
       "                                                   'Inclination',\n",
       "                                                   'Asc Node Longitude...\n",
       "                                                   'Distance_squared',\n",
       "                                                   'Mean Anomaly_raiz2',\n",
       "                                                   'Mean Motion_cuarta',\n",
       "                                                   'Perihelion '\n",
       "                                                   'Arg_squared'])])),\n",
       "                ('polynomial',\n",
       "                 PolynomialFeatures(include_bias=False, interaction_only=True)),\n",
       "                ('feature_selection', SelectKBest(k=5)),\n",
       "                ('algorithm',\n",
       "                 BaggingClassifier(estimator=LogisticRegression(C=0.1,\n",
       "                                                                class_weight='balanced',\n",
       "                                                                penalty='l1',\n",
       "                                                                random_state=99,\n",
       "                                                                solver='liblinear'),\n",
       "                                   random_state=99))])"
      ]
     },
     "execution_count": 34,
     "metadata": {},
     "output_type": "execute_result"
    }
   ],
   "source": [
    "# El mejor modelo es:\n",
    "modelo_optimo = 26 # indicar nº óptimo\n",
    "\n",
    "# Configura el pipeline con los parámetros deseados\n",
    "selected_params = grid_params[modelo_optimo]\n",
    "pipe_fs.set_params(**selected_params)\n",
    "\n",
    "# Ajusta el modelo\n",
    "selected_model = pipe_fs.fit(X_train, y_train)\n",
    "selected_model"
   ]
  },
  {
   "cell_type": "code",
   "execution_count": 35,
   "id": "f0bcc346",
   "metadata": {},
   "outputs": [
    {
     "data": {
      "text/plain": [
       "{'base_estimator': 'deprecated',\n",
       " 'bootstrap': True,\n",
       " 'bootstrap_features': False,\n",
       " 'estimator__C': 0.1,\n",
       " 'estimator__class_weight': 'balanced',\n",
       " 'estimator__dual': False,\n",
       " 'estimator__fit_intercept': True,\n",
       " 'estimator__intercept_scaling': 1,\n",
       " 'estimator__l1_ratio': None,\n",
       " 'estimator__max_iter': 100,\n",
       " 'estimator__multi_class': 'auto',\n",
       " 'estimator__n_jobs': None,\n",
       " 'estimator__penalty': 'l1',\n",
       " 'estimator__random_state': 99,\n",
       " 'estimator__solver': 'liblinear',\n",
       " 'estimator__tol': 0.0001,\n",
       " 'estimator__verbose': 0,\n",
       " 'estimator__warm_start': False,\n",
       " 'estimator': LogisticRegression(C=0.1, class_weight='balanced', penalty='l1',\n",
       "                    random_state=99, solver='liblinear'),\n",
       " 'max_features': 1.0,\n",
       " 'max_samples': 1.0,\n",
       " 'n_estimators': 10,\n",
       " 'n_jobs': None,\n",
       " 'oob_score': False,\n",
       " 'random_state': 99,\n",
       " 'verbose': 0,\n",
       " 'warm_start': False}"
      ]
     },
     "execution_count": 35,
     "metadata": {},
     "output_type": "execute_result"
    }
   ],
   "source": [
    "selected_model.named_steps['algorithm'].get_params()"
   ]
  },
  {
   "cell_type": "code",
   "execution_count": 36,
   "id": "05dd037f",
   "metadata": {},
   "outputs": [
    {
     "name": "stdout",
     "output_type": "stream",
     "text": [
      "Las 5 variabs seleccionadas son:\n"
     ]
    },
    {
     "data": {
      "text/plain": [
       "['scaler__Minimum Orbit Intersection',\n",
       " 'scaler__Est Dia in M(max)_raiz2',\n",
       " 'encoder__Orbit Uncertainity (categ)_0 scaler__Minimum Orbit Intersection_log',\n",
       " 'scaler__Est Dia in M(max) scaler__Minimum Orbit Intersection_log',\n",
       " 'scaler__Est Dia in M(max)_raiz2 scaler__Minimum Orbit Intersection_log']"
      ]
     },
     "execution_count": 36,
     "metadata": {},
     "output_type": "execute_result"
    }
   ],
   "source": [
    "# Variables seleccionadas:\n",
    "\n",
    "ct_names = selected_model.named_steps['column_transform'].get_feature_names_out()\n",
    "poly_names = selected_model.named_steps['polynomial'].get_feature_names_out(input_features=ct_names)\n",
    "select_names = selected_model.named_steps['feature_selection'].get_feature_names_out(input_features=poly_names)\n",
    "\n",
    "print(f\"Las {len(select_names)} variabs seleccionadas son:\")\n",
    "[i for i in select_names]"
   ]
  },
  {
   "cell_type": "code",
   "execution_count": 37,
   "id": "37d65a48",
   "metadata": {},
   "outputs": [
    {
     "name": "stdout",
     "output_type": "stream",
     "text": [
      "El valor de f1 score es: \n",
      " 0.9\n",
      "Otros estadísticos del test: \n",
      "               precision    recall  f1-score   support\n",
      "\n",
      "           0       1.00      0.96      0.98       787\n",
      "           1       0.83      0.99      0.90       151\n",
      "\n",
      "    accuracy                           0.96       938\n",
      "   macro avg       0.91      0.97      0.94       938\n",
      "weighted avg       0.97      0.96      0.97       938\n",
      "\n"
     ]
    },
    {
     "data": {
      "image/png": "[encoded data removed]",
      "text/plain": [
       "<Figure size 288x288 with 1 Axes>"
      ]
     },
     "metadata": {},
     "output_type": "display_data"
    }
   ],
   "source": [
    "# Score y Confusion Matrix\n",
    "\n",
    "# Evalúa el mejor modelo en tus datos de prueba\n",
    "y_pred = selected_model.predict(X_test)\n",
    "\n",
    "# Calcular la precisión de las predicciones en el conjunto de prueba\n",
    "print(f\"El valor de f1 score es: \\n {f1_score(y_test, y_pred).round(3)}\")\n",
    "print(f\"Otros estadísticos del test: \\n {classification_report(y_test, y_pred)}\")\n",
    "\n",
    "# Matriz de confusión\n",
    "cm = confusion_matrix(y_test, y_pred)\n",
    "disp = ConfusionMatrixDisplay(confusion_matrix=cm)\n",
    "\n",
    "fig, ax = plt.subplots(figsize=(4, 4))\n",
    "disp.plot(ax=ax, cmap='viridis', values_format='d', colorbar=False)\n",
    "ax.grid(False) # Deshabilitar el grid de fondo\n",
    "\n",
    "# plt.title('Matriz de confusión', fontsize=18) # Cambiar tamaño del título\n",
    "ax.spines[['bottom','top','left','right']].set_color('black')\n",
    "plt.title('Bagging regresión logística', fontsize=16)\n",
    "plt.xlabel('Predicciones', fontsize=16)\n",
    "plt.ylabel('Valores Reales', fontsize=16)\n",
    "plt.xticks(fontsize=15)\n",
    "plt.yticks(fontsize=15)\n",
    "for text in ax.texts:\n",
    "    text.set_fontsize(15)\n",
    "plt.show()"
   ]
  },
  {
   "cell_type": "code",
   "execution_count": 39,
   "id": "93ef5255",
   "metadata": {},
   "outputs": [],
   "source": [
    "import pickle\n",
    "\n",
    "# Guarda los datos de puntuaciones\n",
    "with open('cv_scores_model10.pkl', 'wb') as f:\n",
    "    pickle.dump(cv_scores[modelo_optimo], f)"
   ]
  }
 ],
 "metadata": {
  "kernelspec": {
   "display_name": "Python 3 (ipykernel)",
   "language": "python",
   "name": "python3"
  },
  "language_info": {
   "codemirror_mode": {
    "name": "ipython",
    "version": 3
   },
   "file_extension": ".py",
   "mimetype": "text/x-python",
   "name": "python",
   "nbconvert_exporter": "python",
   "pygments_lexer": "ipython3",
   "version": "3.9.7"
  }
 },
 "nbformat": 4,
 "nbformat_minor": 5
}
