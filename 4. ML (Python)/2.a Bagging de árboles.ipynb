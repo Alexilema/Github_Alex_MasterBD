{
 "cells": [
  {
   "cell_type": "code",
   "execution_count": 1,
   "id": "eb25138f",
   "metadata": {},
   "outputs": [],
   "source": [
    "# analysis\n",
    "import pandas as pd\n",
    "import numpy as np\n",
    "import matplotlib.pyplot as plt\n",
    "import seaborn as sns\n",
    "import warnings\n",
    "\n",
    "sns.set_style('darkgrid')\n",
    "np.set_printoptions(precision=3)\n",
    "warnings.filterwarnings(\"ignore\")\n",
    "\n",
    "# missings (imputer)\n",
    "# from sklearn.impute import SimpleImputer, KNNImputer\n",
    "\n",
    "# interacciones\n",
    "from sklearn.preprocessing import PolynomialFeatures\n",
    "\n",
    "# transformaciones\n",
    "from sklearn.compose import ColumnTransformer\n",
    "# - variab numéricas\n",
    "from sklearn.preprocessing import RobustScaler # MinMaxScaler, StandardScaler, Normalizer, Binarizer \n",
    "# from sklearn.preprocessing import PowerTransformer, BoxCox\n",
    "# - variab categ\n",
    "from sklearn.preprocessing import OneHotEncoder # LabelEncoder, OrdinalEncoder\n",
    "\n",
    "# feature selection\n",
    "from sklearn.feature_selection import f_classif # chi2\n",
    "from sklearn.feature_selection import SelectKBest, SelectFromModel\n",
    "from sklearn.feature_selection import RFE, RFECV\n",
    "# from sklearn.decomposition import PCA\n",
    "\n",
    "# algoritmos\n",
    "from sklearn.linear_model import LogisticRegression\n",
    "from sklearn.tree import DecisionTreeClassifier\n",
    "from sklearn.neighbors import KNeighborsClassifier\n",
    "from sklearn.discriminant_analysis import LinearDiscriminantAnalysis\n",
    "from sklearn.naive_bayes import GaussianNB\n",
    "from sklearn.svm import SVC\n",
    "from sklearn.neural_network import MLPClassifier # red neuronal\n",
    "\n",
    "# bagging\n",
    "from sklearn.ensemble import BaggingClassifier, RandomForestClassifier\n",
    "from sklearn.ensemble import VotingClassifier, ExtraTreesClassifier\n",
    "\n",
    "# boosting\n",
    "from sklearn.ensemble import GradientBoostingClassifier\n",
    "from sklearn.ensemble import AdaBoostClassifier\n",
    "# import xgboost as xgb\n",
    "\n",
    "# model selection\n",
    "from sklearn.model_selection import train_test_split\n",
    "from imblearn.over_sampling import SMOTE, SMOTENC\n",
    "from sklearn.pipeline import Pipeline #make_pipeline\n",
    "from sklearn.model_selection import GridSearchCV # RandomizedSearchCV\n",
    "from sklearn.model_selection import KFold, ShuffleSplit, LeaveOneOut, StratifiedKFold, RepeatedStratifiedKFold\n",
    "from sklearn.model_selection import cross_val_score, cross_val_predict, ParameterGrid\n",
    "\n",
    "# Técnicas de evaluación\n",
    "from sklearn.metrics import confusion_matrix, ConfusionMatrixDisplay\n",
    "from sklearn.metrics import classification_report\n",
    "from sklearn.metrics import make_scorer, accuracy_score, f1_score, precision_score, recall_score\n",
    "from sklearn.metrics import auc, roc_curve, roc_auc_score, RocCurveDisplay"
   ]
  },
  {
   "cell_type": "code",
   "execution_count": 2,
   "id": "ad85eb14",
   "metadata": {},
   "outputs": [],
   "source": [
    "# semilla de aleatorización\n",
    "\n",
    "seed = 99"
   ]
  },
  {
   "cell_type": "code",
   "execution_count": 3,
   "id": "368eeece",
   "metadata": {},
   "outputs": [
    {
     "name": "stdout",
     "output_type": "stream",
     "text": [
      "Número de filas: 4687, Númerode columnas:24\n"
     ]
    }
   ],
   "source": [
    "data = pd.read_csv('Datasets/datos_procesados.csv')\n",
    "\n",
    "print(f'Número de filas: {data.shape[0]}, Númerode columnas:{data.shape[1]}')"
   ]
  },
  {
   "cell_type": "code",
   "execution_count": 4,
   "id": "5520309d",
   "metadata": {},
   "outputs": [],
   "source": [
    "# Separar en train y test\n",
    "X_train = data[data['Dataset'] == 'train'].drop(['Dataset'], axis=1)\n",
    "X_test = data[data['Dataset'] == 'test'].drop(['Dataset'], axis=1)\n",
    "\n",
    "# variable objetivo (.pop elimina la col de X, que también es un paso necesario)\n",
    "y_train = X_train.pop('Hazardous')\n",
    "y_test = X_test.pop('Hazardous')"
   ]
  },
  {
   "cell_type": "code",
   "execution_count": 5,
   "id": "01a03f1e",
   "metadata": {},
   "outputs": [],
   "source": [
    "# SMOTE (remuestro de datos de entrenamiento desbalanceados)\n",
    "\n",
    "# Probaremos a obtener el mejor modelo tanto con los train_data desbalanceados como balanceados con smote\n",
    "\n",
    "categ_index = X_train.columns.get_loc('Orbit Uncertainity (categ)')\n",
    "\n",
    "smote_nc = SMOTENC(categorical_features=[categ_index], # hay que indicarle cuál es la variab categ en el dataset que se va a transformar\n",
    "             random_state=seed)\n",
    "\n",
    "X_train_resampled, y_train_resampled = smote_nc.fit_resample(X_train, y_train)"
   ]
  },
  {
   "cell_type": "markdown",
   "id": "d3b69399",
   "metadata": {},
   "source": [
    "## 2.a Bagging"
   ]
  },
  {
   "cell_type": "markdown",
   "id": "d692a008",
   "metadata": {},
   "source": [
    "* **Bagging** es crear varios modelos, todos del mismo algoritmo, entrenados con distintas muestras (bootstrapping), y sus resultados se promedian.\n",
    "\n",
    "* **Random Forest** es un caso de bagging con árboles, donde cada árbol se construye utilizando una muestra bootstrapeada y una selección aleatoria de variabs en cada división del árbol."
   ]
  },
  {
   "cell_type": "code",
   "execution_count": 6,
   "id": "5d431c71",
   "metadata": {},
   "outputs": [
    {
     "data": {
      "text/plain": [
       "' Ayuda para la profe: '"
      ]
     },
     "execution_count": 6,
     "metadata": {},
     "output_type": "execute_result"
    }
   ],
   "source": [
    "\"\"\" Ayuda para la profe: \"\"\"\n",
    "# En R, la profe nos explicó bagging con este código:\n",
    "    \n",
    "# rfgrid<-expand.grid(mtry=c(6))\n",
    "\n",
    "# control<-trainControl(method = \"cv\",number=4,\n",
    "#                       savePredictions = \"all\",classProbs=TRUE) \n",
    "\n",
    "# rf<- train(data=saheartbis,\n",
    "#  factor(chd)~age+tobacco+ldl+adiposity+obesity+famhist.Absent,\n",
    "#  method=\"rf\",trControl=control,tuneGrid=rfgrid,\n",
    "#  linout = FALSE,ntree=5000,sampsize=200,nodesize=10,replace=TRUE)\n",
    "\n",
    "# Estos paráms en R tiene su equivalente en Python:\n",
    "    \n",
    "# mtry --> max_features\n",
    "# repeated cross_val --> n_splits, n_repeats\n",
    "# indicar factor()~variables --> no es necesario definirlo así en python\n",
    "# linout --> no tiene equivalente en sklearn, pero tampoco lo necesitamos\n",
    "# ntree --> n_estimators\n",
    "# sampsize --> max_samples\n",
    "# nodesize --> min_samples_leaf\n",
    "# replace --> bootstrap\n",
    "\n",
    "# y no recuerdo dónde se indican en R, pero en Python también tenemos:\n",
    "# max_depth (máxima profundidad del árbol)"
   ]
  },
  {
   "cell_type": "code",
   "execution_count": 7,
   "id": "3de323b4",
   "metadata": {},
   "outputs": [
    {
     "name": "stdout",
     "output_type": "stream",
     "text": [
      "\n",
      "Tiempo de ejecución: 0.0010006427764892578 segundos\n"
     ]
    }
   ],
   "source": [
    "# 1ª etapa (with all features)\n",
    "\n",
    "import time\n",
    "start_time = time.time()\n",
    "\n",
    "# Algoritmo a probar\n",
    "model = BaggingClassifier(estimator=DecisionTreeClassifier(criterion='gini',\n",
    "                                                           max_depth=5,\n",
    "                                                           min_samples_leaf=40,\n",
    "                                                           class_weight='balanced',\n",
    "                                                           random_state=seed\n",
    "                                                           ), random_state=seed)\n",
    "# Otros args por dfto:\n",
    "    # bootstrap=True\n",
    "    # bootstrap_features=False (True sería RandomForest)\n",
    "    # (oob_score=False (sería interesante ponerlo a True y ver cómo nos devuelve esa info)\n",
    "\n",
    "# Definir variabs numéricas y categóricas\n",
    "scaler_features = X_train.select_dtypes(include=[np.number]).columns.tolist()\n",
    "categ_features = [feature for feature in X_train.columns if feature not in scaler_features]\n",
    "\n",
    "# Column transformer\n",
    "col_transformer = ColumnTransformer(\n",
    "    [\n",
    "    ('encoder', OneHotEncoder(drop=[\"3-9\"]), ['Orbit Uncertainity (categ)']), # @@ necesario??\n",
    "    ('scaler', RobustScaler(), scaler_features)\n",
    "    ], remainder='passthrough')\n",
    "\n",
    "##### no hace falta ejecutar esta parte, no hay paráms que buscar, podemos hacer solo la 2ª etapa\n",
    "\n",
    "# # Definir instancia SMOTENC\n",
    "# categ_index = X_train.columns.get_loc('Orbit Uncertainity (categ)')\n",
    "# smote_nc = SMOTENC(categorical_features=[categ_index], # hay que indicarle cuál es la variab categ en el dataset que se va a transformar\n",
    "#              random_state=seed)\n",
    "\n",
    "# # Pipeline 1\n",
    "# pipe = Pipeline([\n",
    "# #         ('smote_nc', smote_nc), # quitarlo si class_weight='balanced'\n",
    "#         ('column_transform', col_transformer),\n",
    "#         ('polynomial', PolynomialFeatures(degree=2, interaction_only=True, include_bias=False)), # añadir interacciones\n",
    "#         ('algorithm', model)        \n",
    "# ])\n",
    "\n",
    "# # Tuneado del modelo (malla de paráms)\n",
    "#     # Podríamos buscar los mejores paráms teniendo en cuenta también los paráms de cada árbol.\n",
    "#     # Pero la ejecución tarda mucho, y en el apartado 2 ya vimos cuál era el mejor árbol para\n",
    "#     # nuestro dataset, así que nos basamos en ese árbol (lo definimos arriba)\n",
    "# parametros = {\n",
    "#     \"algorithm__n_estimators\": [20,30,40], # número de árboles en el Bagging\n",
    "#     \"algorithm__max_samples\": [0.5, 0.75, 1] # si 1, hace reemplazamiento (para que sea bootstrapping)\n",
    "# #     \"algorithm__max_features\": [1] # dejamos que use todas, no queremos ahora RandomForest\n",
    "# }\n",
    "\n",
    "# Repeated cross_val (stratified)\n",
    "# cv_technique = StratifiedKFold(n_splits=10, shuffle=True, random_state=seed)\n",
    "cv_technique = RepeatedStratifiedKFold(n_splits=10, n_repeats=5, random_state=seed)\n",
    "\n",
    "# # combinamos todo\n",
    "# gsearch = GridSearchCV(estimator=pipe, cv=cv_technique, param_grid=parametros, scoring='f1')\n",
    "\n",
    "# # buscamos el mejor modelo\n",
    "# # opción a) sin resample y con class_weight='balanced':\n",
    "# grid_model = gsearch.fit(X_train, y_train)\n",
    "\n",
    "# # opción b) con resample (SMOTE)\n",
    "# # grid_model = gsearch.fit(X_train_resampled, y_train_resampled)\n",
    "\n",
    "# print(\"Best CV score:\", grid_model.best_score_)\n",
    "\n",
    "end_time = time.time()\n",
    "print()\n",
    "print(\"Tiempo de ejecución:\", end_time - start_time, \"segundos\")"
   ]
  },
  {
   "cell_type": "code",
   "execution_count": 8,
   "id": "8b0e2e07",
   "metadata": {},
   "outputs": [
    {
     "data": {
      "image/png": "[encoded data removed]",
      "text/plain": [
       "<Figure size 864x432 with 1 Axes>"
      ]
     },
     "metadata": {},
     "output_type": "display_data"
    },
    {
     "name": "stdout",
     "output_type": "stream",
     "text": [
      "\n",
      "Tiempo de ejecución: 221.0719714164734 segundos\n"
     ]
    }
   ],
   "source": [
    "# 2ª etapa: boxplot para elegir el resto de paráms\n",
    "\n",
    "# no podemos poner muchos paráms, o no veremos nada en los boxplots\n",
    "# por eso aquí hay traer ya algunos paráms elegido\n",
    "\n",
    "\n",
    "import time\n",
    "start_time = time.time()\n",
    "\n",
    "pipe_fs = Pipeline([\n",
    "        ('column_transform', col_transformer),\n",
    "        ('polynomial', PolynomialFeatures(degree=2, interaction_only=True, include_bias=False)), # añadir interacciones\n",
    "        ('feature_selection', SelectKBest(score_func=f_classif)), # k = número de variabs a seleccionar\n",
    "#         ('algorithm', grid_model.best_estimator_.named_steps['algorithm']) \n",
    "        ('algorithm', model) \n",
    "]) # importante: meter el mejor algorithm obtenido antes\n",
    "\n",
    "parametros_fs = {\n",
    "    \"feature_selection__k\": [3,4,5,6],\n",
    "    \"algorithm__n_estimators\": [10,20,30], # número de árboles en el Bagging\n",
    "    \"algorithm__max_samples\": [0.5, 0.75, 1.0] # OJO: si pones 1 (int) coge solo 1 muestra. 1.0 es el 100% de las muestras\n",
    "}\n",
    "\n",
    "# Cambiar el formato de la malla de parámetros para poder usarlos en el bucle for\n",
    "grid_params = list(ParameterGrid(parametros_fs)) # lista de diccionarios\n",
    "\n",
    "cv_scores = []\n",
    "for params in grid_params:\n",
    "    # Configurar los parámetros del pipeline\n",
    "    pipe_fs.set_params(**params)\n",
    "    \n",
    "    # Calcular los scores\n",
    "    scores = cross_val_score(pipe_fs,\n",
    "                             X_train, y_train, # X_train_resampled, y_train_resampled\n",
    "                             cv=cv_technique, scoring='f1')\n",
    "    cv_scores.append(scores)\n",
    "\n",
    "# boxplot\n",
    "plt.figure(figsize=(12, 6))\n",
    "plt.boxplot(cv_scores)\n",
    "plt.title('Bagging de Árboles', fontsize=14)\n",
    "plt.xlabel('Modelos probados (índice)', fontsize=14)\n",
    "plt.ylabel('CV Score (f1)', fontsize=14)\n",
    "plt.xticks(range(2, len(cv_scores)+1), fontsize=12) # no consigo poner el xtick = 0\n",
    "plt.show()\n",
    "\n",
    "end_time = time.time()\n",
    "print()\n",
    "print(\"Tiempo de ejecución:\", end_time - start_time, \"segundos\")"
   ]
  },
  {
   "cell_type": "code",
   "execution_count": 9,
   "id": "5dc066aa",
   "metadata": {},
   "outputs": [
    {
     "name": "stdout",
     "output_type": "stream",
     "text": [
      "{'algorithm__max_samples': 1.0, 'algorithm__n_estimators': 10, 'feature_selection__k': 3}\n",
      "\n",
      "{'algorithm__max_samples': 1.0, 'algorithm__n_estimators': 10, 'feature_selection__k': 4}\n",
      "\n",
      "{'algorithm__max_samples': 1.0, 'algorithm__n_estimators': 30, 'feature_selection__k': 4}\n",
      "\n",
      "{'algorithm__max_samples': 0.5, 'algorithm__n_estimators': 20, 'feature_selection__k': 6}\n",
      "\n",
      "{'algorithm__max_samples': 0.75, 'algorithm__n_estimators': 20, 'feature_selection__k': 5}\n",
      "\n",
      "{'algorithm__max_samples': 0.75, 'algorithm__n_estimators': 20, 'feature_selection__k': 6}\n",
      "\n"
     ]
    }
   ],
   "source": [
    "# Comparar mejores\n",
    "print(grid_params[24])\n",
    "print()\n",
    "print(grid_params[25])\n",
    "print()\n",
    "print(grid_params[33])\n",
    "print()\n",
    "print(grid_params[7])\n",
    "print()\n",
    "print(grid_params[18])\n",
    "print()\n",
    "print(grid_params[19])\n",
    "print()\n",
    "\n",
    "## A iguales resultados, escogemos menor n_estimator y el menor max_samples"
   ]
  },
  {
   "cell_type": "code",
   "execution_count": 19,
   "id": "f2939df5",
   "metadata": {},
   "outputs": [
    {
     "data": {
      "text/plain": [
       "{'base_estimator': 'deprecated',\n",
       " 'bootstrap': True,\n",
       " 'bootstrap_features': False,\n",
       " 'estimator__ccp_alpha': 0.0,\n",
       " 'estimator__class_weight': 'balanced',\n",
       " 'estimator__criterion': 'gini',\n",
       " 'estimator__max_depth': 5,\n",
       " 'estimator__max_features': None,\n",
       " 'estimator__max_leaf_nodes': None,\n",
       " 'estimator__min_impurity_decrease': 0.0,\n",
       " 'estimator__min_samples_leaf': 40,\n",
       " 'estimator__min_samples_split': 2,\n",
       " 'estimator__min_weight_fraction_leaf': 0.0,\n",
       " 'estimator__random_state': 99,\n",
       " 'estimator__splitter': 'best',\n",
       " 'estimator': DecisionTreeClassifier(class_weight='balanced', max_depth=5,\n",
       "                        min_samples_leaf=40, random_state=99),\n",
       " 'max_features': 1.0,\n",
       " 'max_samples': 0.5,\n",
       " 'n_estimators': 20,\n",
       " 'n_jobs': None,\n",
       " 'oob_score': False,\n",
       " 'random_state': 99,\n",
       " 'verbose': 0,\n",
       " 'warm_start': False}"
      ]
     },
     "execution_count": 19,
     "metadata": {},
     "output_type": "execute_result"
    }
   ],
   "source": [
    "# El mejor modelo es:\n",
    "modelo_optimo = 6 # indicar nº óptimo\n",
    "\n",
    "# Configura el pipeline con los parámetros deseados\n",
    "selected_params = grid_params[modelo_optimo]\n",
    "pipe_fs.set_params(**selected_params)\n",
    "\n",
    "# Ajusta el modelo\n",
    "selected_model = pipe_fs.fit(X_train, y_train)\n",
    "selected_model\n",
    "\n",
    "selected_model.named_steps['algorithm'].get_params()"
   ]
  },
  {
   "cell_type": "code",
   "execution_count": 11,
   "id": "05dd037f",
   "metadata": {},
   "outputs": [
    {
     "name": "stdout",
     "output_type": "stream",
     "text": [
      "Las 5 variabs seleccionadas son:\n"
     ]
    },
    {
     "data": {
      "text/plain": [
       "['scaler__Minimum Orbit Intersection',\n",
       " 'scaler__Est Dia in M(max)_raiz2',\n",
       " 'encoder__Orbit Uncertainity (categ)_0 scaler__Minimum Orbit Intersection_log',\n",
       " 'scaler__Est Dia in M(max) scaler__Minimum Orbit Intersection_log',\n",
       " 'scaler__Est Dia in M(max)_raiz2 scaler__Minimum Orbit Intersection_log']"
      ]
     },
     "execution_count": 11,
     "metadata": {},
     "output_type": "execute_result"
    }
   ],
   "source": [
    "# Variables seleccionadas:\n",
    "\n",
    "ct_names = selected_model.named_steps['column_transform'].get_feature_names_out()\n",
    "poly_names = selected_model.named_steps['polynomial'].get_feature_names_out(input_features=ct_names)\n",
    "select_names = selected_model.named_steps['feature_selection'].get_feature_names_out(input_features=poly_names)\n",
    "\n",
    "print(f\"Las {len(select_names)} variabs seleccionadas son:\")\n",
    "[i for i in select_names]"
   ]
  },
  {
   "cell_type": "code",
   "execution_count": 20,
   "id": "37d65a48",
   "metadata": {
    "scrolled": true
   },
   "outputs": [
    {
     "name": "stdout",
     "output_type": "stream",
     "text": [
      "El valor de f1 score es: \n",
      " 0.97\n",
      "Otros estadísticos del test: \n",
      "               precision    recall  f1-score   support\n",
      "\n",
      "           0       0.99      0.99      0.99       787\n",
      "           1       0.97      0.97      0.97       151\n",
      "\n",
      "    accuracy                           0.99       938\n",
      "   macro avg       0.98      0.98      0.98       938\n",
      "weighted avg       0.99      0.99      0.99       938\n",
      "\n"
     ]
    },
    {
     "data": {
      "image/png": "[encoded data removed]",
      "text/plain": [
       "<Figure size 288x288 with 1 Axes>"
      ]
     },
     "metadata": {},
     "output_type": "display_data"
    }
   ],
   "source": [
    "# Score y Confusion Matrix\n",
    "\n",
    "# Evalúa el mejor modelo en tus datos de prueba\n",
    "y_pred = selected_model.predict(X_test)\n",
    "\n",
    "# Calcular la precisión de las predicciones en el conjunto de prueba\n",
    "print(f\"El valor de f1 score es: \\n {f1_score(y_test, y_pred).round(3)}\")\n",
    "print(f\"Otros estadísticos del test: \\n {classification_report(y_test, y_pred)}\")\n",
    "\n",
    "# Matriz de confusión\n",
    "cm = confusion_matrix(y_test, y_pred)\n",
    "disp = ConfusionMatrixDisplay(confusion_matrix=cm)\n",
    "\n",
    "fig, ax = plt.subplots(figsize=(4, 4))\n",
    "disp.plot(ax=ax, cmap='viridis', values_format='d', colorbar=False)\n",
    "ax.grid(False) # Deshabilitar el grid de fondo\n",
    "\n",
    "# plt.title('Matriz de confusión', fontsize=18) # Cambiar tamaño del título\n",
    "ax.spines[['bottom','top','left','right']].set_color('black')\n",
    "plt.title('Bagging de árboles', fontsize=16)\n",
    "plt.xlabel('Predicciones', fontsize=16)\n",
    "plt.ylabel('Valores Reales', fontsize=16)\n",
    "plt.xticks(fontsize=15)\n",
    "plt.yticks(fontsize=15)\n",
    "for text in ax.texts:\n",
    "    text.set_fontsize(15)\n",
    "plt.show()"
   ]
  },
  {
   "cell_type": "markdown",
   "id": "80c588cc",
   "metadata": {},
   "source": [
    "### Importancia de las variables"
   ]
  },
  {
   "cell_type": "code",
   "execution_count": 13,
   "id": "4d8595bb",
   "metadata": {},
   "outputs": [
    {
     "data": {
      "text/plain": [
       "True"
      ]
     },
     "execution_count": 13,
     "metadata": {},
     "output_type": "execute_result"
    }
   ],
   "source": [
    "## Importancia (promedio) de las variabs seleccionadas\n",
    "\n",
    "# Iniciar vector con dim correcta\n",
    "importances = np.zeros(len(select_names))\n",
    "\n",
    "# A diferencia de RandomForestClassifier(), BaggingClassifier no tiene integrada la importancia\n",
    "# promedio de las variabs. Pero sí la importancia en cada uno de sus árboles, así que podemos calcularla:\n",
    "\n",
    "# n_estimators\n",
    "n_trees = selected_model.named_steps['algorithm'].n_estimators\n",
    "\n",
    "# Calculamos la importancia promedio de cada variab\n",
    "for i in range(n_trees):\n",
    "        importances = importances + selected_model.named_steps['algorithm'].estimators_[i].feature_importances_\n",
    "        \n",
    "importances /= n_trees # dividimos porque queremos el promedio\n",
    "\n",
    "# comprobación\n",
    "len(select_names) == len(importances)"
   ]
  },
  {
   "cell_type": "code",
   "execution_count": 14,
   "id": "6a3aa68f",
   "metadata": {},
   "outputs": [
    {
     "data": {
      "image/png": "[encoded data removed]",
      "text/plain": [
       "<Figure size 720x360 with 1 Axes>"
      ]
     },
     "metadata": {},
     "output_type": "display_data"
    }
   ],
   "source": [
    "# Crear un dataframe con la información\n",
    "df_importances = pd.DataFrame({'Variable': select_names, 'Importancia': importances})\n",
    "\n",
    "# Ordenar las variables por su importancia\n",
    "df_importances = df_importances.sort_values('Importancia', ascending=False)\n",
    "\n",
    "# (recortar el nombre de las variabs, sino es muy largo)\n",
    "df_importances['Variable'] = df_importances['Variable'].replace(['scaler__', 'encoder__'], '', regex=True)\n",
    "\n",
    "# Gráfico de barras\n",
    "plt.figure(figsize=(10,5))\n",
    "# Como son demasiadas variabs, mostramos solo las n mejores:\n",
    "n = 10 # esto al final no lo he usado, pero se puede dejar así\n",
    "plt.bar(df_importances['Variable'][0:n], df_importances['Importancia'][0:n])\n",
    "plt.xticks(rotation=90, fontsize=14)\n",
    "plt.yticks(fontsize=14) \n",
    "plt.title('Importancia de las variables (Bagging de árboles)', fontsize=14) \n",
    "plt.xlabel('Variables', fontsize=14)\n",
    "plt.ylabel('Importancia', fontsize=14)\n",
    "plt.show()"
   ]
  },
  {
   "cell_type": "code",
   "execution_count": 21,
   "id": "34dd03fe",
   "metadata": {},
   "outputs": [],
   "source": [
    "import pickle\n",
    "\n",
    "# Guarda los datos de puntuaciones\n",
    "with open('cv_scores_model3.pkl', 'wb') as f:\n",
    "    pickle.dump(cv_scores[modelo_optimo], f)"
   ]
  },
  {
   "cell_type": "markdown",
   "id": "ed53bc5e",
   "metadata": {},
   "source": [
    "### [EXTRA] Recursive feature elimination"
   ]
  },
  {
   "cell_type": "code",
   "execution_count": 15,
   "id": "f6fdf6d4",
   "metadata": {},
   "outputs": [],
   "source": [
    "# # Dummificar la variab categ\n",
    "# encoder = OneHotEncoder(drop=[\"3-9\"])\n",
    "# X_encoded = encoder.fit_transform(X_train[['Orbit Uncertainity (categ)']])\n",
    "\n",
    "# # Crear un DataFrame a partir de la matriz codificada y asignar nombres a las columnas dummy\n",
    "# X_dummies = pd.DataFrame(X_encoded.toarray(), columns=encoder.get_feature_names_out(['Orbit Uncertainity (categ)']))\n",
    "\n",
    "# # X_encoded no conserva el índice original. \n",
    "# # X_train tiene los índices desordenados y además le faltan algunos índices intermedios (esto es lo normal por train_test_split).\n",
    "# # Para no perder datos (presencia de nulls) al hacer el concat, hay que redefinir el índice de X_dummies:\n",
    "# X_dummies = X_dummies.set_index(X_train.index)\n",
    "\n",
    "# # Concatenar el DataFrame de variables numéricas con el DataFrame de variables dummy\n",
    "# X_RFE = pd.concat([X_train.select_dtypes(include='number'), X_dummies], axis=1)"
   ]
  },
  {
   "cell_type": "code",
   "execution_count": 16,
   "id": "ed19b6b5",
   "metadata": {},
   "outputs": [],
   "source": [
    "# # Indicar el RandomForestClassifier() a analizar\n",
    "# rf = selected_model.named_steps['algorithm']\n",
    "\n",
    "# # Use recursive feature elimination with cross-validation to select the top features\n",
    "# rfe = RFECV(estimator=rf, step=1, cv=cv_technique, scoring='f1')\n",
    "# rfe.fit(X_RFE, y_train)\n",
    "\n",
    "#     ### SOSPECHO que RFECV es lo mismo que si meto RFE en mi pipeline y pasa por GridSearch\n",
    "#     ## Comprobarlo???\n",
    "\n",
    "# # Print the results\n",
    "# print(\"Optimal number of features : %d\" % rfe.n_features_)\n",
    "# print(\"Selected features: \", rfe.support_)\n",
    "# print(\"Feature rankings: \", rfe.ranking_)"
   ]
  },
  {
   "cell_type": "code",
   "execution_count": 17,
   "id": "1a6b5fc6",
   "metadata": {},
   "outputs": [],
   "source": [
    "# # Mejores variabs (según RFE)\n",
    "# X_RFE.columns[rfe.ranking_ == 1]\n",
    "\n",
    "# # Coincide con la importancia (es que en nuestro dataset en particular, está muy claro jaja)"
   ]
  },
  {
   "cell_type": "code",
   "execution_count": 18,
   "id": "f3f28523",
   "metadata": {},
   "outputs": [],
   "source": [
    "# X_RFE.columns # comprobación (visual)"
   ]
  }
 ],
 "metadata": {
  "kernelspec": {
   "display_name": "Python 3 (ipykernel)",
   "language": "python",
   "name": "python3"
  },
  "language_info": {
   "codemirror_mode": {
    "name": "ipython",
    "version": 3
   },
   "file_extension": ".py",
   "mimetype": "text/x-python",
   "name": "python",
   "nbconvert_exporter": "python",
   "pygments_lexer": "ipython3",
   "version": "3.9.7"
  }
 },
 "nbformat": 4,
 "nbformat_minor": 5
}
