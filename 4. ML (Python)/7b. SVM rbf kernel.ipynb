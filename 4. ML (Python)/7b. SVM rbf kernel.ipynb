{
 "cells": [
  {
   "cell_type": "code",
   "execution_count": 1,
   "id": "40c0b70e",
   "metadata": {},
   "outputs": [],
   "source": [
    "# analysis\n",
    "import pandas as pd\n",
    "import numpy as np\n",
    "import matplotlib.pyplot as plt\n",
    "import seaborn as sns\n",
    "import warnings\n",
    "\n",
    "sns.set_style('darkgrid')\n",
    "np.set_printoptions(precision=3)\n",
    "warnings.filterwarnings(\"ignore\")\n",
    "\n",
    "# missings (imputer)\n",
    "# from sklearn.impute import SimpleImputer, KNNImputer\n",
    "\n",
    "# interacciones\n",
    "from sklearn.preprocessing import PolynomialFeatures\n",
    "\n",
    "# transformaciones\n",
    "from sklearn.compose import ColumnTransformer\n",
    "# - variab numéricas\n",
    "from sklearn.preprocessing import RobustScaler # MinMaxScaler, StandardScaler, Normalizer, Binarizer \n",
    "# from sklearn.preprocessing import PowerTransformer, BoxCox\n",
    "# - variab categ\n",
    "from sklearn.preprocessing import OneHotEncoder # LabelEncoder, OrdinalEncoder\n",
    "\n",
    "# feature selection\n",
    "from sklearn.feature_selection import f_classif # chi2\n",
    "from sklearn.feature_selection import SelectKBest, SelectFromModel\n",
    "from sklearn.feature_selection import RFE, RFECV\n",
    "# from sklearn.decomposition import PCA\n",
    "\n",
    "# algoritmos\n",
    "from sklearn.linear_model import LogisticRegression\n",
    "from sklearn.tree import DecisionTreeClassifier\n",
    "from sklearn.neighbors import KNeighborsClassifier\n",
    "from sklearn.discriminant_analysis import LinearDiscriminantAnalysis\n",
    "from sklearn.naive_bayes import GaussianNB\n",
    "from sklearn.svm import SVC\n",
    "from sklearn.neural_network import MLPClassifier # red neuronal\n",
    "\n",
    "# bagging\n",
    "from sklearn.ensemble import BaggingClassifier, RandomForestClassifier\n",
    "from sklearn.ensemble import VotingClassifier, ExtraTreesClassifier\n",
    "\n",
    "# boosting\n",
    "from sklearn.ensemble import GradientBoostingClassifier\n",
    "from sklearn.ensemble import AdaBoostClassifier\n",
    "# import xgboost as xgb\n",
    "\n",
    "# model selection\n",
    "from sklearn.model_selection import train_test_split\n",
    "from imblearn.over_sampling import SMOTE, SMOTENC\n",
    "from sklearn.pipeline import Pipeline # make_pipeline\n",
    "from sklearn.model_selection import GridSearchCV # RandomizedSearchCV\n",
    "from sklearn.model_selection import KFold, ShuffleSplit, LeaveOneOut, StratifiedKFold, RepeatedStratifiedKFold\n",
    "from sklearn.model_selection import cross_val_score, cross_val_predict, ParameterGrid\n",
    "\n",
    "# Técnicas de evaluación\n",
    "from sklearn.metrics import confusion_matrix, ConfusionMatrixDisplay\n",
    "from sklearn.metrics import classification_report\n",
    "from sklearn.metrics import make_scorer, accuracy_score, f1_score, precision_score, recall_score\n",
    "from sklearn.metrics import auc, roc_curve, roc_auc_score, RocCurveDisplay"
   ]
  },
  {
   "cell_type": "code",
   "execution_count": 2,
   "id": "0f800ac8",
   "metadata": {},
   "outputs": [],
   "source": [
    "# semilla de aleatorización\n",
    "\n",
    "seed = 99"
   ]
  },
  {
   "cell_type": "code",
   "execution_count": 3,
   "id": "b220feb0",
   "metadata": {},
   "outputs": [
    {
     "name": "stdout",
     "output_type": "stream",
     "text": [
      "Número de filas: 4687, Númerode columnas:24\n"
     ]
    }
   ],
   "source": [
    "data = pd.read_csv('Datasets/datos_procesados.csv')\n",
    "\n",
    "print(f'Número de filas: {data.shape[0]}, Númerode columnas:{data.shape[1]}')"
   ]
  },
  {
   "cell_type": "code",
   "execution_count": 4,
   "id": "0e02ec38",
   "metadata": {},
   "outputs": [],
   "source": [
    "# Separar en train y test\n",
    "X_train = data[data['Dataset'] == 'train'].drop(['Dataset'], axis=1)\n",
    "X_test = data[data['Dataset'] == 'test'].drop(['Dataset'], axis=1)\n",
    "\n",
    "# variable objetivo (.pop elimina la col de X, que también es un paso necesario)\n",
    "y_train = X_train.pop('Hazardous')\n",
    "y_test = X_test.pop('Hazardous')"
   ]
  },
  {
   "cell_type": "code",
   "execution_count": 5,
   "id": "3b45ea07",
   "metadata": {},
   "outputs": [
    {
     "data": {
      "text/plain": [
       "array([[   0, 3145],\n",
       "       [   1, 3145]], dtype=int64)"
      ]
     },
     "execution_count": 5,
     "metadata": {},
     "output_type": "execute_result"
    }
   ],
   "source": [
    "# SMOTE\n",
    "\n",
    "# Probaremos a obtener el mejor modelo tanto con los train_data desbalanceados como balanceados con smote\n",
    "\n",
    "categ_index = X_train.columns.get_loc('Orbit Uncertainity (categ)')\n",
    "\n",
    "smote_nc = SMOTENC(categorical_features=[categ_index], # hay que indicarle cuál es la variab categ en el dataset que se va a transformar\n",
    "             random_state=seed)\n",
    "\n",
    "X_train_resampled, y_train_resampled = smote_nc.fit_resample(X_train, y_train)\n",
    "\n",
    "# Observamos el resultado del rebalanceo:\n",
    "np.array(np.unique(y_train_resampled, return_counts=True)).T"
   ]
  },
  {
   "cell_type": "markdown",
   "id": "63cddfff",
   "metadata": {},
   "source": [
    "Teoría:\n",
    "\n",
    "Parámetros para clasificación binaria con SVM (SVC) en sklearn:\n",
    "\n",
    "* **C**: Parámetro de regularización (relacionado con el concepto de soft margin del SVM).\n",
    "\n",
    "    Controla la penalización por errores de clasificación. Un valor más alto de C indica un mayor énfasis en clasificar correctamente cada punto de datos del conjunto de entrenamiento. Un valor más bajo de C permite una mayor flexibilidad y puede resultar en una frontera de decisión más suave. El rango típico de valores para C es 0.1 a 1000 (a mayor C, mayor sobreajuste).\n",
    "\n",
    "* **kernel**: Función de kernel utilizada para transformar los datos de entrada en un espacio de mayor dimensión donde sea más fácil encontrar un hiperplano de separación lineal. Ejemplos:\n",
    "    - 'linear'\n",
    "    - 'poly' (polinomial)\n",
    "    - 'rbf': función de base radial (Radial Basis Function)\n",
    "    - 'sigmoid'\n",
    "\n",
    "* **gamma**: Parámetro para los kernels 'rbf', 'sigmoid', y 'poly' (parám de las expresiones matemáticas de esas funciones).\n",
    "\n",
    "    Controla la influencia de cada punto de datos en la formación de la frontera de decisión. Valores más altos de gamma dan como resultado una frontera de decisión más ajustada que se adapta a puntos de datos individuales, mientras que valores más bajos de gamma dan como resultado una frontera de decisión más suave y generalizada. El rango típico de valores para gamma es 0.1 a 10."
   ]
  },
  {
   "cell_type": "markdown",
   "id": "6ace8c5a",
   "metadata": {},
   "source": [
    "## 2) SVC - Kernel RBF"
   ]
  },
  {
   "cell_type": "code",
   "execution_count": 6,
   "id": "cc63cbb3",
   "metadata": {},
   "outputs": [],
   "source": [
    "## b) SVC - Kernel RBF\n",
    "\n",
    "# Elegir el algoritmo\n",
    "model = SVC(kernel='rbf',\n",
    "            class_weight='balanced',\n",
    "            random_state=seed)\n",
    "\n",
    "# Tuneado del modelo:\n",
    "# malla de paráms\n",
    "parametros = {\n",
    "    \"algorithm__C\": [0.1, 1],\n",
    "    \"algorithm__gamma\": [0.1, 1]\n",
    "}"
   ]
  },
  {
   "cell_type": "code",
   "execution_count": 7,
   "id": "f0a636f3",
   "metadata": {},
   "outputs": [
    {
     "name": "stdout",
     "output_type": "stream",
     "text": [
      "Best CV score: 0.5615215038167785\n",
      "\n",
      "Tiempo de ejecución: 936.1895298957825 segundos\n"
     ]
    }
   ],
   "source": [
    "import time\n",
    "start_time = time.time()\n",
    "\n",
    "# Elegir el algoritmo\n",
    "model = SVC(kernel='rbf',\n",
    "            class_weight='balanced',\n",
    "            random_state=seed)\n",
    "\n",
    "# Definir variabs numéricas y categóricas\n",
    "scaler_features = X_train.select_dtypes(include=[np.number]).columns.tolist()\n",
    "categ_features = [feature for feature in X_train.columns if feature not in scaler_features]\n",
    "\n",
    "col_transformer = ColumnTransformer(\n",
    "    [\n",
    "    ('encoder', OneHotEncoder(drop=[\"3-9\"]), ['Orbit Uncertainity (categ)']),\n",
    "    ('scaler', RobustScaler(), scaler_features)\n",
    "    ], remainder='passthrough')\n",
    "\n",
    "\n",
    "# Definir instancia SMOTENC (se puede o bien definir fuera y pasar X_train_resampled, o bien definir aquí y pasar X_train)\n",
    "categ_index = X_train.columns.get_loc('Orbit Uncertainity (categ)')\n",
    "smote_nc = SMOTENC(categorical_features=[categ_index], # hay que indicarle cuál es la variab categ en el dataset que se va a transformar\n",
    "             random_state=seed)\n",
    "\n",
    "# Pipeline 1\n",
    "pipe = Pipeline([\n",
    "#         ('smote_nc', smote_nc), # quitarlo si class_weight='balanced'\n",
    "        ('column_transform', col_transformer),\n",
    "        ('polynomial', PolynomialFeatures(degree=2, interaction_only=True, include_bias=False)), # añadir interacciones\n",
    "        ('algorithm', model)        \n",
    "])\n",
    "\n",
    "# Tuneado del modelo:\n",
    "# malla de paráms\n",
    "parametros = {\n",
    "    \"algorithm__C\": [0.1, 1, 10, 100],\n",
    "    \"algorithm__gamma\": [0.1, 1, 10],\n",
    "}\n",
    "\n",
    "# Repeated cross_val (stratified)\n",
    "# cv_technique = StratifiedKFold(n_splits=10, shuffle=True, random_state=seed)\n",
    "cv_technique = RepeatedStratifiedKFold(n_splits=10, n_repeats=5, random_state=seed)\n",
    "    \n",
    "# combinamos todo\n",
    "gsearch = GridSearchCV(estimator=pipe, cv=cv_technique, param_grid=parametros, scoring='f1') # (*)\n",
    "\n",
    "# buscamos el mejor modelo\n",
    "# opción a) sin resample y con class_weight='balanced':\n",
    "grid_model = gsearch.fit(X_train, y_train)\n",
    "\n",
    "# opción b) con resample (SMOTE)\n",
    "# grid_model = gsearch.fit(X_train_resampled, y_train_resampled)\n",
    "\n",
    "print(\"Best CV score:\", grid_model.best_score_)\n",
    "\n",
    "end_time = time.time()\n",
    "print()\n",
    "print(\"Tiempo de ejecución:\", end_time - start_time, \"segundos\")"
   ]
  },
  {
   "cell_type": "code",
   "execution_count": 8,
   "id": "630b6adf",
   "metadata": {},
   "outputs": [
    {
     "data": {
      "text/html": [
       "<style>#sk-container-id-1 {color: black;background-color: white;}#sk-container-id-1 pre{padding: 0;}#sk-container-id-1 div.sk-toggleable {background-color: white;}#sk-container-id-1 label.sk-toggleable__label {cursor: pointer;display: block;width: 100%;margin-bottom: 0;padding: 0.3em;box-sizing: border-box;text-align: center;}#sk-container-id-1 label.sk-toggleable__label-arrow:before {content: \"▸\";float: left;margin-right: 0.25em;color: #696969;}#sk-container-id-1 label.sk-toggleable__label-arrow:hover:before {color: black;}#sk-container-id-1 div.sk-estimator:hover label.sk-toggleable__label-arrow:before {color: black;}#sk-container-id-1 div.sk-toggleable__content {max-height: 0;max-width: 0;overflow: hidden;text-align: left;background-color: #f0f8ff;}#sk-container-id-1 div.sk-toggleable__content pre {margin: 0.2em;color: black;border-radius: 0.25em;background-color: #f0f8ff;}#sk-container-id-1 input.sk-toggleable__control:checked~div.sk-toggleable__content {max-height: 200px;max-width: 100%;overflow: auto;}#sk-container-id-1 input.sk-toggleable__control:checked~label.sk-toggleable__label-arrow:before {content: \"▾\";}#sk-container-id-1 div.sk-estimator input.sk-toggleable__control:checked~label.sk-toggleable__label {background-color: #d4ebff;}#sk-container-id-1 div.sk-label input.sk-toggleable__control:checked~label.sk-toggleable__label {background-color: #d4ebff;}#sk-container-id-1 input.sk-hidden--visually {border: 0;clip: rect(1px 1px 1px 1px);clip: rect(1px, 1px, 1px, 1px);height: 1px;margin: -1px;overflow: hidden;padding: 0;position: absolute;width: 1px;}#sk-container-id-1 div.sk-estimator {font-family: monospace;background-color: #f0f8ff;border: 1px dotted black;border-radius: 0.25em;box-sizing: border-box;margin-bottom: 0.5em;}#sk-container-id-1 div.sk-estimator:hover {background-color: #d4ebff;}#sk-container-id-1 div.sk-parallel-item::after {content: \"\";width: 100%;border-bottom: 1px solid gray;flex-grow: 1;}#sk-container-id-1 div.sk-label:hover label.sk-toggleable__label {background-color: #d4ebff;}#sk-container-id-1 div.sk-serial::before {content: \"\";position: absolute;border-left: 1px solid gray;box-sizing: border-box;top: 0;bottom: 0;left: 50%;z-index: 0;}#sk-container-id-1 div.sk-serial {display: flex;flex-direction: column;align-items: center;background-color: white;padding-right: 0.2em;padding-left: 0.2em;position: relative;}#sk-container-id-1 div.sk-item {position: relative;z-index: 1;}#sk-container-id-1 div.sk-parallel {display: flex;align-items: stretch;justify-content: center;background-color: white;position: relative;}#sk-container-id-1 div.sk-item::before, #sk-container-id-1 div.sk-parallel-item::before {content: \"\";position: absolute;border-left: 1px solid gray;box-sizing: border-box;top: 0;bottom: 0;left: 50%;z-index: -1;}#sk-container-id-1 div.sk-parallel-item {display: flex;flex-direction: column;z-index: 1;position: relative;background-color: white;}#sk-container-id-1 div.sk-parallel-item:first-child::after {align-self: flex-end;width: 50%;}#sk-container-id-1 div.sk-parallel-item:last-child::after {align-self: flex-start;width: 50%;}#sk-container-id-1 div.sk-parallel-item:only-child::after {width: 0;}#sk-container-id-1 div.sk-dashed-wrapped {border: 1px dashed gray;margin: 0 0.4em 0.5em 0.4em;box-sizing: border-box;padding-bottom: 0.4em;background-color: white;}#sk-container-id-1 div.sk-label label {font-family: monospace;font-weight: bold;display: inline-block;line-height: 1.2em;}#sk-container-id-1 div.sk-label-container {text-align: center;}#sk-container-id-1 div.sk-container {/* jupyter's `normalize.less` sets `[hidden] { display: none; }` but bootstrap.min.css set `[hidden] { display: none !important; }` so we also need the `!important` here to be able to override the default hidden behavior on the sphinx rendered scikit-learn.org. See: https://github.com/scikit-learn/scikit-learn/issues/21755 */display: inline-block !important;position: relative;}#sk-container-id-1 div.sk-text-repr-fallback {display: none;}</style><div id=\"sk-container-id-1\" class=\"sk-top-container\"><div class=\"sk-text-repr-fallback\"><pre>SVC(C=1, class_weight=&#x27;balanced&#x27;, gamma=0.1, random_state=99)</pre><b>In a Jupyter environment, please rerun this cell to show the HTML representation or trust the notebook. <br />On GitHub, the HTML representation is unable to render, please try loading this page with nbviewer.org.</b></div><div class=\"sk-container\" hidden><div class=\"sk-item\"><div class=\"sk-estimator sk-toggleable\"><input class=\"sk-toggleable__control sk-hidden--visually\" id=\"sk-estimator-id-1\" type=\"checkbox\" checked><label for=\"sk-estimator-id-1\" class=\"sk-toggleable__label sk-toggleable__label-arrow\">SVC</label><div class=\"sk-toggleable__content\"><pre>SVC(C=1, class_weight=&#x27;balanced&#x27;, gamma=0.1, random_state=99)</pre></div></div></div></div></div>"
      ],
      "text/plain": [
       "SVC(C=1, class_weight='balanced', gamma=0.1, random_state=99)"
      ]
     },
     "execution_count": 8,
     "metadata": {},
     "output_type": "execute_result"
    }
   ],
   "source": [
    "# Mejor estimador\n",
    "grid_model.best_estimator_.named_steps['algorithm']"
   ]
  },
  {
   "cell_type": "code",
   "execution_count": 14,
   "id": "a35520cb",
   "metadata": {},
   "outputs": [
    {
     "data": {
      "image/png": "[encoded data removed]",
      "text/plain": [
       "<Figure size 864x432 with 1 Axes>"
      ]
     },
     "metadata": {},
     "output_type": "display_data"
    },
    {
     "name": "stdout",
     "output_type": "stream",
     "text": [
      "\n",
      "Tiempo de ejecución: 0.11910867691040039 segundos\n"
     ]
    }
   ],
   "source": [
    "# Pipeline 2: feature selection (cross_val_score)\n",
    "# Repetir la cross_val, pero guardando los scores para poder representarlos y\n",
    "# además, haciendo feature selection basada en f_classif\n",
    "\n",
    "import time\n",
    "start_time = time.time()\n",
    "\n",
    "pipe_fs = Pipeline([\n",
    "#         ('smote_nc', smote_nc), # quitarlo si class_weight='balanced'\n",
    "        ('column_transform', col_transformer),\n",
    "        ('polynomial', PolynomialFeatures(degree=2, interaction_only=True, include_bias=False)), # añadir interacciones\n",
    "        ('feature_selection', SelectKBest(score_func=f_classif)), # k = número de variabs a seleccionar\n",
    "        ('algorithm', grid_model.best_estimator_.named_steps['algorithm'])        \n",
    "]) # importante: meter el mejor algorithm obtenido antes\n",
    "\n",
    "parametros_fs = {\n",
    "    \"feature_selection__k\": [3,4,5,6],\n",
    "}\n",
    "\n",
    "# Cambiar el formato de la malla de parámetros para poder usarlos en el bucle for\n",
    "grid_params = list(ParameterGrid(parametros_fs)) # lista de diccionarios\n",
    "\n",
    "cv_scores = []\n",
    "for params in grid_params:\n",
    "    # Configurar los parámetros del pipeline\n",
    "    pipe_fs.set_params(**params)\n",
    "    \n",
    "    # Calcular los scores\n",
    "    scores = cross_val_score(pipe_fs,\n",
    "                             X_train, y_train, # X_train_resampled, y_train_resampled\n",
    "                             cv=cv_technique, scoring='f1')\n",
    "    cv_scores.append(scores)\n",
    "\n",
    "# boxplot\n",
    "plt.figure(figsize=(12, 6))\n",
    "plt.boxplot(cv_scores)\n",
    "plt.title('SVM (kernel RBF)', fontsize=14)\n",
    "plt.xlabel('Modelos probados (índice)', fontsize=14)\n",
    "plt.ylabel('CV Score (f1)', fontsize=14)\n",
    "plt.xticks(range(2, len(cv_scores)+1), fontsize=12) # no consigo poner el xtick = 0\n",
    "plt.show()\n",
    "\n",
    "end_time = time.time()\n",
    "print()\n",
    "print(\"Tiempo de ejecución:\", end_time - start_time, \"segundos\")"
   ]
  },
  {
   "cell_type": "code",
   "execution_count": 15,
   "id": "bdf32c27",
   "metadata": {},
   "outputs": [
    {
     "data": {
      "text/html": [
       "<style>#sk-container-id-3 {color: black;background-color: white;}#sk-container-id-3 pre{padding: 0;}#sk-container-id-3 div.sk-toggleable {background-color: white;}#sk-container-id-3 label.sk-toggleable__label {cursor: pointer;display: block;width: 100%;margin-bottom: 0;padding: 0.3em;box-sizing: border-box;text-align: center;}#sk-container-id-3 label.sk-toggleable__label-arrow:before {content: \"▸\";float: left;margin-right: 0.25em;color: #696969;}#sk-container-id-3 label.sk-toggleable__label-arrow:hover:before {color: black;}#sk-container-id-3 div.sk-estimator:hover label.sk-toggleable__label-arrow:before {color: black;}#sk-container-id-3 div.sk-toggleable__content {max-height: 0;max-width: 0;overflow: hidden;text-align: left;background-color: #f0f8ff;}#sk-container-id-3 div.sk-toggleable__content pre {margin: 0.2em;color: black;border-radius: 0.25em;background-color: #f0f8ff;}#sk-container-id-3 input.sk-toggleable__control:checked~div.sk-toggleable__content {max-height: 200px;max-width: 100%;overflow: auto;}#sk-container-id-3 input.sk-toggleable__control:checked~label.sk-toggleable__label-arrow:before {content: \"▾\";}#sk-container-id-3 div.sk-estimator input.sk-toggleable__control:checked~label.sk-toggleable__label {background-color: #d4ebff;}#sk-container-id-3 div.sk-label input.sk-toggleable__control:checked~label.sk-toggleable__label {background-color: #d4ebff;}#sk-container-id-3 input.sk-hidden--visually {border: 0;clip: rect(1px 1px 1px 1px);clip: rect(1px, 1px, 1px, 1px);height: 1px;margin: -1px;overflow: hidden;padding: 0;position: absolute;width: 1px;}#sk-container-id-3 div.sk-estimator {font-family: monospace;background-color: #f0f8ff;border: 1px dotted black;border-radius: 0.25em;box-sizing: border-box;margin-bottom: 0.5em;}#sk-container-id-3 div.sk-estimator:hover {background-color: #d4ebff;}#sk-container-id-3 div.sk-parallel-item::after {content: \"\";width: 100%;border-bottom: 1px solid gray;flex-grow: 1;}#sk-container-id-3 div.sk-label:hover label.sk-toggleable__label {background-color: #d4ebff;}#sk-container-id-3 div.sk-serial::before {content: \"\";position: absolute;border-left: 1px solid gray;box-sizing: border-box;top: 0;bottom: 0;left: 50%;z-index: 0;}#sk-container-id-3 div.sk-serial {display: flex;flex-direction: column;align-items: center;background-color: white;padding-right: 0.2em;padding-left: 0.2em;position: relative;}#sk-container-id-3 div.sk-item {position: relative;z-index: 1;}#sk-container-id-3 div.sk-parallel {display: flex;align-items: stretch;justify-content: center;background-color: white;position: relative;}#sk-container-id-3 div.sk-item::before, #sk-container-id-3 div.sk-parallel-item::before {content: \"\";position: absolute;border-left: 1px solid gray;box-sizing: border-box;top: 0;bottom: 0;left: 50%;z-index: -1;}#sk-container-id-3 div.sk-parallel-item {display: flex;flex-direction: column;z-index: 1;position: relative;background-color: white;}#sk-container-id-3 div.sk-parallel-item:first-child::after {align-self: flex-end;width: 50%;}#sk-container-id-3 div.sk-parallel-item:last-child::after {align-self: flex-start;width: 50%;}#sk-container-id-3 div.sk-parallel-item:only-child::after {width: 0;}#sk-container-id-3 div.sk-dashed-wrapped {border: 1px dashed gray;margin: 0 0.4em 0.5em 0.4em;box-sizing: border-box;padding-bottom: 0.4em;background-color: white;}#sk-container-id-3 div.sk-label label {font-family: monospace;font-weight: bold;display: inline-block;line-height: 1.2em;}#sk-container-id-3 div.sk-label-container {text-align: center;}#sk-container-id-3 div.sk-container {/* jupyter's `normalize.less` sets `[hidden] { display: none; }` but bootstrap.min.css set `[hidden] { display: none !important; }` so we also need the `!important` here to be able to override the default hidden behavior on the sphinx rendered scikit-learn.org. See: https://github.com/scikit-learn/scikit-learn/issues/21755 */display: inline-block !important;position: relative;}#sk-container-id-3 div.sk-text-repr-fallback {display: none;}</style><div id=\"sk-container-id-3\" class=\"sk-top-container\"><div class=\"sk-text-repr-fallback\"><pre>Pipeline(steps=[(&#x27;column_transform&#x27;,\n",
       "                 ColumnTransformer(remainder=&#x27;passthrough&#x27;,\n",
       "                                   transformers=[(&#x27;encoder&#x27;,\n",
       "                                                  OneHotEncoder(drop=[&#x27;3-9&#x27;]),\n",
       "                                                  [&#x27;Orbit Uncertainity &#x27;\n",
       "                                                   &#x27;(categ)&#x27;]),\n",
       "                                                 (&#x27;scaler&#x27;, RobustScaler(),\n",
       "                                                  [&#x27;Est Dia in M(max)&#x27;,\n",
       "                                                   &#x27;Relative Velocity km per &#x27;\n",
       "                                                   &#x27;sec&#x27;,\n",
       "                                                   &#x27;Miss Dist.(Astronomical)&#x27;,\n",
       "                                                   &#x27;Minimum Orbit Intersection&#x27;,\n",
       "                                                   &#x27;Eccentricity&#x27;,\n",
       "                                                   &#x27;Semi Major Axis&#x27;,\n",
       "                                                   &#x27;Inclination&#x27;,\n",
       "                                                   &#x27;Asc Node Longitude...\n",
       "                                                   &#x27;Intersection_log&#x27;,\n",
       "                                                   &#x27;Semi Major Axis_log&#x27;,\n",
       "                                                   &#x27;Inclination_squared&#x27;,\n",
       "                                                   &#x27;Perihelion &#x27;\n",
       "                                                   &#x27;Distance_squared&#x27;,\n",
       "                                                   &#x27;Mean Anomaly_raiz2&#x27;,\n",
       "                                                   &#x27;Mean Motion_cuarta&#x27;,\n",
       "                                                   &#x27;Perihelion &#x27;\n",
       "                                                   &#x27;Arg_squared&#x27;])])),\n",
       "                (&#x27;polynomial&#x27;,\n",
       "                 PolynomialFeatures(include_bias=False, interaction_only=True)),\n",
       "                (&#x27;feature_selection&#x27;, SelectKBest(k=5)),\n",
       "                (&#x27;algorithm&#x27;,\n",
       "                 SVC(C=1, class_weight=&#x27;balanced&#x27;, gamma=0.1,\n",
       "                     random_state=99))])</pre><b>In a Jupyter environment, please rerun this cell to show the HTML representation or trust the notebook. <br />On GitHub, the HTML representation is unable to render, please try loading this page with nbviewer.org.</b></div><div class=\"sk-container\" hidden><div class=\"sk-item sk-dashed-wrapped\"><div class=\"sk-label-container\"><div class=\"sk-label sk-toggleable\"><input class=\"sk-toggleable__control sk-hidden--visually\" id=\"sk-estimator-id-13\" type=\"checkbox\" ><label for=\"sk-estimator-id-13\" class=\"sk-toggleable__label sk-toggleable__label-arrow\">Pipeline</label><div class=\"sk-toggleable__content\"><pre>Pipeline(steps=[(&#x27;column_transform&#x27;,\n",
       "                 ColumnTransformer(remainder=&#x27;passthrough&#x27;,\n",
       "                                   transformers=[(&#x27;encoder&#x27;,\n",
       "                                                  OneHotEncoder(drop=[&#x27;3-9&#x27;]),\n",
       "                                                  [&#x27;Orbit Uncertainity &#x27;\n",
       "                                                   &#x27;(categ)&#x27;]),\n",
       "                                                 (&#x27;scaler&#x27;, RobustScaler(),\n",
       "                                                  [&#x27;Est Dia in M(max)&#x27;,\n",
       "                                                   &#x27;Relative Velocity km per &#x27;\n",
       "                                                   &#x27;sec&#x27;,\n",
       "                                                   &#x27;Miss Dist.(Astronomical)&#x27;,\n",
       "                                                   &#x27;Minimum Orbit Intersection&#x27;,\n",
       "                                                   &#x27;Eccentricity&#x27;,\n",
       "                                                   &#x27;Semi Major Axis&#x27;,\n",
       "                                                   &#x27;Inclination&#x27;,\n",
       "                                                   &#x27;Asc Node Longitude...\n",
       "                                                   &#x27;Intersection_log&#x27;,\n",
       "                                                   &#x27;Semi Major Axis_log&#x27;,\n",
       "                                                   &#x27;Inclination_squared&#x27;,\n",
       "                                                   &#x27;Perihelion &#x27;\n",
       "                                                   &#x27;Distance_squared&#x27;,\n",
       "                                                   &#x27;Mean Anomaly_raiz2&#x27;,\n",
       "                                                   &#x27;Mean Motion_cuarta&#x27;,\n",
       "                                                   &#x27;Perihelion &#x27;\n",
       "                                                   &#x27;Arg_squared&#x27;])])),\n",
       "                (&#x27;polynomial&#x27;,\n",
       "                 PolynomialFeatures(include_bias=False, interaction_only=True)),\n",
       "                (&#x27;feature_selection&#x27;, SelectKBest(k=5)),\n",
       "                (&#x27;algorithm&#x27;,\n",
       "                 SVC(C=1, class_weight=&#x27;balanced&#x27;, gamma=0.1,\n",
       "                     random_state=99))])</pre></div></div></div><div class=\"sk-serial\"><div class=\"sk-item sk-dashed-wrapped\"><div class=\"sk-label-container\"><div class=\"sk-label sk-toggleable\"><input class=\"sk-toggleable__control sk-hidden--visually\" id=\"sk-estimator-id-14\" type=\"checkbox\" ><label for=\"sk-estimator-id-14\" class=\"sk-toggleable__label sk-toggleable__label-arrow\">column_transform: ColumnTransformer</label><div class=\"sk-toggleable__content\"><pre>ColumnTransformer(remainder=&#x27;passthrough&#x27;,\n",
       "                  transformers=[(&#x27;encoder&#x27;, OneHotEncoder(drop=[&#x27;3-9&#x27;]),\n",
       "                                 [&#x27;Orbit Uncertainity (categ)&#x27;]),\n",
       "                                (&#x27;scaler&#x27;, RobustScaler(),\n",
       "                                 [&#x27;Est Dia in M(max)&#x27;,\n",
       "                                  &#x27;Relative Velocity km per sec&#x27;,\n",
       "                                  &#x27;Miss Dist.(Astronomical)&#x27;,\n",
       "                                  &#x27;Minimum Orbit Intersection&#x27;, &#x27;Eccentricity&#x27;,\n",
       "                                  &#x27;Semi Major Axis&#x27;, &#x27;Inclination&#x27;,\n",
       "                                  &#x27;Asc Node Longitude&#x27;, &#x27;Perihelion Distance&#x27;,\n",
       "                                  &#x27;Mean Anomaly&#x27;, &#x27;Mean Motion&#x27;,\n",
       "                                  &#x27;Perihelion Arg&#x27;, &#x27;Est Dia in M(max)_raiz2&#x27;,\n",
       "                                  &#x27;Miss Dist.(Astronomical)_raiz2&#x27;,\n",
       "                                  &#x27;Minimum Orbit Intersection_log&#x27;,\n",
       "                                  &#x27;Semi Major Axis_log&#x27;, &#x27;Inclination_squared&#x27;,\n",
       "                                  &#x27;Perihelion Distance_squared&#x27;,\n",
       "                                  &#x27;Mean Anomaly_raiz2&#x27;, &#x27;Mean Motion_cuarta&#x27;,\n",
       "                                  &#x27;Perihelion Arg_squared&#x27;])])</pre></div></div></div><div class=\"sk-parallel\"><div class=\"sk-parallel-item\"><div class=\"sk-item\"><div class=\"sk-label-container\"><div class=\"sk-label sk-toggleable\"><input class=\"sk-toggleable__control sk-hidden--visually\" id=\"sk-estimator-id-15\" type=\"checkbox\" ><label for=\"sk-estimator-id-15\" class=\"sk-toggleable__label sk-toggleable__label-arrow\">encoder</label><div class=\"sk-toggleable__content\"><pre>[&#x27;Orbit Uncertainity (categ)&#x27;]</pre></div></div></div><div class=\"sk-serial\"><div class=\"sk-item\"><div class=\"sk-estimator sk-toggleable\"><input class=\"sk-toggleable__control sk-hidden--visually\" id=\"sk-estimator-id-16\" type=\"checkbox\" ><label for=\"sk-estimator-id-16\" class=\"sk-toggleable__label sk-toggleable__label-arrow\">OneHotEncoder</label><div class=\"sk-toggleable__content\"><pre>OneHotEncoder(drop=[&#x27;3-9&#x27;])</pre></div></div></div></div></div></div><div class=\"sk-parallel-item\"><div class=\"sk-item\"><div class=\"sk-label-container\"><div class=\"sk-label sk-toggleable\"><input class=\"sk-toggleable__control sk-hidden--visually\" id=\"sk-estimator-id-17\" type=\"checkbox\" ><label for=\"sk-estimator-id-17\" class=\"sk-toggleable__label sk-toggleable__label-arrow\">scaler</label><div class=\"sk-toggleable__content\"><pre>[&#x27;Est Dia in M(max)&#x27;, &#x27;Relative Velocity km per sec&#x27;, &#x27;Miss Dist.(Astronomical)&#x27;, &#x27;Minimum Orbit Intersection&#x27;, &#x27;Eccentricity&#x27;, &#x27;Semi Major Axis&#x27;, &#x27;Inclination&#x27;, &#x27;Asc Node Longitude&#x27;, &#x27;Perihelion Distance&#x27;, &#x27;Mean Anomaly&#x27;, &#x27;Mean Motion&#x27;, &#x27;Perihelion Arg&#x27;, &#x27;Est Dia in M(max)_raiz2&#x27;, &#x27;Miss Dist.(Astronomical)_raiz2&#x27;, &#x27;Minimum Orbit Intersection_log&#x27;, &#x27;Semi Major Axis_log&#x27;, &#x27;Inclination_squared&#x27;, &#x27;Perihelion Distance_squared&#x27;, &#x27;Mean Anomaly_raiz2&#x27;, &#x27;Mean Motion_cuarta&#x27;, &#x27;Perihelion Arg_squared&#x27;]</pre></div></div></div><div class=\"sk-serial\"><div class=\"sk-item\"><div class=\"sk-estimator sk-toggleable\"><input class=\"sk-toggleable__control sk-hidden--visually\" id=\"sk-estimator-id-18\" type=\"checkbox\" ><label for=\"sk-estimator-id-18\" class=\"sk-toggleable__label sk-toggleable__label-arrow\">RobustScaler</label><div class=\"sk-toggleable__content\"><pre>RobustScaler()</pre></div></div></div></div></div></div><div class=\"sk-parallel-item\"><div class=\"sk-item\"><div class=\"sk-label-container\"><div class=\"sk-label sk-toggleable\"><input class=\"sk-toggleable__control sk-hidden--visually\" id=\"sk-estimator-id-19\" type=\"checkbox\" ><label for=\"sk-estimator-id-19\" class=\"sk-toggleable__label sk-toggleable__label-arrow\">remainder</label><div class=\"sk-toggleable__content\"><pre>[]</pre></div></div></div><div class=\"sk-serial\"><div class=\"sk-item\"><div class=\"sk-estimator sk-toggleable\"><input class=\"sk-toggleable__control sk-hidden--visually\" id=\"sk-estimator-id-20\" type=\"checkbox\" ><label for=\"sk-estimator-id-20\" class=\"sk-toggleable__label sk-toggleable__label-arrow\">passthrough</label><div class=\"sk-toggleable__content\"><pre>passthrough</pre></div></div></div></div></div></div></div></div><div class=\"sk-item\"><div class=\"sk-estimator sk-toggleable\"><input class=\"sk-toggleable__control sk-hidden--visually\" id=\"sk-estimator-id-21\" type=\"checkbox\" ><label for=\"sk-estimator-id-21\" class=\"sk-toggleable__label sk-toggleable__label-arrow\">PolynomialFeatures</label><div class=\"sk-toggleable__content\"><pre>PolynomialFeatures(include_bias=False, interaction_only=True)</pre></div></div></div><div class=\"sk-item\"><div class=\"sk-estimator sk-toggleable\"><input class=\"sk-toggleable__control sk-hidden--visually\" id=\"sk-estimator-id-22\" type=\"checkbox\" ><label for=\"sk-estimator-id-22\" class=\"sk-toggleable__label sk-toggleable__label-arrow\">SelectKBest</label><div class=\"sk-toggleable__content\"><pre>SelectKBest(k=5)</pre></div></div></div><div class=\"sk-item\"><div class=\"sk-estimator sk-toggleable\"><input class=\"sk-toggleable__control sk-hidden--visually\" id=\"sk-estimator-id-23\" type=\"checkbox\" ><label for=\"sk-estimator-id-23\" class=\"sk-toggleable__label sk-toggleable__label-arrow\">SVC</label><div class=\"sk-toggleable__content\"><pre>SVC(C=1, class_weight=&#x27;balanced&#x27;, gamma=0.1, random_state=99)</pre></div></div></div></div></div></div></div>"
      ],
      "text/plain": [
       "Pipeline(steps=[('column_transform',\n",
       "                 ColumnTransformer(remainder='passthrough',\n",
       "                                   transformers=[('encoder',\n",
       "                                                  OneHotEncoder(drop=['3-9']),\n",
       "                                                  ['Orbit Uncertainity '\n",
       "                                                   '(categ)']),\n",
       "                                                 ('scaler', RobustScaler(),\n",
       "                                                  ['Est Dia in M(max)',\n",
       "                                                   'Relative Velocity km per '\n",
       "                                                   'sec',\n",
       "                                                   'Miss Dist.(Astronomical)',\n",
       "                                                   'Minimum Orbit Intersection',\n",
       "                                                   'Eccentricity',\n",
       "                                                   'Semi Major Axis',\n",
       "                                                   'Inclination',\n",
       "                                                   'Asc Node Longitude...\n",
       "                                                   'Intersection_log',\n",
       "                                                   'Semi Major Axis_log',\n",
       "                                                   'Inclination_squared',\n",
       "                                                   'Perihelion '\n",
       "                                                   'Distance_squared',\n",
       "                                                   'Mean Anomaly_raiz2',\n",
       "                                                   'Mean Motion_cuarta',\n",
       "                                                   'Perihelion '\n",
       "                                                   'Arg_squared'])])),\n",
       "                ('polynomial',\n",
       "                 PolynomialFeatures(include_bias=False, interaction_only=True)),\n",
       "                ('feature_selection', SelectKBest(k=5)),\n",
       "                ('algorithm',\n",
       "                 SVC(C=1, class_weight='balanced', gamma=0.1,\n",
       "                     random_state=99))])"
      ]
     },
     "execution_count": 15,
     "metadata": {},
     "output_type": "execute_result"
    }
   ],
   "source": [
    "# El mejor modelo es:\n",
    "modelo_optimo = 2 # indicar nº óptimo\n",
    "\n",
    "# Configura el pipeline con los parámetros deseados\n",
    "selected_params = grid_params[modelo_optimo]\n",
    "pipe_fs.set_params(**selected_params)\n",
    "\n",
    "# Ajusta el modelo\n",
    "selected_model = pipe_fs.fit(X_train, y_train)\n",
    "selected_model"
   ]
  },
  {
   "cell_type": "code",
   "execution_count": 16,
   "id": "866ac14c",
   "metadata": {},
   "outputs": [
    {
     "data": {
      "text/plain": [
       "{'C': 1,\n",
       " 'break_ties': False,\n",
       " 'cache_size': 200,\n",
       " 'class_weight': 'balanced',\n",
       " 'coef0': 0.0,\n",
       " 'decision_function_shape': 'ovr',\n",
       " 'degree': 3,\n",
       " 'gamma': 0.1,\n",
       " 'kernel': 'rbf',\n",
       " 'max_iter': -1,\n",
       " 'probability': False,\n",
       " 'random_state': 99,\n",
       " 'shrinking': True,\n",
       " 'tol': 0.001,\n",
       " 'verbose': False}"
      ]
     },
     "execution_count": 16,
     "metadata": {},
     "output_type": "execute_result"
    }
   ],
   "source": [
    "selected_model.named_steps['algorithm'].get_params()"
   ]
  },
  {
   "cell_type": "code",
   "execution_count": 11,
   "id": "d6f26306",
   "metadata": {},
   "outputs": [
    {
     "name": "stdout",
     "output_type": "stream",
     "text": [
      "Las 5 variabs seleccionadas son:\n"
     ]
    },
    {
     "data": {
      "text/plain": [
       "['scaler__Minimum Orbit Intersection',\n",
       " 'scaler__Est Dia in M(max)_raiz2',\n",
       " 'encoder__Orbit Uncertainity (categ)_0 scaler__Minimum Orbit Intersection_log',\n",
       " 'scaler__Est Dia in M(max) scaler__Minimum Orbit Intersection_log',\n",
       " 'scaler__Est Dia in M(max)_raiz2 scaler__Minimum Orbit Intersection_log']"
      ]
     },
     "execution_count": 11,
     "metadata": {},
     "output_type": "execute_result"
    }
   ],
   "source": [
    "# Variables seleccionadas:\n",
    "\n",
    "ct_names = selected_model.named_steps['column_transform'].get_feature_names_out()\n",
    "poly_names = selected_model.named_steps['polynomial'].get_feature_names_out(input_features=ct_names)\n",
    "select_names = selected_model.named_steps['feature_selection'].get_feature_names_out(input_features=poly_names)\n",
    "\n",
    "print(f\"Las {len(select_names)} variabs seleccionadas son:\")\n",
    "[i for i in select_names]"
   ]
  },
  {
   "cell_type": "code",
   "execution_count": 17,
   "id": "83c95f7f",
   "metadata": {},
   "outputs": [
    {
     "name": "stdout",
     "output_type": "stream",
     "text": [
      "El valor de f1 score es: \n",
      " 0.882\n",
      "Otros estadísticos del test: \n",
      "               precision    recall  f1-score   support\n",
      "\n",
      "           0       1.00      0.95      0.97       787\n",
      "           1       0.79      0.99      0.88       151\n",
      "\n",
      "    accuracy                           0.96       938\n",
      "   macro avg       0.90      0.97      0.93       938\n",
      "weighted avg       0.97      0.96      0.96       938\n",
      "\n"
     ]
    },
    {
     "data": {
      "image/png": "[encoded data removed]",
      "text/plain": [
       "<Figure size 288x288 with 1 Axes>"
      ]
     },
     "metadata": {},
     "output_type": "display_data"
    }
   ],
   "source": [
    "# Evalúa el mejor modelo en tus datos de prueba\n",
    "y_pred = selected_model.predict(X_test)\n",
    "\n",
    "# Calcular la precisión de las predicciones en el conjunto de prueba\n",
    "print(f\"El valor de f1 score es: \\n {f1_score(y_test, y_pred).round(3)}\")\n",
    "print(f\"Otros estadísticos del test: \\n {classification_report(y_test, y_pred)}\")\n",
    "\n",
    "# Matriz de confusión\n",
    "cm = confusion_matrix(y_test, y_pred)\n",
    "disp = ConfusionMatrixDisplay(confusion_matrix=cm)\n",
    "\n",
    "fig, ax = plt.subplots(figsize=(4, 4))\n",
    "disp.plot(ax=ax, cmap='viridis', values_format='d', colorbar=False)\n",
    "ax.grid(False) # Deshabilitar el grid de fondo\n",
    "\n",
    "# plt.title('Matriz de confusión', fontsize=18) # Cambiar tamaño del título\n",
    "ax.spines[['bottom','top','left','right']].set_color('black')\n",
    "plt.title('SVM kernel RBF', fontsize=16)\n",
    "plt.xlabel('Predicciones', fontsize=16)\n",
    "plt.ylabel('Valores Reales', fontsize=16)\n",
    "plt.xticks(fontsize=15)\n",
    "plt.yticks(fontsize=15)\n",
    "for text in ax.texts:\n",
    "    text.set_fontsize(15)\n",
    "plt.show()"
   ]
  },
  {
   "cell_type": "code",
   "execution_count": 18,
   "id": "4716bdf4",
   "metadata": {},
   "outputs": [],
   "source": [
    "import pickle\n",
    "\n",
    "# Guarda los datos de puntuaciones\n",
    "with open('cv_scores_model9.pkl', 'wb') as f:\n",
    "    pickle.dump(cv_scores[modelo_optimo], f)"
   ]
  }
 ],
 "metadata": {
  "kernelspec": {
   "display_name": "Python 3 (ipykernel)",
   "language": "python",
   "name": "python3"
  },
  "language_info": {
   "codemirror_mode": {
    "name": "ipython",
    "version": 3
   },
   "file_extension": ".py",
   "mimetype": "text/x-python",
   "name": "python",
   "nbconvert_exporter": "python",
   "pygments_lexer": "ipython3",
   "version": "3.9.7"
  }
 },
 "nbformat": 4,
 "nbformat_minor": 5
}
