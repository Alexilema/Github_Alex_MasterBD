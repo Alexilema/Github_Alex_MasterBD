{
 "cells": [
  {
   "cell_type": "code",
   "execution_count": 2,
   "id": "ccfacd52",
   "metadata": {},
   "outputs": [],
   "source": [
    "# analysis\n",
    "import pandas as pd\n",
    "import numpy as np\n",
    "import matplotlib.pyplot as plt\n",
    "import seaborn as sns\n",
    "import warnings\n",
    "\n",
    "sns.set_style('darkgrid')\n",
    "np.set_printoptions(precision=3)\n",
    "warnings.filterwarnings(\"ignore\")\n",
    "\n",
    "# missings (imputer)\n",
    "# from sklearn.impute import SimpleImputer, KNNImputer\n",
    "\n",
    "# interacciones\n",
    "from sklearn.preprocessing import PolynomialFeatures\n",
    "\n",
    "# transformaciones\n",
    "from sklearn.compose import ColumnTransformer\n",
    "# - variab numéricas\n",
    "from sklearn.preprocessing import RobustScaler # MinMaxScaler, StandardScaler, Normalizer, Binarizer \n",
    "# from sklearn.preprocessing import PowerTransformer, BoxCox\n",
    "# - variab categ\n",
    "from sklearn.preprocessing import OneHotEncoder # LabelEncoder, OrdinalEncoder\n",
    "\n",
    "# feature selection\n",
    "from sklearn.feature_selection import f_classif # chi2\n",
    "from sklearn.feature_selection import SelectKBest, SelectFromModel\n",
    "from sklearn.feature_selection import RFE, RFECV\n",
    "# from sklearn.decomposition import PCA\n",
    "\n",
    "# algoritmos\n",
    "from sklearn.linear_model import LogisticRegression\n",
    "from sklearn.tree import DecisionTreeClassifier\n",
    "from sklearn.neighbors import KNeighborsClassifier\n",
    "from sklearn.discriminant_analysis import LinearDiscriminantAnalysis\n",
    "from sklearn.naive_bayes import GaussianNB\n",
    "from sklearn.svm import SVC\n",
    "from sklearn.neural_network import MLPClassifier # red neuronal\n",
    "\n",
    "# bagging\n",
    "from sklearn.ensemble import BaggingClassifier, RandomForestClassifier\n",
    "from sklearn.ensemble import VotingClassifier, ExtraTreesClassifier\n",
    "\n",
    "# boosting\n",
    "from sklearn.ensemble import GradientBoostingClassifier\n",
    "from sklearn.ensemble import AdaBoostClassifier\n",
    "# import xgboost as xgb\n",
    "\n",
    "# model selection\n",
    "from sklearn.model_selection import train_test_split\n",
    "from imblearn.over_sampling import SMOTE, SMOTENC\n",
    "from sklearn.pipeline import Pipeline # make_pipeline\n",
    "from sklearn.model_selection import GridSearchCV # RandomizedSearchCV\n",
    "from sklearn.model_selection import KFold, ShuffleSplit, LeaveOneOut, StratifiedKFold, RepeatedStratifiedKFold\n",
    "from sklearn.model_selection import cross_val_score, cross_val_predict, ParameterGrid\n",
    "\n",
    "# Técnicas de evaluación\n",
    "from sklearn.metrics import confusion_matrix, ConfusionMatrixDisplay\n",
    "from sklearn.metrics import classification_report\n",
    "from sklearn.metrics import make_scorer, accuracy_score, f1_score, precision_score, recall_score\n",
    "from sklearn.metrics import auc, roc_curve, roc_auc_score, RocCurveDisplay"
   ]
  },
  {
   "cell_type": "code",
   "execution_count": 3,
   "id": "ad85eb14",
   "metadata": {},
   "outputs": [],
   "source": [
    "# semilla de aleatorización\n",
    "\n",
    "seed = 99"
   ]
  },
  {
   "cell_type": "markdown",
   "id": "c1fd46cc",
   "metadata": {},
   "source": [
    "### Cargar datos depurados"
   ]
  },
  {
   "cell_type": "code",
   "execution_count": 4,
   "id": "368eeece",
   "metadata": {},
   "outputs": [
    {
     "name": "stdout",
     "output_type": "stream",
     "text": [
      "Número de filas: 4687, Númerode columnas:24\n"
     ]
    }
   ],
   "source": [
    "data = pd.read_csv('Datasets/datos_procesados.csv')\n",
    "\n",
    "print(f'Número de filas: {data.shape[0]}, Númerode columnas:{data.shape[1]}')"
   ]
  },
  {
   "cell_type": "code",
   "execution_count": 5,
   "id": "285b1e96",
   "metadata": {},
   "outputs": [],
   "source": [
    "# Separar en train y test\n",
    "X_train = data[data['Dataset'] == 'train'].drop(['Dataset'], axis=1)\n",
    "X_test = data[data['Dataset'] == 'test'].drop(['Dataset'], axis=1)\n",
    "\n",
    "# variable objetivo (.pop elimina la col de X, que también es un paso necesario)\n",
    "y_train = X_train.pop('Hazardous')\n",
    "y_test = X_test.pop('Hazardous')"
   ]
  },
  {
   "cell_type": "code",
   "execution_count": 6,
   "id": "01a03f1e",
   "metadata": {},
   "outputs": [],
   "source": [
    "# SMOTE (remuestro de datos de entrenamiento desbalanceados)\n",
    "\n",
    "# Probaremos a obtener el mejor modelo tanto con los train_data desbalanceados como balanceados con smote\n",
    "\n",
    "categ_index = X_train.columns.get_loc('Orbit Uncertainity (categ)')\n",
    "\n",
    "smote_nc = SMOTENC(categorical_features=[categ_index], # hay que indicarle cuál es la variab categ en el dataset que se va a transformar\n",
    "             random_state=seed)\n",
    "\n",
    "X_train_resampled, y_train_resampled = smote_nc.fit_resample(X_train, y_train)"
   ]
  },
  {
   "cell_type": "markdown",
   "id": "d3b69399",
   "metadata": {},
   "source": [
    "## 3.a Gradient Boosting"
   ]
  },
  {
   "cell_type": "markdown",
   "id": "69ba67d1",
   "metadata": {},
   "source": [
    "**Boosting**, de forma muy general, es crear y entrenar varios modelos, pero en lugar de entrenarlos por separado y \"juntar\" sus resultados para obtener la predicción final (bagging), en boosting se hace de forma secuencial, de forma que cada modelo se centra en corregir los errores de la predicción del modelo anterior. Y cuando se quiere predecir un nuevo valor (X_test), se pasa por la secuencia de modelos para obtener la predicción final.\n",
    "\n",
    "**Gradient Boosting** es un tipo particular con árboles de decisión. Empezamos haciendo una predicción_0 de la variable objetivo. En regresión, se inicia con el valor promedio en y_train; en clasificación, se inicia con el valor promedio de la probabilidad de pertenencia a la clase de interés de la variable objetivo. Con esos valores predichos y con los valores reales (y_train), se calculan los errores (residuals_0) en la predicción (en la predicción de la variable obj, o bien de la probabilidad de pertenencia a la misma).\n",
    "\n",
    "Se inicial el proceso: se construye un árbol que intenta predecir esos residuals_0, y ese árbol_1 predice los residuals_1, con los que se genera una nueva predicción_1, consistente en la predicción anterior (que en este primer paso, son esos promedios de la variab objetivo o de su probabilidad) + el residual predicho por el árbol para cada observación, ajustado con un learning rate:\n",
    "\n",
    "prediction_1 = prediction_0 + learn_rate * residuals_1\n",
    "\n",
    "Entonces, se repite el proceso: esa nueva predicción se compara con el valor real (y_train) y se obtienen nuevos residuals_2. Se hace otro árbol_2 que prediga estos residuals_2 para obtener la predicción_2:\n",
    "\n",
    "prediction_2 = prediction_0 + learn_rate * residuals_1 + learn_rate * residuals_2\n",
    "\n",
    "Y este proceso se repite hasta que se alcanza el número máximo de árboles estipulado, o los residuals alcancan un límite de tamaño mínimo (para evitar el sobreajuste).\n",
    "\n",
    "Resumiendo, cada árbol intenta predecir los errores ('residuals') de la predicción del árbol anterior, ajustando con un learning rate, de tal manera que la predicción final consiste en ir recorriendo todos los árboles para ir modificando la predicción inicial (promedio) hasta alcanzar un buen modelo predictor/clasificador."
   ]
  },
  {
   "cell_type": "code",
   "execution_count": 7,
   "id": "d885292c",
   "metadata": {},
   "outputs": [],
   "source": [
    "# Nota:\n",
    "# En lugar de usar 'early stopping' para determinar el número ideal de árboles, lo haremos\n",
    "# con validación cruzada del parám n_estimators.\n",
    "\n",
    "# Pero sería interesante ver cómo hacerlo con early stopping (con train, validation & test)"
   ]
  },
  {
   "cell_type": "markdown",
   "id": "93f01a21",
   "metadata": {},
   "source": [
    "_Nota: GradientBoostingClassifier() no tiene 'class_weight', así que comparamos entre usar SMOTE y no hacer nada (recuerda que hay argumentos a favor de no hacer nada ante el desbalanceo)_"
   ]
  },
  {
   "cell_type": "code",
   "execution_count": 8,
   "id": "3de323b4",
   "metadata": {},
   "outputs": [
    {
     "name": "stdout",
     "output_type": "stream",
     "text": [
      "Best CV score: 0.9990476174479157\n",
      "\n",
      "Tiempo de ejecución: 453.0002484321594 segundos\n"
     ]
    }
   ],
   "source": [
    "# 1ª etapa (with all features)\n",
    "\n",
    "import time\n",
    "start_time = time.time()\n",
    "\n",
    "# Algoritmo a probar\n",
    "\n",
    "model = GradientBoostingClassifier(max_features='sqrt', # viene de la mejor arquitectura de árbol que ya hemos sacado\n",
    "                                   min_samples_leaf=40,\n",
    "                                   max_depth=5,\n",
    "                                   random_state=seed)\n",
    "\n",
    "    ## Posible early stopping: n_iter_no_change (...) --> no me voy a meter ahora en eso\n",
    "    ## Posible pruning --> ni en eso\n",
    "\n",
    "# Definir variabs numéricas y categóricas\n",
    "scaler_features = X_train.select_dtypes(include=[np.number]).columns.tolist()\n",
    "categ_features = [feature for feature in X_train.columns if feature not in scaler_features]\n",
    "\n",
    "# Column transformer\n",
    "col_transformer = ColumnTransformer(\n",
    "    [\n",
    "    ('encoder', OneHotEncoder(drop=[\"3-9\"]), ['Orbit Uncertainity (categ)']), # @@ necesario??\n",
    "    ('scaler', RobustScaler(), scaler_features)\n",
    "    ], remainder='passthrough')\n",
    "\n",
    "# Definir instancia SMOTENC\n",
    "categ_index = X_train.columns.get_loc('Orbit Uncertainity (categ)')\n",
    "smote_nc = SMOTENC(categorical_features=[categ_index], # hay que indicarle cuál es la variab categ en el dataset que se va a transformar\n",
    "             random_state=seed)\n",
    "\n",
    "# Pipeline 1\n",
    "pipe = Pipeline([\n",
    "#         ('smote_nc', smote_nc), # quitarlo si class_weight='balanced'\n",
    "        ('column_transform', col_transformer),\n",
    "        ('polynomial', PolynomialFeatures(degree=2, interaction_only=True, include_bias=False)), # añadir interacciones\n",
    "        ('algorithm', model)        \n",
    "])\n",
    "\n",
    "# Tuneado del modelo (malla de paráms)\n",
    "parametros = {\n",
    "    \"algorithm__learning_rate\": [0.1, 0.2, 0.3],\n",
    "    \"algorithm__subsample\": [0.8, 0.9, 1] # si subsample < 1, bootstrapping --> \"Stochastic Gradient Boosting\"\n",
    "}\n",
    "\n",
    "# Repeated cross_val (stratified)\n",
    "cv_technique = StratifiedKFold(n_splits=10, shuffle=True, random_state=seed)\n",
    "# cv_technique = RepeatedStratifiedKFold(n_splits=10, n_repeats=5, random_state=seed)\n",
    "\n",
    "# combinamos todo\n",
    "gsearch = GridSearchCV(estimator=pipe, cv=cv_technique, param_grid=parametros, scoring='f1')\n",
    "\n",
    "# buscamos el mejor modelo\n",
    "# opción a) sin resample y con class_weight='balanced':\n",
    "# grid_model = gsearch.fit(X_train, y_train)\n",
    "\n",
    "# opción b) con resample (SMOTE)\n",
    "grid_model = gsearch.fit(X_train_resampled, y_train_resampled)\n",
    "\n",
    "print(\"Best CV score:\", grid_model.best_score_)\n",
    "\n",
    "end_time = time.time()\n",
    "print()\n",
    "print(\"Tiempo de ejecución:\", end_time - start_time, \"segundos\")"
   ]
  },
  {
   "cell_type": "code",
   "execution_count": 9,
   "id": "e3bb0acb",
   "metadata": {},
   "outputs": [
    {
     "data": {
      "text/html": [
       "<style>#sk-container-id-1 {color: black;background-color: white;}#sk-container-id-1 pre{padding: 0;}#sk-container-id-1 div.sk-toggleable {background-color: white;}#sk-container-id-1 label.sk-toggleable__label {cursor: pointer;display: block;width: 100%;margin-bottom: 0;padding: 0.3em;box-sizing: border-box;text-align: center;}#sk-container-id-1 label.sk-toggleable__label-arrow:before {content: \"▸\";float: left;margin-right: 0.25em;color: #696969;}#sk-container-id-1 label.sk-toggleable__label-arrow:hover:before {color: black;}#sk-container-id-1 div.sk-estimator:hover label.sk-toggleable__label-arrow:before {color: black;}#sk-container-id-1 div.sk-toggleable__content {max-height: 0;max-width: 0;overflow: hidden;text-align: left;background-color: #f0f8ff;}#sk-container-id-1 div.sk-toggleable__content pre {margin: 0.2em;color: black;border-radius: 0.25em;background-color: #f0f8ff;}#sk-container-id-1 input.sk-toggleable__control:checked~div.sk-toggleable__content {max-height: 200px;max-width: 100%;overflow: auto;}#sk-container-id-1 input.sk-toggleable__control:checked~label.sk-toggleable__label-arrow:before {content: \"▾\";}#sk-container-id-1 div.sk-estimator input.sk-toggleable__control:checked~label.sk-toggleable__label {background-color: #d4ebff;}#sk-container-id-1 div.sk-label input.sk-toggleable__control:checked~label.sk-toggleable__label {background-color: #d4ebff;}#sk-container-id-1 input.sk-hidden--visually {border: 0;clip: rect(1px 1px 1px 1px);clip: rect(1px, 1px, 1px, 1px);height: 1px;margin: -1px;overflow: hidden;padding: 0;position: absolute;width: 1px;}#sk-container-id-1 div.sk-estimator {font-family: monospace;background-color: #f0f8ff;border: 1px dotted black;border-radius: 0.25em;box-sizing: border-box;margin-bottom: 0.5em;}#sk-container-id-1 div.sk-estimator:hover {background-color: #d4ebff;}#sk-container-id-1 div.sk-parallel-item::after {content: \"\";width: 100%;border-bottom: 1px solid gray;flex-grow: 1;}#sk-container-id-1 div.sk-label:hover label.sk-toggleable__label {background-color: #d4ebff;}#sk-container-id-1 div.sk-serial::before {content: \"\";position: absolute;border-left: 1px solid gray;box-sizing: border-box;top: 0;bottom: 0;left: 50%;z-index: 0;}#sk-container-id-1 div.sk-serial {display: flex;flex-direction: column;align-items: center;background-color: white;padding-right: 0.2em;padding-left: 0.2em;position: relative;}#sk-container-id-1 div.sk-item {position: relative;z-index: 1;}#sk-container-id-1 div.sk-parallel {display: flex;align-items: stretch;justify-content: center;background-color: white;position: relative;}#sk-container-id-1 div.sk-item::before, #sk-container-id-1 div.sk-parallel-item::before {content: \"\";position: absolute;border-left: 1px solid gray;box-sizing: border-box;top: 0;bottom: 0;left: 50%;z-index: -1;}#sk-container-id-1 div.sk-parallel-item {display: flex;flex-direction: column;z-index: 1;position: relative;background-color: white;}#sk-container-id-1 div.sk-parallel-item:first-child::after {align-self: flex-end;width: 50%;}#sk-container-id-1 div.sk-parallel-item:last-child::after {align-self: flex-start;width: 50%;}#sk-container-id-1 div.sk-parallel-item:only-child::after {width: 0;}#sk-container-id-1 div.sk-dashed-wrapped {border: 1px dashed gray;margin: 0 0.4em 0.5em 0.4em;box-sizing: border-box;padding-bottom: 0.4em;background-color: white;}#sk-container-id-1 div.sk-label label {font-family: monospace;font-weight: bold;display: inline-block;line-height: 1.2em;}#sk-container-id-1 div.sk-label-container {text-align: center;}#sk-container-id-1 div.sk-container {/* jupyter's `normalize.less` sets `[hidden] { display: none; }` but bootstrap.min.css set `[hidden] { display: none !important; }` so we also need the `!important` here to be able to override the default hidden behavior on the sphinx rendered scikit-learn.org. See: https://github.com/scikit-learn/scikit-learn/issues/21755 */display: inline-block !important;position: relative;}#sk-container-id-1 div.sk-text-repr-fallback {display: none;}</style><div id=\"sk-container-id-1\" class=\"sk-top-container\"><div class=\"sk-text-repr-fallback\"><pre>GradientBoostingClassifier(learning_rate=0.2, max_depth=5, max_features=&#x27;sqrt&#x27;,\n",
       "                           min_samples_leaf=40, random_state=99, subsample=0.8)</pre><b>In a Jupyter environment, please rerun this cell to show the HTML representation or trust the notebook. <br />On GitHub, the HTML representation is unable to render, please try loading this page with nbviewer.org.</b></div><div class=\"sk-container\" hidden><div class=\"sk-item\"><div class=\"sk-estimator sk-toggleable\"><input class=\"sk-toggleable__control sk-hidden--visually\" id=\"sk-estimator-id-1\" type=\"checkbox\" checked><label for=\"sk-estimator-id-1\" class=\"sk-toggleable__label sk-toggleable__label-arrow\">GradientBoostingClassifier</label><div class=\"sk-toggleable__content\"><pre>GradientBoostingClassifier(learning_rate=0.2, max_depth=5, max_features=&#x27;sqrt&#x27;,\n",
       "                           min_samples_leaf=40, random_state=99, subsample=0.8)</pre></div></div></div></div></div>"
      ],
      "text/plain": [
       "GradientBoostingClassifier(learning_rate=0.2, max_depth=5, max_features='sqrt',\n",
       "                           min_samples_leaf=40, random_state=99, subsample=0.8)"
      ]
     },
     "execution_count": 9,
     "metadata": {},
     "output_type": "execute_result"
    }
   ],
   "source": [
    "# Mejor estimador\n",
    "grid_model.best_estimator_.named_steps['algorithm']"
   ]
  },
  {
   "cell_type": "code",
   "execution_count": 10,
   "id": "8c3b7ba9",
   "metadata": {},
   "outputs": [
    {
     "data": {
      "image/png": "[encoded data removed]",
      "text/plain": [
       "<Figure size 864x432 with 1 Axes>"
      ]
     },
     "metadata": {},
     "output_type": "display_data"
    },
    {
     "name": "stdout",
     "output_type": "stream",
     "text": [
      "\n",
      "Tiempo de ejecución: 15.717294454574585 segundos\n"
     ]
    }
   ],
   "source": [
    "# 2ª etapa: boxplot para elegir el resto de paráms\n",
    "\n",
    "# no podemos poner muchos paráms, o no veremos nada en los boxplots\n",
    "# por eso aquí hay traer ya algunos paráms elegido\n",
    "\n",
    "import time\n",
    "start_time = time.time()\n",
    "\n",
    "pipe_fs = Pipeline([\n",
    "        ('column_transform', col_transformer),\n",
    "        ('polynomial', PolynomialFeatures(degree=2, interaction_only=True, include_bias=False)), # añadir interacciones\n",
    "        ('feature_selection', SelectKBest(score_func=f_classif)), # k = número de variabs a seleccionar\n",
    "        ('algorithm', grid_model.best_estimator_.named_steps['algorithm'])        \n",
    "]) # importante: meter el mejor algorithm obtenido antes\n",
    "\n",
    "parametros_fs = {\n",
    "    \"feature_selection__k\": [3,4,5,6],\n",
    "    \"algorithm__n_estimators\": [20,30,40],\n",
    "}\n",
    "\n",
    "# Cambiar el formato de la malla de parámetros para poder usarlos en el bucle for\n",
    "grid_params = list(ParameterGrid(parametros_fs)) # lista de diccionarios\n",
    "\n",
    "cv_scores = []\n",
    "for params in grid_params:\n",
    "    # Configurar los parámetros del pipeline\n",
    "    pipe_fs.set_params(**params)\n",
    "    \n",
    "    # Calcular los scores\n",
    "    scores = cross_val_score(pipe_fs,\n",
    "                             X_train, y_train, # X_train_resampled, y_train_resampled\n",
    "                             cv=cv_technique, scoring='f1')\n",
    "    cv_scores.append(scores)\n",
    "\n",
    "# boxplot\n",
    "plt.figure(figsize=(12, 6))\n",
    "plt.boxplot(cv_scores)\n",
    "plt.title('Gradient Boosting', fontsize=14)\n",
    "plt.xlabel('Modelos probados (índice)', fontsize=14)\n",
    "plt.ylabel('CV Score (f1)', fontsize=14)\n",
    "plt.xticks(range(2, len(cv_scores)+1), fontsize=12) # no consigo poner el xtick = 0\n",
    "plt.show()\n",
    "\n",
    "end_time = time.time()\n",
    "print()\n",
    "print(\"Tiempo de ejecución:\", end_time - start_time, \"segundos\")"
   ]
  },
  {
   "cell_type": "code",
   "execution_count": 11,
   "id": "8db54240",
   "metadata": {},
   "outputs": [
    {
     "name": "stdout",
     "output_type": "stream",
     "text": [
      "{'algorithm__n_estimators': 20, 'feature_selection__k': 5}\n",
      "\n",
      "{'algorithm__n_estimators': 30, 'feature_selection__k': 5}\n",
      "\n",
      "{'algorithm__n_estimators': 40, 'feature_selection__k': 5}\n"
     ]
    }
   ],
   "source": [
    "# Comparar mejores\n",
    "print(grid_params[2])\n",
    "print()\n",
    "print(grid_params[6])\n",
    "print()\n",
    "print(grid_params[10])"
   ]
  },
  {
   "cell_type": "code",
   "execution_count": 20,
   "id": "e06da7dd",
   "metadata": {},
   "outputs": [
    {
     "data": {
      "text/html": [
       "<style>#sk-container-id-3 {color: black;background-color: white;}#sk-container-id-3 pre{padding: 0;}#sk-container-id-3 div.sk-toggleable {background-color: white;}#sk-container-id-3 label.sk-toggleable__label {cursor: pointer;display: block;width: 100%;margin-bottom: 0;padding: 0.3em;box-sizing: border-box;text-align: center;}#sk-container-id-3 label.sk-toggleable__label-arrow:before {content: \"▸\";float: left;margin-right: 0.25em;color: #696969;}#sk-container-id-3 label.sk-toggleable__label-arrow:hover:before {color: black;}#sk-container-id-3 div.sk-estimator:hover label.sk-toggleable__label-arrow:before {color: black;}#sk-container-id-3 div.sk-toggleable__content {max-height: 0;max-width: 0;overflow: hidden;text-align: left;background-color: #f0f8ff;}#sk-container-id-3 div.sk-toggleable__content pre {margin: 0.2em;color: black;border-radius: 0.25em;background-color: #f0f8ff;}#sk-container-id-3 input.sk-toggleable__control:checked~div.sk-toggleable__content {max-height: 200px;max-width: 100%;overflow: auto;}#sk-container-id-3 input.sk-toggleable__control:checked~label.sk-toggleable__label-arrow:before {content: \"▾\";}#sk-container-id-3 div.sk-estimator input.sk-toggleable__control:checked~label.sk-toggleable__label {background-color: #d4ebff;}#sk-container-id-3 div.sk-label input.sk-toggleable__control:checked~label.sk-toggleable__label {background-color: #d4ebff;}#sk-container-id-3 input.sk-hidden--visually {border: 0;clip: rect(1px 1px 1px 1px);clip: rect(1px, 1px, 1px, 1px);height: 1px;margin: -1px;overflow: hidden;padding: 0;position: absolute;width: 1px;}#sk-container-id-3 div.sk-estimator {font-family: monospace;background-color: #f0f8ff;border: 1px dotted black;border-radius: 0.25em;box-sizing: border-box;margin-bottom: 0.5em;}#sk-container-id-3 div.sk-estimator:hover {background-color: #d4ebff;}#sk-container-id-3 div.sk-parallel-item::after {content: \"\";width: 100%;border-bottom: 1px solid gray;flex-grow: 1;}#sk-container-id-3 div.sk-label:hover label.sk-toggleable__label {background-color: #d4ebff;}#sk-container-id-3 div.sk-serial::before {content: \"\";position: absolute;border-left: 1px solid gray;box-sizing: border-box;top: 0;bottom: 0;left: 50%;z-index: 0;}#sk-container-id-3 div.sk-serial {display: flex;flex-direction: column;align-items: center;background-color: white;padding-right: 0.2em;padding-left: 0.2em;position: relative;}#sk-container-id-3 div.sk-item {position: relative;z-index: 1;}#sk-container-id-3 div.sk-parallel {display: flex;align-items: stretch;justify-content: center;background-color: white;position: relative;}#sk-container-id-3 div.sk-item::before, #sk-container-id-3 div.sk-parallel-item::before {content: \"\";position: absolute;border-left: 1px solid gray;box-sizing: border-box;top: 0;bottom: 0;left: 50%;z-index: -1;}#sk-container-id-3 div.sk-parallel-item {display: flex;flex-direction: column;z-index: 1;position: relative;background-color: white;}#sk-container-id-3 div.sk-parallel-item:first-child::after {align-self: flex-end;width: 50%;}#sk-container-id-3 div.sk-parallel-item:last-child::after {align-self: flex-start;width: 50%;}#sk-container-id-3 div.sk-parallel-item:only-child::after {width: 0;}#sk-container-id-3 div.sk-dashed-wrapped {border: 1px dashed gray;margin: 0 0.4em 0.5em 0.4em;box-sizing: border-box;padding-bottom: 0.4em;background-color: white;}#sk-container-id-3 div.sk-label label {font-family: monospace;font-weight: bold;display: inline-block;line-height: 1.2em;}#sk-container-id-3 div.sk-label-container {text-align: center;}#sk-container-id-3 div.sk-container {/* jupyter's `normalize.less` sets `[hidden] { display: none; }` but bootstrap.min.css set `[hidden] { display: none !important; }` so we also need the `!important` here to be able to override the default hidden behavior on the sphinx rendered scikit-learn.org. See: https://github.com/scikit-learn/scikit-learn/issues/21755 */display: inline-block !important;position: relative;}#sk-container-id-3 div.sk-text-repr-fallback {display: none;}</style><div id=\"sk-container-id-3\" class=\"sk-top-container\"><div class=\"sk-text-repr-fallback\"><pre>Pipeline(steps=[(&#x27;column_transform&#x27;,\n",
       "                 ColumnTransformer(remainder=&#x27;passthrough&#x27;,\n",
       "                                   transformers=[(&#x27;encoder&#x27;,\n",
       "                                                  OneHotEncoder(drop=[&#x27;3-9&#x27;]),\n",
       "                                                  [&#x27;Orbit Uncertainity &#x27;\n",
       "                                                   &#x27;(categ)&#x27;]),\n",
       "                                                 (&#x27;scaler&#x27;, RobustScaler(),\n",
       "                                                  [&#x27;Est Dia in M(max)&#x27;,\n",
       "                                                   &#x27;Relative Velocity km per &#x27;\n",
       "                                                   &#x27;sec&#x27;,\n",
       "                                                   &#x27;Miss Dist.(Astronomical)&#x27;,\n",
       "                                                   &#x27;Minimum Orbit Intersection&#x27;,\n",
       "                                                   &#x27;Eccentricity&#x27;,\n",
       "                                                   &#x27;Semi Major Axis&#x27;,\n",
       "                                                   &#x27;Inclination&#x27;,\n",
       "                                                   &#x27;Asc Node Longitude...\n",
       "                                                   &#x27;Distance_squared&#x27;,\n",
       "                                                   &#x27;Mean Anomaly_raiz2&#x27;,\n",
       "                                                   &#x27;Mean Motion_cuarta&#x27;,\n",
       "                                                   &#x27;Perihelion &#x27;\n",
       "                                                   &#x27;Arg_squared&#x27;])])),\n",
       "                (&#x27;polynomial&#x27;,\n",
       "                 PolynomialFeatures(include_bias=False, interaction_only=True)),\n",
       "                (&#x27;feature_selection&#x27;, SelectKBest(k=5)),\n",
       "                (&#x27;algorithm&#x27;,\n",
       "                 GradientBoostingClassifier(learning_rate=0.2, max_depth=5,\n",
       "                                            max_features=&#x27;sqrt&#x27;,\n",
       "                                            min_samples_leaf=40,\n",
       "                                            n_estimators=20, random_state=99,\n",
       "                                            subsample=0.8))])</pre><b>In a Jupyter environment, please rerun this cell to show the HTML representation or trust the notebook. <br />On GitHub, the HTML representation is unable to render, please try loading this page with nbviewer.org.</b></div><div class=\"sk-container\" hidden><div class=\"sk-item sk-dashed-wrapped\"><div class=\"sk-label-container\"><div class=\"sk-label sk-toggleable\"><input class=\"sk-toggleable__control sk-hidden--visually\" id=\"sk-estimator-id-13\" type=\"checkbox\" ><label for=\"sk-estimator-id-13\" class=\"sk-toggleable__label sk-toggleable__label-arrow\">Pipeline</label><div class=\"sk-toggleable__content\"><pre>Pipeline(steps=[(&#x27;column_transform&#x27;,\n",
       "                 ColumnTransformer(remainder=&#x27;passthrough&#x27;,\n",
       "                                   transformers=[(&#x27;encoder&#x27;,\n",
       "                                                  OneHotEncoder(drop=[&#x27;3-9&#x27;]),\n",
       "                                                  [&#x27;Orbit Uncertainity &#x27;\n",
       "                                                   &#x27;(categ)&#x27;]),\n",
       "                                                 (&#x27;scaler&#x27;, RobustScaler(),\n",
       "                                                  [&#x27;Est Dia in M(max)&#x27;,\n",
       "                                                   &#x27;Relative Velocity km per &#x27;\n",
       "                                                   &#x27;sec&#x27;,\n",
       "                                                   &#x27;Miss Dist.(Astronomical)&#x27;,\n",
       "                                                   &#x27;Minimum Orbit Intersection&#x27;,\n",
       "                                                   &#x27;Eccentricity&#x27;,\n",
       "                                                   &#x27;Semi Major Axis&#x27;,\n",
       "                                                   &#x27;Inclination&#x27;,\n",
       "                                                   &#x27;Asc Node Longitude...\n",
       "                                                   &#x27;Distance_squared&#x27;,\n",
       "                                                   &#x27;Mean Anomaly_raiz2&#x27;,\n",
       "                                                   &#x27;Mean Motion_cuarta&#x27;,\n",
       "                                                   &#x27;Perihelion &#x27;\n",
       "                                                   &#x27;Arg_squared&#x27;])])),\n",
       "                (&#x27;polynomial&#x27;,\n",
       "                 PolynomialFeatures(include_bias=False, interaction_only=True)),\n",
       "                (&#x27;feature_selection&#x27;, SelectKBest(k=5)),\n",
       "                (&#x27;algorithm&#x27;,\n",
       "                 GradientBoostingClassifier(learning_rate=0.2, max_depth=5,\n",
       "                                            max_features=&#x27;sqrt&#x27;,\n",
       "                                            min_samples_leaf=40,\n",
       "                                            n_estimators=20, random_state=99,\n",
       "                                            subsample=0.8))])</pre></div></div></div><div class=\"sk-serial\"><div class=\"sk-item sk-dashed-wrapped\"><div class=\"sk-label-container\"><div class=\"sk-label sk-toggleable\"><input class=\"sk-toggleable__control sk-hidden--visually\" id=\"sk-estimator-id-14\" type=\"checkbox\" ><label for=\"sk-estimator-id-14\" class=\"sk-toggleable__label sk-toggleable__label-arrow\">column_transform: ColumnTransformer</label><div class=\"sk-toggleable__content\"><pre>ColumnTransformer(remainder=&#x27;passthrough&#x27;,\n",
       "                  transformers=[(&#x27;encoder&#x27;, OneHotEncoder(drop=[&#x27;3-9&#x27;]),\n",
       "                                 [&#x27;Orbit Uncertainity (categ)&#x27;]),\n",
       "                                (&#x27;scaler&#x27;, RobustScaler(),\n",
       "                                 [&#x27;Est Dia in M(max)&#x27;,\n",
       "                                  &#x27;Relative Velocity km per sec&#x27;,\n",
       "                                  &#x27;Miss Dist.(Astronomical)&#x27;,\n",
       "                                  &#x27;Minimum Orbit Intersection&#x27;, &#x27;Eccentricity&#x27;,\n",
       "                                  &#x27;Semi Major Axis&#x27;, &#x27;Inclination&#x27;,\n",
       "                                  &#x27;Asc Node Longitude&#x27;, &#x27;Perihelion Distance&#x27;,\n",
       "                                  &#x27;Mean Anomaly&#x27;, &#x27;Mean Motion&#x27;,\n",
       "                                  &#x27;Perihelion Arg&#x27;, &#x27;Est Dia in M(max)_raiz2&#x27;,\n",
       "                                  &#x27;Miss Dist.(Astronomical)_raiz2&#x27;,\n",
       "                                  &#x27;Minimum Orbit Intersection_log&#x27;,\n",
       "                                  &#x27;Semi Major Axis_log&#x27;, &#x27;Inclination_squared&#x27;,\n",
       "                                  &#x27;Perihelion Distance_squared&#x27;,\n",
       "                                  &#x27;Mean Anomaly_raiz2&#x27;, &#x27;Mean Motion_cuarta&#x27;,\n",
       "                                  &#x27;Perihelion Arg_squared&#x27;])])</pre></div></div></div><div class=\"sk-parallel\"><div class=\"sk-parallel-item\"><div class=\"sk-item\"><div class=\"sk-label-container\"><div class=\"sk-label sk-toggleable\"><input class=\"sk-toggleable__control sk-hidden--visually\" id=\"sk-estimator-id-15\" type=\"checkbox\" ><label for=\"sk-estimator-id-15\" class=\"sk-toggleable__label sk-toggleable__label-arrow\">encoder</label><div class=\"sk-toggleable__content\"><pre>[&#x27;Orbit Uncertainity (categ)&#x27;]</pre></div></div></div><div class=\"sk-serial\"><div class=\"sk-item\"><div class=\"sk-estimator sk-toggleable\"><input class=\"sk-toggleable__control sk-hidden--visually\" id=\"sk-estimator-id-16\" type=\"checkbox\" ><label for=\"sk-estimator-id-16\" class=\"sk-toggleable__label sk-toggleable__label-arrow\">OneHotEncoder</label><div class=\"sk-toggleable__content\"><pre>OneHotEncoder(drop=[&#x27;3-9&#x27;])</pre></div></div></div></div></div></div><div class=\"sk-parallel-item\"><div class=\"sk-item\"><div class=\"sk-label-container\"><div class=\"sk-label sk-toggleable\"><input class=\"sk-toggleable__control sk-hidden--visually\" id=\"sk-estimator-id-17\" type=\"checkbox\" ><label for=\"sk-estimator-id-17\" class=\"sk-toggleable__label sk-toggleable__label-arrow\">scaler</label><div class=\"sk-toggleable__content\"><pre>[&#x27;Est Dia in M(max)&#x27;, &#x27;Relative Velocity km per sec&#x27;, &#x27;Miss Dist.(Astronomical)&#x27;, &#x27;Minimum Orbit Intersection&#x27;, &#x27;Eccentricity&#x27;, &#x27;Semi Major Axis&#x27;, &#x27;Inclination&#x27;, &#x27;Asc Node Longitude&#x27;, &#x27;Perihelion Distance&#x27;, &#x27;Mean Anomaly&#x27;, &#x27;Mean Motion&#x27;, &#x27;Perihelion Arg&#x27;, &#x27;Est Dia in M(max)_raiz2&#x27;, &#x27;Miss Dist.(Astronomical)_raiz2&#x27;, &#x27;Minimum Orbit Intersection_log&#x27;, &#x27;Semi Major Axis_log&#x27;, &#x27;Inclination_squared&#x27;, &#x27;Perihelion Distance_squared&#x27;, &#x27;Mean Anomaly_raiz2&#x27;, &#x27;Mean Motion_cuarta&#x27;, &#x27;Perihelion Arg_squared&#x27;]</pre></div></div></div><div class=\"sk-serial\"><div class=\"sk-item\"><div class=\"sk-estimator sk-toggleable\"><input class=\"sk-toggleable__control sk-hidden--visually\" id=\"sk-estimator-id-18\" type=\"checkbox\" ><label for=\"sk-estimator-id-18\" class=\"sk-toggleable__label sk-toggleable__label-arrow\">RobustScaler</label><div class=\"sk-toggleable__content\"><pre>RobustScaler()</pre></div></div></div></div></div></div><div class=\"sk-parallel-item\"><div class=\"sk-item\"><div class=\"sk-label-container\"><div class=\"sk-label sk-toggleable\"><input class=\"sk-toggleable__control sk-hidden--visually\" id=\"sk-estimator-id-19\" type=\"checkbox\" ><label for=\"sk-estimator-id-19\" class=\"sk-toggleable__label sk-toggleable__label-arrow\">remainder</label><div class=\"sk-toggleable__content\"><pre>[]</pre></div></div></div><div class=\"sk-serial\"><div class=\"sk-item\"><div class=\"sk-estimator sk-toggleable\"><input class=\"sk-toggleable__control sk-hidden--visually\" id=\"sk-estimator-id-20\" type=\"checkbox\" ><label for=\"sk-estimator-id-20\" class=\"sk-toggleable__label sk-toggleable__label-arrow\">passthrough</label><div class=\"sk-toggleable__content\"><pre>passthrough</pre></div></div></div></div></div></div></div></div><div class=\"sk-item\"><div class=\"sk-estimator sk-toggleable\"><input class=\"sk-toggleable__control sk-hidden--visually\" id=\"sk-estimator-id-21\" type=\"checkbox\" ><label for=\"sk-estimator-id-21\" class=\"sk-toggleable__label sk-toggleable__label-arrow\">PolynomialFeatures</label><div class=\"sk-toggleable__content\"><pre>PolynomialFeatures(include_bias=False, interaction_only=True)</pre></div></div></div><div class=\"sk-item\"><div class=\"sk-estimator sk-toggleable\"><input class=\"sk-toggleable__control sk-hidden--visually\" id=\"sk-estimator-id-22\" type=\"checkbox\" ><label for=\"sk-estimator-id-22\" class=\"sk-toggleable__label sk-toggleable__label-arrow\">SelectKBest</label><div class=\"sk-toggleable__content\"><pre>SelectKBest(k=5)</pre></div></div></div><div class=\"sk-item\"><div class=\"sk-estimator sk-toggleable\"><input class=\"sk-toggleable__control sk-hidden--visually\" id=\"sk-estimator-id-23\" type=\"checkbox\" ><label for=\"sk-estimator-id-23\" class=\"sk-toggleable__label sk-toggleable__label-arrow\">GradientBoostingClassifier</label><div class=\"sk-toggleable__content\"><pre>GradientBoostingClassifier(learning_rate=0.2, max_depth=5, max_features=&#x27;sqrt&#x27;,\n",
       "                           min_samples_leaf=40, n_estimators=20,\n",
       "                           random_state=99, subsample=0.8)</pre></div></div></div></div></div></div></div>"
      ],
      "text/plain": [
       "Pipeline(steps=[('column_transform',\n",
       "                 ColumnTransformer(remainder='passthrough',\n",
       "                                   transformers=[('encoder',\n",
       "                                                  OneHotEncoder(drop=['3-9']),\n",
       "                                                  ['Orbit Uncertainity '\n",
       "                                                   '(categ)']),\n",
       "                                                 ('scaler', RobustScaler(),\n",
       "                                                  ['Est Dia in M(max)',\n",
       "                                                   'Relative Velocity km per '\n",
       "                                                   'sec',\n",
       "                                                   'Miss Dist.(Astronomical)',\n",
       "                                                   'Minimum Orbit Intersection',\n",
       "                                                   'Eccentricity',\n",
       "                                                   'Semi Major Axis',\n",
       "                                                   'Inclination',\n",
       "                                                   'Asc Node Longitude...\n",
       "                                                   'Distance_squared',\n",
       "                                                   'Mean Anomaly_raiz2',\n",
       "                                                   'Mean Motion_cuarta',\n",
       "                                                   'Perihelion '\n",
       "                                                   'Arg_squared'])])),\n",
       "                ('polynomial',\n",
       "                 PolynomialFeatures(include_bias=False, interaction_only=True)),\n",
       "                ('feature_selection', SelectKBest(k=5)),\n",
       "                ('algorithm',\n",
       "                 GradientBoostingClassifier(learning_rate=0.2, max_depth=5,\n",
       "                                            max_features='sqrt',\n",
       "                                            min_samples_leaf=40,\n",
       "                                            n_estimators=20, random_state=99,\n",
       "                                            subsample=0.8))])"
      ]
     },
     "execution_count": 20,
     "metadata": {},
     "output_type": "execute_result"
    }
   ],
   "source": [
    "# El mejor modelo es:\n",
    "modelo_optimo = 2 # indicar nº óptimo\n",
    "\n",
    "# Configura el pipeline con los parámetros deseados\n",
    "selected_params = grid_params[modelo_optimo]\n",
    "pipe_fs.set_params(**selected_params)\n",
    "\n",
    "# Ajusta el modelo\n",
    "selected_model = pipe_fs.fit(X_train, y_train)\n",
    "selected_model"
   ]
  },
  {
   "cell_type": "code",
   "execution_count": 21,
   "id": "8c2931b8",
   "metadata": {},
   "outputs": [
    {
     "data": {
      "text/plain": [
       "{'ccp_alpha': 0.0,\n",
       " 'criterion': 'friedman_mse',\n",
       " 'init': None,\n",
       " 'learning_rate': 0.2,\n",
       " 'loss': 'log_loss',\n",
       " 'max_depth': 5,\n",
       " 'max_features': 'sqrt',\n",
       " 'max_leaf_nodes': None,\n",
       " 'min_impurity_decrease': 0.0,\n",
       " 'min_samples_leaf': 40,\n",
       " 'min_samples_split': 2,\n",
       " 'min_weight_fraction_leaf': 0.0,\n",
       " 'n_estimators': 20,\n",
       " 'n_iter_no_change': None,\n",
       " 'random_state': 99,\n",
       " 'subsample': 0.8,\n",
       " 'tol': 0.0001,\n",
       " 'validation_fraction': 0.1,\n",
       " 'verbose': 0,\n",
       " 'warm_start': False}"
      ]
     },
     "execution_count": 21,
     "metadata": {},
     "output_type": "execute_result"
    }
   ],
   "source": [
    "selected_model.named_steps['algorithm'].get_params()"
   ]
  },
  {
   "cell_type": "code",
   "execution_count": 22,
   "id": "415e8ca6",
   "metadata": {},
   "outputs": [
    {
     "name": "stdout",
     "output_type": "stream",
     "text": [
      "Las 5 variabs seleccionadas son:\n"
     ]
    },
    {
     "data": {
      "text/plain": [
       "['scaler__Minimum Orbit Intersection',\n",
       " 'scaler__Est Dia in M(max)_raiz2',\n",
       " 'encoder__Orbit Uncertainity (categ)_0 scaler__Minimum Orbit Intersection_log',\n",
       " 'scaler__Est Dia in M(max) scaler__Minimum Orbit Intersection_log',\n",
       " 'scaler__Est Dia in M(max)_raiz2 scaler__Minimum Orbit Intersection_log']"
      ]
     },
     "execution_count": 22,
     "metadata": {},
     "output_type": "execute_result"
    }
   ],
   "source": [
    "# Variables seleccionadas:\n",
    "\n",
    "ct_names = selected_model.named_steps['column_transform'].get_feature_names_out()\n",
    "poly_names = selected_model.named_steps['polynomial'].get_feature_names_out(input_features=ct_names)\n",
    "select_names = selected_model.named_steps['feature_selection'].get_feature_names_out(input_features=poly_names)\n",
    "\n",
    "print(f\"Las {len(select_names)} variabs seleccionadas son:\")\n",
    "[i for i in select_names]"
   ]
  },
  {
   "cell_type": "code",
   "execution_count": 23,
   "id": "37d65a48",
   "metadata": {},
   "outputs": [
    {
     "name": "stdout",
     "output_type": "stream",
     "text": [
      "El valor de f1 score es: \n",
      " 0.993\n",
      "Otros estadísticos del test: \n",
      "               precision    recall  f1-score   support\n",
      "\n",
      "           0       1.00      1.00      1.00       787\n",
      "           1       1.00      0.99      0.99       151\n",
      "\n",
      "    accuracy                           1.00       938\n",
      "   macro avg       1.00      0.99      1.00       938\n",
      "weighted avg       1.00      1.00      1.00       938\n",
      "\n"
     ]
    },
    {
     "data": {
      "image/png": "[encoded data removed]",
      "text/plain": [
       "<Figure size 288x288 with 1 Axes>"
      ]
     },
     "metadata": {},
     "output_type": "display_data"
    }
   ],
   "source": [
    "# Score y Confusion Matrix\n",
    "\n",
    "# Evalúa el mejor modelo en tus datos de prueba\n",
    "y_pred = selected_model.predict(X_test)\n",
    "\n",
    "# Calcular la precisión de las predicciones en el conjunto de prueba\n",
    "print(f\"El valor de f1 score es: \\n {f1_score(y_test, y_pred).round(3)}\")\n",
    "print(f\"Otros estadísticos del test: \\n {classification_report(y_test, y_pred)}\")\n",
    "\n",
    "# Matriz de confusión\n",
    "cm = confusion_matrix(y_test, y_pred)\n",
    "disp = ConfusionMatrixDisplay(confusion_matrix=cm)\n",
    "\n",
    "fig, ax = plt.subplots(figsize=(4, 4))\n",
    "disp.plot(ax=ax, cmap='viridis', values_format='d', colorbar=False)\n",
    "ax.grid(False) # Deshabilitar el grid de fondo\n",
    "\n",
    "# plt.title('Matriz de confusión', fontsize=18) # Cambiar tamaño del título\n",
    "ax.spines[['bottom','top','left','right']].set_color('black')\n",
    "plt.title('Gradient Boosting', fontsize=16)\n",
    "plt.xlabel('Predicciones', fontsize=16)\n",
    "plt.ylabel('Valores Reales', fontsize=16)\n",
    "plt.xticks(fontsize=15)\n",
    "plt.yticks(fontsize=15)\n",
    "for text in ax.texts:\n",
    "    text.set_fontsize(15)\n",
    "plt.show()"
   ]
  },
  {
   "cell_type": "markdown",
   "id": "247490f2",
   "metadata": {},
   "source": [
    "## Importancia de la variables"
   ]
  },
  {
   "cell_type": "code",
   "execution_count": 15,
   "id": "c689c89c",
   "metadata": {},
   "outputs": [
    {
     "name": "stdout",
     "output_type": "stream",
     "text": [
      "5\n"
     ]
    }
   ],
   "source": [
    "## Importancia de las variabs\n",
    "\n",
    "importances = selected_model.named_steps['algorithm'].feature_importances_\n",
    "feature_names = select_names\n",
    "\n",
    "# comprobar qué opción estamos implementando:\n",
    "print(len(importances))"
   ]
  },
  {
   "cell_type": "code",
   "execution_count": 24,
   "id": "f4e3d4bb",
   "metadata": {},
   "outputs": [
    {
     "data": {
      "image/png": "[encoded data removed]",
      "text/plain": [
       "<Figure size 720x360 with 1 Axes>"
      ]
     },
     "metadata": {},
     "output_type": "display_data"
    }
   ],
   "source": [
    "# Crear un dataframe con la información\n",
    "df_importances = pd.DataFrame({'Variable': feature_names, 'Importancia': importances})\n",
    "\n",
    "# Ordenar las variables por su importancia\n",
    "df_importances = df_importances.sort_values('Importancia', ascending=False)\n",
    "\n",
    "# (recortar el nombre de las variabs, sino es muy largo)\n",
    "df_importances['Variable'] = df_importances['Variable'].replace(['scaler__', 'encoder__'], '', regex=True)\n",
    "\n",
    "# Gráfico de barras\n",
    "plt.figure(figsize=(10,5))\n",
    "# Como son demasiadas variabs, mostramos solo las n mejores:\n",
    "n = 10 # esto al final no lo he usado, pero se puede dejar así\n",
    "plt.bar(df_importances['Variable'][0:n], df_importances['Importancia'][0:n])\n",
    "plt.xticks(rotation=90, fontsize=14)\n",
    "plt.yticks(fontsize=14) \n",
    "plt.title('Importancia de las variables (Gradient Boosting)', fontsize=14) \n",
    "plt.xlabel('Variables', fontsize=14)\n",
    "plt.ylabel('Importancia', fontsize=14)\n",
    "plt.show()"
   ]
  },
  {
   "cell_type": "code",
   "execution_count": 25,
   "id": "28bdab35",
   "metadata": {},
   "outputs": [],
   "source": [
    "import pickle\n",
    "\n",
    "# Guarda los datos de puntuaciones\n",
    "with open('cv_scores_model5.pkl', 'wb') as f:\n",
    "    pickle.dump(cv_scores[modelo_optimo], f)"
   ]
  }
 ],
 "metadata": {
  "kernelspec": {
   "display_name": "Python 3 (ipykernel)",
   "language": "python",
   "name": "python3"
  },
  "language_info": {
   "codemirror_mode": {
    "name": "ipython",
    "version": 3
   },
   "file_extension": ".py",
   "mimetype": "text/x-python",
   "name": "python",
   "nbconvert_exporter": "python",
   "pygments_lexer": "ipython3",
   "version": "3.9.7"
  }
 },
 "nbformat": 4,
 "nbformat_minor": 5
}
